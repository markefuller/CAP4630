{
  "nbformat": 4,
  "nbformat_minor": 0,
  "metadata": {
    "colab": {
      "name": "HW4.ipynb",
      "provenance": [],
      "collapsed_sections": [],
      "include_colab_link": true
    },
    "kernelspec": {
      "name": "python3",
      "display_name": "Python 3"
    },
    "accelerator": "GPU"
  },
  "cells": [
    {
      "cell_type": "markdown",
      "metadata": {
        "id": "view-in-github",
        "colab_type": "text"
      },
      "source": [
        "<a href=\"https://colab.research.google.com/github/markefuller/CAP4630/blob/master/HW4.ipynb\" target=\"_parent\"><img src=\"https://colab.research.google.com/assets/colab-badge.svg\" alt=\"Open In Colab\"/></a>"
      ]
    },
    {
      "cell_type": "markdown",
      "metadata": {
        "id": "IHVFx3sHKlyh",
        "colab_type": "text"
      },
      "source": [
        "Homework 4\n",
        "UCF CAP 4630, Fall 2019\n",
        "Mark Fuller, ma138035"
      ]
    },
    {
      "cell_type": "markdown",
      "metadata": {
        "id": "XHlafqWPofzy",
        "colab_type": "text"
      },
      "source": [
        "# 0. General Concepts"
      ]
    },
    {
      "cell_type": "markdown",
      "metadata": {
        "id": "5gyPmKj-qe6G",
        "colab_type": "text"
      },
      "source": [
        "## Basic Terms\n",
        "\n",
        "![picture](https://drive.google.com/uc?id=1tyvN9ydUaO970PKmq0pgEg13Jz-bszgm)\n",
        "\n",
        "**Artificial Intelligence (AI)** - AI is a very broad term but can be defined as the effort to automate intellectual tasks normally performed by humans. It can be categorized in four ways: Acting humanly; Thinking humanly; Thinking rationaly; and Acting rationally. A process is rational if it always does the right thing based on the current information, given an ideal performance measure. Current development in AI centers around weak AI and strong AI. An example of weak AI is reactive machines that have no memory or experience upon which to base a decision, but instead rely on pure computational power and smart algorithms to recreate every decision every time. Strong AI involves relying on a small amount of memory and using that memory to avoid recalculating the descision when presented with a problem that has been seen before. \n",
        "\n",
        "**Machine Learning (ML)** - Machine learning is a subset of Artificial Intelligence. It attempts to embrace the aspect of how learning in accomplished in the broader AI field. In traditional programming, rules or algorithms along with data is processed by code to produce answers. In machine learning, large volumes of data along with labels that represent the answers are given to machine learning model for training. Training uses statistics to build a mathematical model relying on patterns and inference to make predictions on data not used during training. \n",
        "\n",
        "![picture](https://drive.google.com/uc?id=1WFy1JX_Mx2SuUsbkb4rESluHkmCU6VgU)\n",
        "\n",
        "**Deep Learning** - Deep learning is a subset of machine learning that uses models based on artificial neural networks. It processes data using\n",
        "computing units, called neurons, arranged into ordered sections, called layers. These models use multiple layers to progressively extract higher level features from the raw input in order to make predictions. One major distinguishing factor between deep learning and machine learning is that deep learning doesn't require humans to perform any feature creation activities. Deep learning uses its many layers to define its own best features.\n",
        "\n"
      ]
    },
    {
      "cell_type": "markdown",
      "metadata": {
        "id": "mEbXQYCRFahH",
        "colab_type": "text"
      },
      "source": [
        "## Learning Styles\n",
        "\n",
        "There are four learning styles used with machine learning. They are:\n",
        "\n",
        "\n",
        "1.   **Supervised learning -** All of the input data is labeled and has a specific expected result. The result could be a numeric value such as the price of a house, or a qualitative variable such as a class or tag.\n",
        "2.   **Unsupervised learning -** the input data is not labelled and the results are not known. The goals of this type of learning are often to identify unknown patterns or group similar data (clustering)   \n",
        "3.   **Self-supervised learning -** similar to supervised learning, but all of the input data does not have to be labeled. There can be a mixture of labeled and unlabeled data, and the network could ignore the labels provided. \n",
        "4.   **Reinforcement learning -** an extension of self-supervised learning that adds a feedback loop giving positive feedback when the solution performs its task correctly and negative feedback when it fails at its task.\n",
        "\n"
      ]
    },
    {
      "cell_type": "markdown",
      "metadata": {
        "id": "nbDKyv-2olRM",
        "colab_type": "text"
      },
      "source": [
        "# 1. Building a Model"
      ]
    },
    {
      "cell_type": "markdown",
      "metadata": {
        "id": "xeDAKFjI7VGj",
        "colab_type": "text"
      },
      "source": [
        "## Structure of a Convent\n",
        "\n",
        "Although the computing units of deep learning are called neurons which were modeled from neurobiology, deep learning models are not models of the brain and is strictly a mathematical framework for learning representations of data. Various types of data (Images, Text, Sound, etc.) are inputs to a convolutional neural network (Convent) for processing. This is depicted in the following diagram:\n",
        "\n",
        "![picture](https://drive.google.com/uc?id=1FvfM8-lYRwV2pH2XT82wd3-syaouptgn)\n",
        "\n",
        "Each layer in the network transforms the input into representations that are increasingly different from the original image and increasingly informative about the final result that allows for a good prediction of what it represents. Encoded within the layers are information leading to a valid prediction such as edges, corners, vertical lines, horizontal lines, etc. These features were not entered as input by humans. The layers of the network determined what it considers as important towards the goal of prediction."
      ]
    },
    {
      "cell_type": "markdown",
      "metadata": {
        "id": "hhhXtiTqEY6z",
        "colab_type": "text"
      },
      "source": [
        "## Components of a Convent\n",
        "\n",
        "The components of a convolutional neural network consist of:\n",
        "\n",
        "\n",
        "*   Layers - ordered sections of neurons that takes as input one or more tensors and outputs one or more tensors. Tensors are data stored in multidimensional Numpy arrays.\n",
        "*   Input Data (X) - any information that can be expressed in a tensor. Common examples include images, video, text, sound, and tabular data.\n",
        "*   Targets (Y) - the actual labels or identification of the input data for training or the prediction made on unknown or test data\n",
        "*   Loss function - a measure of the distance between a prediction and its actual value used as a feedback signal for learning\n",
        "*   Optimizer - an algorithm that implements backpropagation to adjust the weights of all layers so that the loss is minimized\n",
        "\n",
        "The following diagram shows the relationship between the network, layers, loss function, and optimizer.\n",
        "\n",
        "![picture](https://drive.google.com/uc?id=1Po3PyybcUlljl5C87BJYondyalfJhx0g)\n",
        "\n"
      ]
    },
    {
      "cell_type": "markdown",
      "metadata": {
        "id": "RtP8sgMBf4Bl",
        "colab_type": "text"
      },
      "source": [
        "## Outline of Machine Learning Process \n",
        "\n",
        "There are several steps to defining a neural network. These can be generalized as follows:\n",
        "\n",
        "\n",
        "1.   Defining the problem and assembling a dataset\n",
        "2.   Choosing a measure of success\n",
        "3.   Deciding on an evaluation protocol\n",
        "4.   Preparing your data\n",
        "5.   Developing a model that does better than a baseline\n",
        "6.   Scaling up: developing a model that overfits\n",
        "7.   Regularizing your model and tuning your hyperparameters\n",
        "\n"
      ]
    },
    {
      "cell_type": "markdown",
      "metadata": {
        "id": "1v2Pe_-TGjqV",
        "colab_type": "text"
      },
      "source": [
        "## An Example Convolutional Neural Network (CNN)\n",
        "\n",
        "The following steps are listed below in code cells to illustrate an example CNN. The steps are as follows:\n",
        "\n",
        "\n",
        "1.   Acquire dataset\n",
        "2.   Prepare data for training as needed by model\n",
        "3.   Define the model\n",
        "4.   Compile the model\n",
        "5.   Evaluate the model\n",
        "6.   Visualize the results\n",
        "\n"
      ]
    },
    {
      "cell_type": "markdown",
      "metadata": {
        "id": "zVRQ6q6-EdYW",
        "colab_type": "text"
      },
      "source": [
        "## Defining a Model\n",
        "\n",
        "Keras is model-level library providing an easy interface for defining the components of a deep learning network. It does not handle the low level tensor manipulation and differentiation mathematics. Those functions are defined by a tensor library such as Tensorflow, Theano, and CNTK. \n",
        "\n",
        "An example CNN follows:"
      ]
    },
    {
      "cell_type": "code",
      "metadata": {
        "id": "p8D1CrM4eJol",
        "colab_type": "code",
        "colab": {
          "base_uri": "https://localhost:8080/",
          "height": 34
        },
        "outputId": "16087dbd-50ff-4eac-893d-d53d5820b36d"
      },
      "source": [
        "# Step 1) Acquire Dataset\n",
        "%tensorflow_version 1.x\n",
        "from keras.datasets import mnist\n",
        "(train_images, train_labels), (test_images, test_labels) = mnist.load_data()"
      ],
      "execution_count": 1,
      "outputs": [
        {
          "output_type": "stream",
          "text": [
            "Using TensorFlow backend.\n"
          ],
          "name": "stderr"
        }
      ]
    },
    {
      "cell_type": "code",
      "metadata": {
        "id": "yOrkVwBpeOBb",
        "colab_type": "code",
        "colab": {}
      },
      "source": [
        "# Step 2) Prepare Data for Training Model\n",
        "train_images = train_images.reshape((train_images.shape[0], 28, 28, 1))\n",
        "test_images = test_images.reshape((test_images.shape[0], 28, 28, 1))\n",
        "input_shape = (28, 28, 1)\n",
        "\n",
        "train_images = train_images.astype('float32') / 255\n",
        "test_images = test_images.astype('float32') / 255\n",
        "\n",
        "# Prepare labels if needed for Training Model - one hot encoding\n",
        "from keras.utils import to_categorical\n",
        "train_labels = to_categorical(train_labels)\n",
        "test_labels = to_categorical(test_labels)"
      ],
      "execution_count": 0,
      "outputs": []
    },
    {
      "cell_type": "code",
      "metadata": {
        "id": "anaadDCxeZpS",
        "colab_type": "code",
        "colab": {
          "base_uri": "https://localhost:8080/",
          "height": 122
        },
        "outputId": "58508d8c-a665-4035-9f9d-39d197885c84"
      },
      "source": [
        "# Step 3) Define the Model\n",
        "from keras.models import Sequential\n",
        "from keras.layers import Dense, Conv2D, Dropout, Flatten, MaxPooling2D\n",
        "# Creating a Sequential Model and adding the layers\n",
        "model = Sequential()\n",
        "model.add(Conv2D(28, kernel_size=(3,3), input_shape=input_shape))\n",
        "model.add(MaxPooling2D(pool_size=(2, 2)))\n",
        "model.add(Flatten()) # Flattening the 2D arrays for fully connected layers\n",
        "model.add(Dense(128, activation='relu'))\n",
        "model.add(Dropout(0.2))\n",
        "model.add(Dense(10,activation='softmax'))"
      ],
      "execution_count": 6,
      "outputs": [
        {
          "output_type": "stream",
          "text": [
            "WARNING:tensorflow:From /usr/local/lib/python3.6/dist-packages/keras/backend/tensorflow_backend.py:148: The name tf.placeholder_with_default is deprecated. Please use tf.compat.v1.placeholder_with_default instead.\n",
            "\n",
            "WARNING:tensorflow:From /usr/local/lib/python3.6/dist-packages/keras/backend/tensorflow_backend.py:3733: calling dropout (from tensorflow.python.ops.nn_ops) with keep_prob is deprecated and will be removed in a future version.\n",
            "Instructions for updating:\n",
            "Please use `rate` instead of `keep_prob`. Rate should be set to `rate = 1 - keep_prob`.\n"
          ],
          "name": "stdout"
        }
      ]
    },
    {
      "cell_type": "markdown",
      "metadata": {
        "id": "AjEZDoVs4ANN",
        "colab_type": "text"
      },
      "source": [
        "## Layers\n",
        "\n",
        "Layers are ordered sections of neurons that takes as input one or more tensors and outputs one or more tensors. Deep learning models typically have many layers in them, sometimes hundreds of layers. The Keras framework provides different types of layers that can be used to build a model. They include:\n",
        "\n",
        "\n",
        "\n",
        "1.   **Core layers -** including Dense, Activation, Dropout, Flatten, Input, Reshape, Permute, RepeatVector, Lambda, ActivityRegularization, Masking, SpatialDropout1D, SpatialDropout2D, and SpatialDropout3D.\n",
        "2.   **Convolutional layers -** including Conv1D, Conv2D, SeparableConv1D, SeparableConv2D, DepthwiseConv2D, Conv2DTranspose, Conv3D, Conv3DTranspose, Cropping1D, Cropping2D, Cropping3D, UpSampling1D, UpSampling2D, UpSampling3D, ZeroPadding1D, ZeroPadding2D, and ZeroPadding3D\n",
        "3.   **Pooling layers -** including MaxPooling1D, MaxPooling2D, MaxPooling3D, AveragePooling1D, AveragePooling2D, AveragePooling3D, GlobalMaxPooling1D, GlobalMaxPooling2D, GlobalMaxPooling3D, GlobalAveragePooling1D, GlobalAveragePooling2D, and GlobalAveragePooling3D\n",
        "4.   **Locally-connected layers -** including LocallyConnected1D and LocallyConnected2D.\n",
        "5.   **Recurrent layers -** including RNN, SimpleRNN, GRU, LSTM, ConvLSTM2D, ConvLSTM2DCell, SimpleRNNCell, GRUCell, LSTMCell, CuDNNGRU, and CuDNNLSTM\n",
        "6.   **Merge layers -** including Add, Subtract, Multiply, Average, Maximum, Minimum, Concatenate, and Dot\n",
        "7.   **Activation layers -** including LeakyReLU, PReLU, ELU, ThresholdedReLU, Softmax, and ReLU\n",
        "8.   **Normalization layers -** BatchNormalization\n",
        "9.   **Noise layers -** including GaussianNoise, GaussianDropout, and AlphaDropout\n",
        "\n",
        "The simple model defined above used a **Conv2D** to create a spatial convolution window of size 3x3 over the images of size 28x28. It then used a **MaxPooling2D** layer to down-sample the input reducing its dimensionality in part to help over-fitting. the model then used a **flatten** layer to convert the output of the convolutional part to a 1D feature vector which is needed by the classifier. The classifier portion of the network is composed of a **Dense** layer for the fully connected layer, a **dropout** layer to fight overfitting, and finally a **Dense** layer with the softmax activation function limiting the predictions to the number of classifications desired."
      ]
    },
    {
      "cell_type": "markdown",
      "metadata": {
        "id": "ZCMIt63UooRa",
        "colab_type": "text"
      },
      "source": [
        "# 2. Compiling a Model"
      ]
    },
    {
      "cell_type": "markdown",
      "metadata": {
        "id": "LJmY7utO7gP-",
        "colab_type": "text"
      },
      "source": [
        "## Optimizers\n",
        "\n",
        "An optimizer is one of the two arguments required for compiling a Keras model. It is the mechanism through which the network will update itself based on the data it sees and its loss function. It implements a specific variant of stochastic gradient descent (SGD). There are many different optimizers supported by the Keras framework. They include:\n",
        "\n",
        "\n",
        "1.   **Adagrad -** Adagrad is an optimizer with parameter-specific learning rates, which are adapted relative to how frequently a parameter gets updated during training. The more updates a parameter receives, the smaller the learning rate. It is recommended to leave the parameters of this optimizer at their default values.\n",
        "2.   **Adadelta -** Adadelta is a more robust extension of Adagrad that adapts learning rates based on a moving window of gradient updates, instead of accumulating all past gradients. This way, Adadelta continues learning even when many updates have been done. \n",
        "3.   **RMSprop -** Divides the gradient by a running average of its recent magnitude. It is recommended to leave the parameters of this optimizer at their default values (except the learning rate, which can be freely tuned).\n",
        "4.   **Adam - ** An algorithm for first-order gradient-based optimization of stochastic objective functions, based on adaptive estimates of lower-order moments.\n",
        "5.   **Adamax -** It is a variant of Adam based on the infinity norm.\n",
        "6.   **Nadam -** Nesterov Adam optimizer, much like Adam, is essentially RMSprop with momentum, Nadam is RMSprop with Nesterov momentum. It is recommended to leave the parameters of this optimizer at their default values.\n",
        "7.   **SGD -** Stochastic gradient descent optimizer which includes support for momentum, learning rate decay, and Nesterov momentum.\n",
        "\n",
        "\n"
      ]
    },
    {
      "cell_type": "markdown",
      "metadata": {
        "id": "BO3W3fURsVPn",
        "colab_type": "text"
      },
      "source": [
        "## Loss Function\n",
        "\n",
        "A loss function (or objective function, or optimization score function) is one of the two parameters required to compile a model. It represents how the network will be able to measure its performance on the training data, and thus how it will be able to steer itself in the right direction. There are many loss functions provided by the Keras framework. They include:\n",
        "\n",
        "\n",
        "1.   **mean_squared_error**\n",
        "2.   **mean_absolute_error**\n",
        "3.   **mean_absolute_percentage_error**\n",
        "4.   **mean_squared_logarithmic_error**\n",
        "5.   **squared_hinge**\n",
        "6.   **hinge**\n",
        "7.   **categorical_hinge**\n",
        "8.   **logcosh**\n",
        "9.   **huber_loss**\n",
        "10.  **categorical_crossentropy**\n",
        "11.  **sparse_categorical_crossentropy**\n",
        "12.  **binary_crossentropy**\n",
        "13.  **kullback_leibler_divergence**\n",
        "14.  **poisson**\n",
        "15.  **cosine_proximity**\n",
        "16.  **is_categorical_crossentropy**\n",
        "\n",
        "\n"
      ]
    },
    {
      "cell_type": "markdown",
      "metadata": {
        "id": "65lje_bDyrlo",
        "colab_type": "text"
      },
      "source": [
        "## Metrics\n",
        "\n",
        "A metric is a function that is used to judge the performance of your model. it is usually specified in the compilation of a model, but it not a required parameter. A metric function is similar to a loss function, except that the results from evaluating a metric are not used when training the model. You may use any of the loss functions as a metric function. Additional metric functions provided by the Keras framework include:\n",
        "\n",
        "\n",
        "1.   **accuracy**\n",
        "2.   **binary_accuracy**\n",
        "3.   **categorical_accuracy**\n",
        "4.   **sparse_categorical_accuracy**\n",
        "5.   **top_k_categorical_accuracy**\n",
        "6.   **sparse_top_k_categorical_accuracy**\n",
        "7.   **cosine_proximity**\n",
        "8.   **clone_metric**\n",
        "9.   **clone_metrics**\n",
        "\n",
        "It is also possible to create custom metric function instead of using the functions supplied by Keras. The next code cell shows compilation of a model using the two required parameters and the optional metrics parameter.\n",
        "\n"
      ]
    },
    {
      "cell_type": "code",
      "metadata": {
        "id": "yfXqJnDdedpm",
        "colab_type": "code",
        "colab": {}
      },
      "source": [
        "# Step 4) Compile the Model\n",
        "model.compile(optimizer='adam',\n",
        "loss='categorical_crossentropy',\n",
        "metrics=['accuracy'])"
      ],
      "execution_count": 0,
      "outputs": []
    },
    {
      "cell_type": "markdown",
      "metadata": {
        "id": "6tqF6yB3otFB",
        "colab_type": "text"
      },
      "source": [
        "# 3. Training a Model"
      ]
    },
    {
      "cell_type": "markdown",
      "metadata": {
        "id": "tCwahSTX_a8h",
        "colab_type": "text"
      },
      "source": [
        "## Underfitting\n",
        "\n",
        "Underfitting is the inability of the model to predict well the labels of the data it was trained on. The most common causes are:\n",
        "\n",
        "\n",
        "1.   The model is too simple for the data\n",
        "2.   The features are not informative enough\n",
        "3.   There is not enough data to train on\n",
        "\n",
        "In deep learning, a simple solution for underfitting is to add additional layers to the model provided that there is sufficient data to train on.\n",
        "\n"
      ]
    },
    {
      "cell_type": "markdown",
      "metadata": {
        "id": "kx6yHrIb7nGM",
        "colab_type": "text"
      },
      "source": [
        "## Overfitting\n",
        "\n",
        "Overfitting is a central problem of machine learning. It is when the model contains more parameters than can be justified by the data. It results in a network model performing excellent on the training data, but unable to replicate the accuracy on test data. There are several methods to combat overfitting. They include:\n",
        "\n",
        "\n",
        "1.   Reduce the networks size by lowering the trainable parameters. \n",
        "2.   Adding weight regularization by forcing the model to only use small values for its weights which makes the distribution of weight values more regular.\n",
        "3.   Adding dropout layers randomly drops out a number of output features of the layer during training\n",
        "4.   Add more training data. \n",
        "5.   Data augmentation to create variance in the input data using techniques such as cropping, padding, horizontal flipping, rotating, zooming, and other methods. "
      ]
    },
    {
      "cell_type": "markdown",
      "metadata": {
        "id": "-JbbuzfJExGI",
        "colab_type": "text"
      },
      "source": [
        "# Training\n",
        "\n",
        "The next code cell shows an example of actually training a model."
      ]
    },
    {
      "cell_type": "code",
      "metadata": {
        "id": "ui6WAAVYehOW",
        "colab_type": "code",
        "colab": {
          "base_uri": "https://localhost:8080/",
          "height": 717
        },
        "outputId": "c2714e1f-88c1-4962-bf31-4014a76b23c3"
      },
      "source": [
        "# Step 5) Train the Model\n",
        "epochs = 10\n",
        "batch_size = 128\n",
        "history = model.fit(train_images, train_labels, epochs=epochs, batch_size=batch_size, validation_data=(test_images,test_labels))"
      ],
      "execution_count": 10,
      "outputs": [
        {
          "output_type": "stream",
          "text": [
            "WARNING:tensorflow:From /usr/local/lib/python3.6/dist-packages/tensorflow_core/python/ops/math_grad.py:1424: where (from tensorflow.python.ops.array_ops) is deprecated and will be removed in a future version.\n",
            "Instructions for updating:\n",
            "Use tf.where in 2.0, which has the same broadcast rule as np.where\n",
            "WARNING:tensorflow:From /usr/local/lib/python3.6/dist-packages/keras/backend/tensorflow_backend.py:1033: The name tf.assign_add is deprecated. Please use tf.compat.v1.assign_add instead.\n",
            "\n",
            "WARNING:tensorflow:From /usr/local/lib/python3.6/dist-packages/keras/backend/tensorflow_backend.py:1020: The name tf.assign is deprecated. Please use tf.compat.v1.assign instead.\n",
            "\n",
            "WARNING:tensorflow:From /usr/local/lib/python3.6/dist-packages/keras/backend/tensorflow_backend.py:3005: The name tf.Session is deprecated. Please use tf.compat.v1.Session instead.\n",
            "\n",
            "Train on 60000 samples, validate on 10000 samples\n",
            "Epoch 1/10\n",
            "WARNING:tensorflow:From /usr/local/lib/python3.6/dist-packages/keras/backend/tensorflow_backend.py:190: The name tf.get_default_session is deprecated. Please use tf.compat.v1.get_default_session instead.\n",
            "\n",
            "WARNING:tensorflow:From /usr/local/lib/python3.6/dist-packages/keras/backend/tensorflow_backend.py:197: The name tf.ConfigProto is deprecated. Please use tf.compat.v1.ConfigProto instead.\n",
            "\n",
            "WARNING:tensorflow:From /usr/local/lib/python3.6/dist-packages/keras/backend/tensorflow_backend.py:207: The name tf.global_variables is deprecated. Please use tf.compat.v1.global_variables instead.\n",
            "\n",
            "WARNING:tensorflow:From /usr/local/lib/python3.6/dist-packages/keras/backend/tensorflow_backend.py:216: The name tf.is_variable_initialized is deprecated. Please use tf.compat.v1.is_variable_initialized instead.\n",
            "\n",
            "WARNING:tensorflow:From /usr/local/lib/python3.6/dist-packages/keras/backend/tensorflow_backend.py:223: The name tf.variables_initializer is deprecated. Please use tf.compat.v1.variables_initializer instead.\n",
            "\n",
            "60000/60000 [==============================] - 8s 139us/step - loss: 0.2803 - acc: 0.9181 - val_loss: 0.1034 - val_acc: 0.9693\n",
            "Epoch 2/10\n",
            "60000/60000 [==============================] - 5s 76us/step - loss: 0.1063 - acc: 0.9683 - val_loss: 0.0700 - val_acc: 0.9780\n",
            "Epoch 3/10\n",
            "60000/60000 [==============================] - 5s 77us/step - loss: 0.0713 - acc: 0.9784 - val_loss: 0.0566 - val_acc: 0.9823\n",
            "Epoch 4/10\n",
            "60000/60000 [==============================] - 5s 79us/step - loss: 0.0549 - acc: 0.9833 - val_loss: 0.0599 - val_acc: 0.9806\n",
            "Epoch 5/10\n",
            "60000/60000 [==============================] - 5s 75us/step - loss: 0.0435 - acc: 0.9864 - val_loss: 0.0540 - val_acc: 0.9836\n",
            "Epoch 6/10\n",
            "60000/60000 [==============================] - 5s 76us/step - loss: 0.0358 - acc: 0.9879 - val_loss: 0.0499 - val_acc: 0.9849\n",
            "Epoch 7/10\n",
            "60000/60000 [==============================] - 5s 75us/step - loss: 0.0296 - acc: 0.9911 - val_loss: 0.0457 - val_acc: 0.9863\n",
            "Epoch 8/10\n",
            "60000/60000 [==============================] - 5s 76us/step - loss: 0.0256 - acc: 0.9915 - val_loss: 0.0531 - val_acc: 0.9842\n",
            "Epoch 9/10\n",
            "60000/60000 [==============================] - 5s 75us/step - loss: 0.0208 - acc: 0.9932 - val_loss: 0.0461 - val_acc: 0.9850\n",
            "Epoch 10/10\n",
            "60000/60000 [==============================] - 5s 75us/step - loss: 0.0183 - acc: 0.9936 - val_loss: 0.0487 - val_acc: 0.9859\n"
          ],
          "name": "stdout"
        }
      ]
    },
    {
      "cell_type": "markdown",
      "metadata": {
        "id": "rhz3yg6LE3bE",
        "colab_type": "text"
      },
      "source": [
        "# Visualizing the Results of Training\n",
        "\n",
        "After training a model, it is common to visualize the results of the training using graphs to plot losses and accuracies. It is also possible to produce representations of the inner workings of a model. "
      ]
    },
    {
      "cell_type": "code",
      "metadata": {
        "id": "rUvbmgQwjkc1",
        "colab_type": "code",
        "colab": {
          "base_uri": "https://localhost:8080/",
          "height": 295
        },
        "outputId": "15be2666-35ad-4595-94bc-bc1a7183f399"
      },
      "source": [
        "# Step 6) Visualizing the Results\n",
        "import matplotlib.pyplot as plt\n",
        "\n",
        "history_dict = history.history\n",
        "loss_values = history_dict['loss']\n",
        "test_loss_values = history_dict['val_loss']\n",
        "epochs_range = range(1, epochs + 1)\n",
        "\n",
        "plt.plot(epochs_range, loss_values, 'bo', label='Training loss')\n",
        "plt.plot(epochs_range, test_loss_values, 'ro', label='Test loss')\n",
        "plt.title('Training and test loss')\n",
        "plt.xlabel('Epochs')\n",
        "plt.ylabel('Loss')\n",
        "plt.legend()\n",
        "plt.show()"
      ],
      "execution_count": 11,
      "outputs": [
        {
          "output_type": "display_data",
          "data": {
            "image/png": "[encoded data removed]",
            "text/plain": [
              "<Figure size 432x288 with 1 Axes>"
            ]
          },
          "metadata": {
            "tags": []
          }
        }
      ]
    },
    {
      "cell_type": "code",
      "metadata": {
        "id": "yEE911iOnjRr",
        "colab_type": "code",
        "colab": {
          "base_uri": "https://localhost:8080/",
          "height": 295
        },
        "outputId": "4c28bbae-952e-4f9c-f98d-80752e0714be"
      },
      "source": [
        "acc_values = history_dict['acc']\n",
        "test_acc_values = history_dict['val_acc']\n",
        "\n",
        "plt.plot(epochs_range, acc_values, 'bo', label='Training accuracy')\n",
        "plt.plot(epochs_range, test_acc_values, 'ro', label='Test accuracy')\n",
        "plt.title('Training and test accuracy')\n",
        "plt.xlabel('Epochs')\n",
        "plt.ylabel('Accuracy')\n",
        "plt.legend()\n",
        "plt.show()\n",
        "\n"
      ],
      "execution_count": 12,
      "outputs": [
        {
          "output_type": "display_data",
          "data": {
            "image/png": "[encoded data removed]",
            "text/plain": [
              "<Figure size 432x288 with 1 Axes>"
            ]
          },
          "metadata": {
            "tags": []
          }
        }
      ]
    },
    {
      "cell_type": "markdown",
      "metadata": {
        "id": "Q_Asu2M-o6QD",
        "colab_type": "text"
      },
      "source": [
        "# 4. Finetuning a Pretrained Model\n",
        "\n",
        "Models can be built from scratch as the example above illustrated using the simple model with very few layers. As the number of layers increases, the time needed to train the model will also increase substanially. If massive clusters of GPU resources and RAM resources are not available, then it may be impractical to train very large datasets using very deep models. \n",
        "\n",
        "A common and highly effective approach to deep learning on small image datasets is to use a pretrained network. A pretrained network is a saved network that was previously trained on a large dataset, typically on a large-scale image classification task.\n",
        "\n",
        "There are many pretrained networks available as part of the Keras framework. These include:\n",
        "\n",
        "\n",
        "1.   Xception\n",
        "2.   VGG16\n",
        "3.   VGG19\n",
        "4.   ResNet, ResNetV2\n",
        "5.   InceptionV3\n",
        "6.   InceptionResNetV2\n",
        "7.   MobileNet\n",
        "8.   MobileNetV2\n",
        "9.   DenseNet\n",
        "10.  NASNet \n",
        "\n",
        "A pretrained network consist of a trained convolutional base along with a trained classifier. A deeply trained convolutional base will have captured many aspects of the input data that can be generalized and used with a completely different classifier. For example, a pretrained network designed to classify images among 1000 different categories can be reused to detect objects it was never training on such as specific iamges of military tanks. \n",
        "\n",
        "This is accomplished by freezing the layers of the trained convolutional base so that backpropagation of the optimizer is not allowed to adjust the weights already learned. The trained classifier is then removed and a new classifier is added on top of the pretrained base. The new model is then trained, with adjustments only made to the classifier layers. \n",
        "\n",
        "If the results of the this new training is not sufficient, then the model can be fine tuned. This is accomplished by unfreezing the last few layers of the base model, and performing training again with more paramters able to be adjusted. The reason for not simply unfreezing all the layers is the computational resources (GPU, RAM) needed and the time it would take to train on deep layered models. \n",
        "\n"
      ]
    }
  ]
}