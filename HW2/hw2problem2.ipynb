{
  "nbformat": 4,
  "nbformat_minor": 0,
  "metadata": {
    "colab": {
      "name": "hw2problem2.ipynb",
      "provenance": [],
      "include_colab_link": true
    },
    "kernelspec": {
      "name": "python3",
      "display_name": "Python 3"
    },
    "accelerator": "GPU"
  },
  "cells": [
    {
      "cell_type": "markdown",
      "metadata": {
        "id": "view-in-github",
        "colab_type": "text"
      },
      "source": [
        "<a href=\"https://colab.research.google.com/github/markefuller/CAP4630/blob/master/HW2/hw2problem2.ipynb\" target=\"_parent\"><img src=\"https://colab.research.google.com/assets/colab-badge.svg\" alt=\"Open In Colab\"/></a>"
      ]
    },
    {
      "cell_type": "markdown",
      "metadata": {
        "id": "qRHuC1RFN9ou",
        "colab_type": "text"
      },
      "source": [
        "# Mark E Fuller\n",
        "UCF CAP 4630 Fall 2019\n",
        "\n",
        "**Homework 2 Problem 2:**\n",
        "\n",
        "Modify the network architecture in [the notebook for classifying MNIST fashion items](https://colab.research.google.com/drive/1TTO7P5GTmsHhIt_YGqZYyw4KGBCnjqyW) with dense layers and analyzing model performance by varying the number of hidden layers and choosing different sizes for the hidden layers.\n",
        "\n",
        "Give three models consisting of only dense layers that\n",
        "\n",
        "•\tfirst model underfits (the model is too simple and cannot explain the data)\n",
        "\n",
        "•\tsecond model overfits (the model is unnecessarily complex so it can easily adapt too much to the training data)\n",
        "\n",
        "•\tthird is pretty good (the model is either too simple, nor too complex; you don't train for too many epochs; you use dropout to fight overfitting)\n",
        "\n",
        "Make sure that you plot the curves depicting the training/validation accuracy/loss.\n"
      ]
    },
    {
      "cell_type": "markdown",
      "metadata": {
        "id": "fcH4FS5UiPTf",
        "colab_type": "text"
      },
      "source": [
        "# Exploring the MNIST Fashion Data Set"
      ]
    },
    {
      "cell_type": "markdown",
      "metadata": {
        "id": "l34GNy7tyNks",
        "colab_type": "text"
      },
      "source": [
        "## Loading the MNIST fashion data set"
      ]
    },
    {
      "cell_type": "code",
      "metadata": {
        "id": "FSJyddqGexl5",
        "colab_type": "code",
        "outputId": "8ad78540-037c-41f3-bc6e-7e8a5ec1c29d",
        "colab": {
          "base_uri": "https://localhost:8080/",
          "height": 750
        }
      },
      "source": [
        "import tensorflow as tf\n",
        "from tensorflow import keras\n",
        "\n",
        "fashion_mnist = keras.datasets.fashion_mnist\n",
        "\n",
        "(train_images, train_labels), (test_images, test_labels) = fashion_mnist.load_data()\n",
        "\n",
        "# Find GPU Model Assigned by Colab\n",
        "# Tesla P100 cost $5,600\n",
        "# Tesla T4 cost $2,700\n",
        "from tensorflow.python.client import device_lib\n",
        "print(device_lib.list_local_devices())"
      ],
      "execution_count": 0,
      "outputs": [
        {
          "output_type": "display_data",
          "data": {
            "text/html": [
              "<p style=\"color: red;\">\n",
              "The default version of TensorFlow in Colab will soon switch to TensorFlow 2.x.<br>\n",
              "We recommend you <a href=\"https://www.tensorflow.org/guide/migrate\" target=\"_blank\">upgrade</a> now \n",
              "or ensure your notebook will continue to use TensorFlow 1.x via the <code>%tensorflow_version 1.x</code> magic:\n",
              "<a href=\"https://colab.research.google.com/notebooks/tensorflow_version.ipynb\" target=\"_blank\">more info</a>.</p>\n"
            ],
            "text/plain": [
              "<IPython.core.display.HTML object>"
            ]
          },
          "metadata": {
            "tags": []
          }
        },
        {
          "output_type": "stream",
          "text": [
            "Downloading data from https://storage.googleapis.com/tensorflow/tf-keras-datasets/train-labels-idx1-ubyte.gz\n",
            "32768/29515 [=================================] - 0s 0us/step\n",
            "Downloading data from https://storage.googleapis.com/tensorflow/tf-keras-datasets/train-images-idx3-ubyte.gz\n",
            "26427392/26421880 [==============================] - 0s 0us/step\n",
            "Downloading data from https://storage.googleapis.com/tensorflow/tf-keras-datasets/t10k-labels-idx1-ubyte.gz\n",
            "8192/5148 [===============================================] - 0s 0us/step\n",
            "Downloading data from https://storage.googleapis.com/tensorflow/tf-keras-datasets/t10k-images-idx3-ubyte.gz\n",
            "4423680/4422102 [==============================] - 0s 0us/step\n",
            "[name: \"/device:CPU:0\"\n",
            "device_type: \"CPU\"\n",
            "memory_limit: 268435456\n",
            "locality {\n",
            "}\n",
            "incarnation: 14344350583294778022\n",
            ", name: \"/device:XLA_CPU:0\"\n",
            "device_type: \"XLA_CPU\"\n",
            "memory_limit: 17179869184\n",
            "locality {\n",
            "}\n",
            "incarnation: 4807579413606523059\n",
            "physical_device_desc: \"device: XLA_CPU device\"\n",
            ", name: \"/device:XLA_GPU:0\"\n",
            "device_type: \"XLA_GPU\"\n",
            "memory_limit: 17179869184\n",
            "locality {\n",
            "}\n",
            "incarnation: 1602894672568577248\n",
            "physical_device_desc: \"device: XLA_GPU device\"\n",
            ", name: \"/device:GPU:0\"\n",
            "device_type: \"GPU\"\n",
            "memory_limit: 15956161332\n",
            "locality {\n",
            "  bus_id: 1\n",
            "  links {\n",
            "  }\n",
            "}\n",
            "incarnation: 3123234629827479445\n",
            "physical_device_desc: \"device: 0, name: Tesla P100-PCIE-16GB, pci bus id: 0000:00:04.0, compute capability: 6.0\"\n",
            "]\n"
          ],
          "name": "stdout"
        }
      ]
    },
    {
      "cell_type": "markdown",
      "metadata": {
        "id": "XuWVQX3CySIC",
        "colab_type": "text"
      },
      "source": [
        "## Exploring the format of the MNIST fashion data set"
      ]
    },
    {
      "cell_type": "code",
      "metadata": {
        "id": "HKyztEf4fkBg",
        "colab_type": "code",
        "outputId": "fccaf11e-a373-41e6-ba39-514620365787",
        "colab": {
          "base_uri": "https://localhost:8080/",
          "height": 35
        }
      },
      "source": [
        "train_images.shape"
      ],
      "execution_count": 0,
      "outputs": [
        {
          "output_type": "execute_result",
          "data": {
            "text/plain": [
              "(60000, 28, 28)"
            ]
          },
          "metadata": {
            "tags": []
          },
          "execution_count": 2
        }
      ]
    },
    {
      "cell_type": "code",
      "metadata": {
        "id": "vA81OpzFyjyS",
        "colab_type": "code",
        "outputId": "64678c2f-ecd2-42e8-8abb-aaf98186436b",
        "colab": {
          "base_uri": "https://localhost:8080/",
          "height": 35
        }
      },
      "source": [
        "len(train_images)"
      ],
      "execution_count": 0,
      "outputs": [
        {
          "output_type": "execute_result",
          "data": {
            "text/plain": [
              "60000"
            ]
          },
          "metadata": {
            "tags": []
          },
          "execution_count": 3
        }
      ]
    },
    {
      "cell_type": "code",
      "metadata": {
        "id": "w85BC1AXxwds",
        "colab_type": "code",
        "outputId": "175c0b14-36ea-4ac0-dea0-c9488628cd2d",
        "colab": {
          "base_uri": "https://localhost:8080/",
          "height": 35
        }
      },
      "source": [
        "train_images.ndim"
      ],
      "execution_count": 0,
      "outputs": [
        {
          "output_type": "execute_result",
          "data": {
            "text/plain": [
              "3"
            ]
          },
          "metadata": {
            "tags": []
          },
          "execution_count": 4
        }
      ]
    },
    {
      "cell_type": "code",
      "metadata": {
        "id": "1sHFiZBFxnrB",
        "colab_type": "code",
        "outputId": "86f3364f-f2de-42c0-b9c8-72daecedfb1d",
        "colab": {
          "base_uri": "https://localhost:8080/",
          "height": 35
        }
      },
      "source": [
        "train_images.dtype"
      ],
      "execution_count": 0,
      "outputs": [
        {
          "output_type": "execute_result",
          "data": {
            "text/plain": [
              "dtype('uint8')"
            ]
          },
          "metadata": {
            "tags": []
          },
          "execution_count": 5
        }
      ]
    },
    {
      "cell_type": "code",
      "metadata": {
        "id": "euQWeEkpyCL5",
        "colab_type": "code",
        "outputId": "dd6dbb19-6013-4cde-9bfc-84682003f7e5",
        "colab": {
          "base_uri": "https://localhost:8080/",
          "height": 35
        }
      },
      "source": [
        "train_labels"
      ],
      "execution_count": 0,
      "outputs": [
        {
          "output_type": "execute_result",
          "data": {
            "text/plain": [
              "array([9, 0, 0, ..., 3, 0, 5], dtype=uint8)"
            ]
          },
          "metadata": {
            "tags": []
          },
          "execution_count": 6
        }
      ]
    },
    {
      "cell_type": "code",
      "metadata": {
        "id": "jqv0aUL-gGU_",
        "colab_type": "code",
        "outputId": "5698ee6f-96dc-48a7-b4ce-7806ddca4335",
        "colab": {
          "base_uri": "https://localhost:8080/",
          "height": 35
        }
      },
      "source": [
        "len(train_labels)"
      ],
      "execution_count": 0,
      "outputs": [
        {
          "output_type": "execute_result",
          "data": {
            "text/plain": [
              "60000"
            ]
          },
          "metadata": {
            "tags": []
          },
          "execution_count": 7
        }
      ]
    },
    {
      "cell_type": "code",
      "metadata": {
        "id": "aa2r6ZRcO7XV",
        "colab_type": "code",
        "colab": {}
      },
      "source": [
        "class_names = ['T-shirt/top', 'Trouser', 'Pullover', 'Dress', 'Coat',\n",
        "               'Sandal', 'Shirt', 'Sneaker', 'Bag', 'Ankle boot']"
      ],
      "execution_count": 0,
      "outputs": []
    },
    {
      "cell_type": "markdown",
      "metadata": {
        "id": "dmQ2siA7ywPx",
        "colab_type": "text"
      },
      "source": [
        "## Displaying some MNIST fashion items"
      ]
    },
    {
      "cell_type": "code",
      "metadata": {
        "id": "uSj4HIhWzBxl",
        "colab_type": "code",
        "colab": {}
      },
      "source": [
        "import matplotlib.pyplot as plt\n",
        "import numpy as np"
      ],
      "execution_count": 0,
      "outputs": []
    },
    {
      "cell_type": "code",
      "metadata": {
        "id": "1Gdt3obzgQaY",
        "colab_type": "code",
        "outputId": "bc90c38e-d1ef-4f72-b0cf-5f974d339a9c",
        "colab": {
          "base_uri": "https://localhost:8080/",
          "height": 589
        }
      },
      "source": [
        "plt.figure(figsize=(10,10))\n",
        "indices = np.random.choice(np.arange(60000), size=25, replace=False)\n",
        "for i in range(25):\n",
        "    plt.subplot(5,5,i+1)\n",
        "    plt.xticks([])\n",
        "    plt.yticks([])\n",
        "    plt.grid(False)\n",
        "    plt.imshow(train_images[i], cmap=plt.cm.binary)\n",
        "    plt.xlabel(class_names[train_labels[i]])\n",
        "plt.show()"
      ],
      "execution_count": 0,
      "outputs": [
        {
          "output_type": "display_data",
          "data": {
            "image/png": "[encoded data removed]",
            "text/plain": [
              "<Figure size 720x720 with 25 Axes>"
            ]
          },
          "metadata": {
            "tags": []
          }
        }
      ]
    },
    {
      "cell_type": "markdown",
      "metadata": {
        "id": "Rcch4U30N53_",
        "colab_type": "text"
      },
      "source": [
        "The data must be preprocessed before training the network. If you inspect the first image in the training set, you will see that the pixel values fall in the range of 0 to 255:"
      ]
    },
    {
      "cell_type": "code",
      "metadata": {
        "id": "luvWbddTMtTX",
        "colab_type": "code",
        "outputId": "b80bf35a-a510-419f-fe88-b88f5c8edd64",
        "colab": {
          "base_uri": "https://localhost:8080/",
          "height": 265
        }
      },
      "source": [
        "plt.figure()\n",
        "plt.imshow(train_images[0])\n",
        "plt.colorbar()\n",
        "plt.grid(False)\n",
        "plt.show()"
      ],
      "execution_count": 0,
      "outputs": [
        {
          "output_type": "display_data",
          "data": {
            "image/png": "[encoded data removed]",
            "text/plain": [
              "<Figure size 432x288 with 2 Axes>"
            ]
          },
          "metadata": {
            "tags": []
          }
        }
      ]
    },
    {
      "cell_type": "markdown",
      "metadata": {
        "id": "JC5iBT_0OCSl",
        "colab_type": "text"
      },
      "source": [
        "## Preprocess the data"
      ]
    },
    {
      "cell_type": "code",
      "metadata": {
        "id": "inugSPsZNytV",
        "colab_type": "code",
        "colab": {}
      },
      "source": [
        "train_images = train_images / 255.0\n",
        "test_images = test_images / 255.0"
      ],
      "execution_count": 0,
      "outputs": []
    },
    {
      "cell_type": "markdown",
      "metadata": {
        "colab_type": "text",
        "id": "Vf7Y_gGFRe9h"
      },
      "source": [
        "# Underfit Example"
      ]
    },
    {
      "cell_type": "markdown",
      "metadata": {
        "colab_type": "text",
        "id": "ZXQ6_lPbRe9o"
      },
      "source": [
        "## Build the model"
      ]
    },
    {
      "cell_type": "code",
      "metadata": {
        "colab_type": "code",
        "outputId": "6e7edb5e-6b11-4310-dc75-65c44e6e943e",
        "id": "rs6se0o-Re9p",
        "colab": {
          "base_uri": "https://localhost:8080/",
          "height": 407
        }
      },
      "source": [
        "# set up the layers\n",
        "\n",
        "# Changed units of dense layer units from 128 to 6, less than number of activation values\n",
        "# Changed epochs from 20 to 6\n",
        "model_underfit = keras.Sequential([\n",
        "    keras.layers.Flatten(input_shape=(28, 28)),\n",
        "    keras.layers.Dropout(0.6, input_shape=(28,28)),\n",
        "    keras.layers.Dense(4, activation=tf.nn.relu),\n",
        "    keras.layers.Dense(10, activation=tf.nn.softmax)\n",
        "])\n",
        "\n",
        "# compile the model\n",
        "\n",
        "model_underfit.compile(optimizer='adam',\n",
        "             loss='sparse_categorical_crossentropy',\n",
        "             metrics=['accuracy'])\n",
        "\n",
        "# train the model\n",
        "epochs = 8\n",
        "history = model_underfit.fit(train_images, \n",
        "                      train_labels, \n",
        "                      epochs=epochs,  \n",
        "                      validation_data=(test_images, test_labels))"
      ],
      "execution_count": 0,
      "outputs": [
        {
          "output_type": "stream",
          "text": [
            "WARNING:tensorflow:Large dropout rate: 0.6 (>0.5). In TensorFlow 2.x, dropout() uses dropout rate instead of keep_prob. Please ensure that this is intended.\n",
            "WARNING:tensorflow:From /usr/local/lib/python3.6/dist-packages/tensorflow_core/python/ops/resource_variable_ops.py:1630: calling BaseResourceVariable.__init__ (from tensorflow.python.ops.resource_variable_ops) with constraint is deprecated and will be removed in a future version.\n",
            "Instructions for updating:\n",
            "If using Keras pass *_constraint arguments to layers.\n",
            "Train on 60000 samples, validate on 10000 samples\n",
            "Epoch 1/8\n",
            "60000/60000 [==============================] - 5s 89us/sample - loss: 1.1817 - acc: 0.5869 - val_loss: 0.7792 - val_acc: 0.7281\n",
            "Epoch 2/8\n",
            "60000/60000 [==============================] - 4s 74us/sample - loss: 0.7844 - acc: 0.7169 - val_loss: 0.6874 - val_acc: 0.7547\n",
            "Epoch 3/8\n",
            "60000/60000 [==============================] - 5s 76us/sample - loss: 0.7416 - acc: 0.7323 - val_loss: 0.6726 - val_acc: 0.7722\n",
            "Epoch 4/8\n",
            "60000/60000 [==============================] - 5s 77us/sample - loss: 0.7190 - acc: 0.7400 - val_loss: 0.6489 - val_acc: 0.7655\n",
            "Epoch 5/8\n",
            "60000/60000 [==============================] - 5s 77us/sample - loss: 0.7110 - acc: 0.7428 - val_loss: 0.6343 - val_acc: 0.7817\n",
            "Epoch 6/8\n",
            "60000/60000 [==============================] - 5s 76us/sample - loss: 0.7021 - acc: 0.7473 - val_loss: 0.6278 - val_acc: 0.7800\n",
            "Epoch 7/8\n",
            "60000/60000 [==============================] - 4s 74us/sample - loss: 0.6971 - acc: 0.7485 - val_loss: 0.6252 - val_acc: 0.7861\n",
            "Epoch 8/8\n",
            "60000/60000 [==============================] - 4s 72us/sample - loss: 0.6946 - acc: 0.7505 - val_loss: 0.6221 - val_acc: 0.7857\n"
          ],
          "name": "stdout"
        }
      ]
    },
    {
      "cell_type": "markdown",
      "metadata": {
        "colab_type": "text",
        "id": "oDzqtkSfRe9t"
      },
      "source": [
        "## Evaluate accuracy"
      ]
    },
    {
      "cell_type": "code",
      "metadata": {
        "colab_type": "code",
        "outputId": "81b0b9e9-5cb5-48f8-eea1-9d67f713c86e",
        "id": "YPbyIaMyRe9u",
        "colab": {
          "base_uri": "https://localhost:8080/",
          "height": 52
        }
      },
      "source": [
        "test_loss, test_acc = model_underfit.evaluate(test_images, test_labels)\n",
        "\n",
        "print('Test accuracy:', test_acc)"
      ],
      "execution_count": 0,
      "outputs": [
        {
          "output_type": "stream",
          "text": [
            "10000/10000 [==============================] - 0s 40us/sample - loss: 0.6221 - acc: 0.7857\n",
            "Test accuracy: 0.7857\n"
          ],
          "name": "stdout"
        }
      ]
    },
    {
      "cell_type": "markdown",
      "metadata": {
        "colab_type": "text",
        "id": "4wjMKqjoRe9w"
      },
      "source": [
        "It turns out, the accuracy on the test dataset is greater than the accuracy on the training dataset. \n",
        "\n",
        "This gap between training accuracy and test accuracy is an example of **underfitting**. Underfitting is the case where the model has “ not learned enough” from the training data, resulting in low generalization and unreliable predictions.\n",
        "\n"
      ]
    },
    {
      "cell_type": "markdown",
      "metadata": {
        "colab_type": "text",
        "id": "b7MXIzU-Re9x"
      },
      "source": [
        "## Training/test loss/accuracy during training"
      ]
    },
    {
      "cell_type": "code",
      "metadata": {
        "colab_type": "code",
        "id": "4eJYn3jtRe9x",
        "colab": {}
      },
      "source": [
        "history_dict = history.history\n",
        "loss_values = history_dict['loss']\n",
        "test_loss_values = history_dict['val_loss']\n",
        "epochs_range = range(1, epochs+1)"
      ],
      "execution_count": 0,
      "outputs": []
    },
    {
      "cell_type": "code",
      "metadata": {
        "colab_type": "code",
        "outputId": "20c9ab76-4104-48c6-e8f6-a3f0ff5a4201",
        "id": "KbkM647KRe90",
        "colab": {
          "base_uri": "https://localhost:8080/",
          "height": 295
        }
      },
      "source": [
        "plt.plot(epochs_range, loss_values, 'bo', label='Training loss')\n",
        "plt.plot(epochs_range, test_loss_values, 'ro', label='Test loss')\n",
        "plt.title('Training and test loss')\n",
        "plt.xlabel('Epochs')\n",
        "plt.ylabel('Loss')\n",
        "plt.legend()\n",
        "plt.show()"
      ],
      "execution_count": 0,
      "outputs": [
        {
          "output_type": "display_data",
          "data": {
            "image/png": "[encoded data removed]",
            "text/plain": [
              "<Figure size 432x288 with 1 Axes>"
            ]
          },
          "metadata": {
            "tags": []
          }
        }
      ]
    },
    {
      "cell_type": "code",
      "metadata": {
        "colab_type": "code",
        "id": "Fj4uzJnBRe92",
        "colab": {}
      },
      "source": [
        "acc_values = history_dict['acc']\n",
        "test_acc_values = history_dict['val_acc']"
      ],
      "execution_count": 0,
      "outputs": []
    },
    {
      "cell_type": "code",
      "metadata": {
        "colab_type": "code",
        "outputId": "e930bafc-2a03-4e60-e866-cd38e3664d03",
        "id": "V-0V7P5CRe94",
        "colab": {
          "base_uri": "https://localhost:8080/",
          "height": 295
        }
      },
      "source": [
        "plt.plot(epochs_range, acc_values, 'bo', label='Training accuracy')\n",
        "plt.plot(epochs_range, test_acc_values, 'ro', label='Test accuracy')\n",
        "plt.title('Training and test accuracy')\n",
        "plt.xlabel('Epochs')\n",
        "plt.ylabel('Accuracy')\n",
        "plt.legend()\n",
        "plt.show()"
      ],
      "execution_count": 0,
      "outputs": [
        {
          "output_type": "display_data",
          "data": {
            "image/png": "[encoded data removed]",
            "text/plain": [
              "<Figure size 432x288 with 1 Axes>"
            ]
          },
          "metadata": {
            "tags": []
          }
        }
      ]
    },
    {
      "cell_type": "markdown",
      "metadata": {
        "id": "eChayXPrQ0kS",
        "colab_type": "text"
      },
      "source": [
        "# Overfit Example"
      ]
    },
    {
      "cell_type": "markdown",
      "metadata": {
        "id": "OA975wHjOJI-",
        "colab_type": "text"
      },
      "source": [
        "## Build the model"
      ]
    },
    {
      "cell_type": "code",
      "metadata": {
        "id": "ZX6SGTpMOIKN",
        "colab_type": "code",
        "outputId": "5aab1d24-e030-4cfc-d4bf-5682a80eaed3",
        "colab": {
          "base_uri": "https://localhost:8080/",
          "height": 1000
        }
      },
      "source": [
        "# set up the layers\n",
        "\n",
        "# Changed units of Dense layer from 128 to 512\n",
        "# Changed epochs from 20 to 40\n",
        "model_overfit = keras.Sequential([\n",
        "    keras.layers.Flatten(input_shape=(28, 28)),\n",
        "    keras.layers.Dense(512, activation=tf.nn.relu),\n",
        "    keras.layers.Dense(10, activation=tf.nn.softmax)\n",
        "])\n",
        "\n",
        "# compile the model\n",
        "\n",
        "model_overfit.compile(optimizer='adam',\n",
        "             loss='sparse_categorical_crossentropy',\n",
        "             metrics=['accuracy'])\n",
        "\n",
        "# train the model\n",
        "epochs = 40\n",
        "history = model_overfit.fit(train_images, \n",
        "                      train_labels, \n",
        "                      epochs=epochs,  \n",
        "                      validation_data=(test_images, test_labels))"
      ],
      "execution_count": 0,
      "outputs": [
        {
          "output_type": "stream",
          "text": [
            "Train on 60000 samples, validate on 10000 samples\n",
            "Epoch 1/40\n",
            "60000/60000 [==============================] - 4s 69us/sample - loss: 0.4723 - acc: 0.8316 - val_loss: 0.4107 - val_acc: 0.8559\n",
            "Epoch 2/40\n",
            "60000/60000 [==============================] - 4s 68us/sample - loss: 0.3594 - acc: 0.8690 - val_loss: 0.3775 - val_acc: 0.8658\n",
            "Epoch 3/40\n",
            "60000/60000 [==============================] - 4s 67us/sample - loss: 0.3229 - acc: 0.8806 - val_loss: 0.3836 - val_acc: 0.8606\n",
            "Epoch 4/40\n",
            "60000/60000 [==============================] - 4s 68us/sample - loss: 0.3003 - acc: 0.8886 - val_loss: 0.3640 - val_acc: 0.8691\n",
            "Epoch 5/40\n",
            "60000/60000 [==============================] - 4s 69us/sample - loss: 0.2829 - acc: 0.8943 - val_loss: 0.3436 - val_acc: 0.8732\n",
            "Epoch 6/40\n",
            "60000/60000 [==============================] - 4s 68us/sample - loss: 0.2694 - acc: 0.8983 - val_loss: 0.3180 - val_acc: 0.8879\n",
            "Epoch 7/40\n",
            "60000/60000 [==============================] - 4s 70us/sample - loss: 0.2537 - acc: 0.9048 - val_loss: 0.3401 - val_acc: 0.8788\n",
            "Epoch 8/40\n",
            "60000/60000 [==============================] - 4s 74us/sample - loss: 0.2427 - acc: 0.9095 - val_loss: 0.3272 - val_acc: 0.8846\n",
            "Epoch 9/40\n",
            "60000/60000 [==============================] - 4s 69us/sample - loss: 0.2323 - acc: 0.9123 - val_loss: 0.3203 - val_acc: 0.8879\n",
            "Epoch 10/40\n",
            "60000/60000 [==============================] - 4s 69us/sample - loss: 0.2223 - acc: 0.9161 - val_loss: 0.3209 - val_acc: 0.8883\n",
            "Epoch 11/40\n",
            "60000/60000 [==============================] - 4s 69us/sample - loss: 0.2154 - acc: 0.9184 - val_loss: 0.3320 - val_acc: 0.8874\n",
            "Epoch 12/40\n",
            "60000/60000 [==============================] - 4s 69us/sample - loss: 0.2045 - acc: 0.9234 - val_loss: 0.3363 - val_acc: 0.8908\n",
            "Epoch 13/40\n",
            "60000/60000 [==============================] - 4s 68us/sample - loss: 0.2003 - acc: 0.9247 - val_loss: 0.3325 - val_acc: 0.8867\n",
            "Epoch 14/40\n",
            "60000/60000 [==============================] - 4s 69us/sample - loss: 0.1930 - acc: 0.9261 - val_loss: 0.3186 - val_acc: 0.8898\n",
            "Epoch 15/40\n",
            "60000/60000 [==============================] - 4s 68us/sample - loss: 0.1869 - acc: 0.9287 - val_loss: 0.3415 - val_acc: 0.8896\n",
            "Epoch 16/40\n",
            "60000/60000 [==============================] - 4s 69us/sample - loss: 0.1793 - acc: 0.9326 - val_loss: 0.3325 - val_acc: 0.8905\n",
            "Epoch 17/40\n",
            "60000/60000 [==============================] - 4s 69us/sample - loss: 0.1743 - acc: 0.9340 - val_loss: 0.3758 - val_acc: 0.8841\n",
            "Epoch 18/40\n",
            "60000/60000 [==============================] - 4s 69us/sample - loss: 0.1699 - acc: 0.9361 - val_loss: 0.3712 - val_acc: 0.8865\n",
            "Epoch 19/40\n",
            "60000/60000 [==============================] - 4s 68us/sample - loss: 0.1642 - acc: 0.9387 - val_loss: 0.3679 - val_acc: 0.8851\n",
            "Epoch 20/40\n",
            "60000/60000 [==============================] - 4s 67us/sample - loss: 0.1583 - acc: 0.9398 - val_loss: 0.3957 - val_acc: 0.8849\n",
            "Epoch 21/40\n",
            "60000/60000 [==============================] - 4s 68us/sample - loss: 0.1555 - acc: 0.9413 - val_loss: 0.3762 - val_acc: 0.8880\n",
            "Epoch 22/40\n",
            "60000/60000 [==============================] - 4s 66us/sample - loss: 0.1488 - acc: 0.9439 - val_loss: 0.3728 - val_acc: 0.8911\n",
            "Epoch 23/40\n",
            "60000/60000 [==============================] - 4s 67us/sample - loss: 0.1449 - acc: 0.9450 - val_loss: 0.3752 - val_acc: 0.8898\n",
            "Epoch 24/40\n",
            "60000/60000 [==============================] - 4s 68us/sample - loss: 0.1433 - acc: 0.9465 - val_loss: 0.4097 - val_acc: 0.8837\n",
            "Epoch 25/40\n",
            "60000/60000 [==============================] - 4s 67us/sample - loss: 0.1379 - acc: 0.9477 - val_loss: 0.3862 - val_acc: 0.8900\n",
            "Epoch 26/40\n",
            "60000/60000 [==============================] - 4s 67us/sample - loss: 0.1336 - acc: 0.9495 - val_loss: 0.3636 - val_acc: 0.8955\n",
            "Epoch 27/40\n",
            "60000/60000 [==============================] - 4s 69us/sample - loss: 0.1297 - acc: 0.9509 - val_loss: 0.4072 - val_acc: 0.8916\n",
            "Epoch 28/40\n",
            "60000/60000 [==============================] - 4s 69us/sample - loss: 0.1258 - acc: 0.9516 - val_loss: 0.4037 - val_acc: 0.8919\n",
            "Epoch 29/40\n",
            "60000/60000 [==============================] - 4s 68us/sample - loss: 0.1229 - acc: 0.9536 - val_loss: 0.4167 - val_acc: 0.8912\n",
            "Epoch 30/40\n",
            "60000/60000 [==============================] - 4s 67us/sample - loss: 0.1210 - acc: 0.9539 - val_loss: 0.4184 - val_acc: 0.8926\n",
            "Epoch 31/40\n",
            "60000/60000 [==============================] - 4s 67us/sample - loss: 0.1185 - acc: 0.9548 - val_loss: 0.4447 - val_acc: 0.8877\n",
            "Epoch 32/40\n",
            "60000/60000 [==============================] - 4s 71us/sample - loss: 0.1198 - acc: 0.9547 - val_loss: 0.4337 - val_acc: 0.8922\n",
            "Epoch 33/40\n",
            "60000/60000 [==============================] - 4s 72us/sample - loss: 0.1111 - acc: 0.9586 - val_loss: 0.4305 - val_acc: 0.8973\n",
            "Epoch 34/40\n",
            "60000/60000 [==============================] - 4s 69us/sample - loss: 0.1112 - acc: 0.9583 - val_loss: 0.4582 - val_acc: 0.8897\n",
            "Epoch 35/40\n",
            "60000/60000 [==============================] - 4s 67us/sample - loss: 0.1094 - acc: 0.9580 - val_loss: 0.4323 - val_acc: 0.8962\n",
            "Epoch 36/40\n",
            "60000/60000 [==============================] - 4s 67us/sample - loss: 0.1071 - acc: 0.9598 - val_loss: 0.4841 - val_acc: 0.8895\n",
            "Epoch 37/40\n",
            "60000/60000 [==============================] - 4s 68us/sample - loss: 0.1016 - acc: 0.9614 - val_loss: 0.4687 - val_acc: 0.8938\n",
            "Epoch 38/40\n",
            "60000/60000 [==============================] - 4s 67us/sample - loss: 0.0999 - acc: 0.9625 - val_loss: 0.4631 - val_acc: 0.8941\n",
            "Epoch 39/40\n",
            "60000/60000 [==============================] - 4s 68us/sample - loss: 0.1005 - acc: 0.9625 - val_loss: 0.4965 - val_acc: 0.8877\n",
            "Epoch 40/40\n",
            "60000/60000 [==============================] - 4s 67us/sample - loss: 0.0966 - acc: 0.9631 - val_loss: 0.4954 - val_acc: 0.8877\n"
          ],
          "name": "stdout"
        }
      ]
    },
    {
      "cell_type": "markdown",
      "metadata": {
        "id": "mORb9IwPP7oE",
        "colab_type": "text"
      },
      "source": [
        "## Evaluate accuracy"
      ]
    },
    {
      "cell_type": "code",
      "metadata": {
        "id": "rlKIF6ijOkiE",
        "colab_type": "code",
        "outputId": "7898b0d6-0700-4b26-e60a-f758669c2432",
        "colab": {
          "base_uri": "https://localhost:8080/",
          "height": 52
        }
      },
      "source": [
        "test_loss, test_acc = model_overfit.evaluate(test_images, test_labels)\n",
        "\n",
        "print('Test accuracy:', test_acc)"
      ],
      "execution_count": 0,
      "outputs": [
        {
          "output_type": "stream",
          "text": [
            "10000/10000 [==============================] - 0s 42us/sample - loss: 0.4954 - acc: 0.8877\n",
            "Test accuracy: 0.8877\n"
          ],
          "name": "stdout"
        }
      ]
    },
    {
      "cell_type": "markdown",
      "metadata": {
        "id": "A4_diOE4QOqo",
        "colab_type": "text"
      },
      "source": [
        "It turns out, the accuracy on the test dataset is much less than the accuracy on the training dataset. \n",
        "\n",
        "This gap between training accuracy and test accuracy is an example of **overfitting**. Overfitting is when a machine learning model performs worse on new data than on their training data.\n",
        "\n"
      ]
    },
    {
      "cell_type": "markdown",
      "metadata": {
        "id": "GqbGdV6oXEyP",
        "colab_type": "text"
      },
      "source": [
        "## Training/test loss/accuracy during training"
      ]
    },
    {
      "cell_type": "code",
      "metadata": {
        "id": "3b5OCE5YTrEc",
        "colab_type": "code",
        "colab": {}
      },
      "source": [
        "history_dict = history.history\n",
        "loss_values = history_dict['loss']\n",
        "test_loss_values = history_dict['val_loss']\n",
        "epochs_range = range(1, epochs+1)"
      ],
      "execution_count": 0,
      "outputs": []
    },
    {
      "cell_type": "code",
      "metadata": {
        "id": "y98AOblYT3Pk",
        "colab_type": "code",
        "outputId": "12e2234c-4a81-4df9-eae8-a611372e5e67",
        "colab": {
          "base_uri": "https://localhost:8080/",
          "height": 295
        }
      },
      "source": [
        "plt.plot(epochs_range, loss_values, 'bo', label='Training loss')\n",
        "plt.plot(epochs_range, test_loss_values, 'ro', label='Test loss')\n",
        "plt.title('Training and test loss')\n",
        "plt.xlabel('Epochs')\n",
        "plt.ylabel('Loss')\n",
        "plt.legend()\n",
        "plt.show()"
      ],
      "execution_count": 0,
      "outputs": [
        {
          "output_type": "display_data",
          "data": {
            "image/png": "[encoded data removed]",
            "text/plain": [
              "<Figure size 432x288 with 1 Axes>"
            ]
          },
          "metadata": {
            "tags": []
          }
        }
      ]
    },
    {
      "cell_type": "code",
      "metadata": {
        "id": "790AkDaTWuZU",
        "colab_type": "code",
        "colab": {}
      },
      "source": [
        "acc_values = history_dict['acc']\n",
        "test_acc_values = history_dict['val_acc']"
      ],
      "execution_count": 0,
      "outputs": []
    },
    {
      "cell_type": "code",
      "metadata": {
        "id": "7BkIfPQ4W39E",
        "colab_type": "code",
        "outputId": "6797ece6-38a9-4b82-8cef-3524d659b736",
        "colab": {
          "base_uri": "https://localhost:8080/",
          "height": 295
        }
      },
      "source": [
        "plt.plot(epochs_range, acc_values, 'bo', label='Training accuracy')\n",
        "plt.plot(epochs_range, test_acc_values, 'ro', label='Test accuracy')\n",
        "plt.title('Training and test accuracy')\n",
        "plt.xlabel('Epochs')\n",
        "plt.ylabel('Accuracy')\n",
        "plt.legend()\n",
        "plt.show()"
      ],
      "execution_count": 0,
      "outputs": [
        {
          "output_type": "display_data",
          "data": {
            "image/png": "[encoded data removed]",
            "text/plain": [
              "<Figure size 432x288 with 1 Axes>"
            ]
          },
          "metadata": {
            "tags": []
          }
        }
      ]
    },
    {
      "cell_type": "markdown",
      "metadata": {
        "colab_type": "text",
        "id": "EQHpWnl-W5cu"
      },
      "source": [
        "# Good fit Example"
      ]
    },
    {
      "cell_type": "markdown",
      "metadata": {
        "colab_type": "text",
        "id": "D9qGzVx8W5c4"
      },
      "source": [
        "## Build the model"
      ]
    },
    {
      "cell_type": "code",
      "metadata": {
        "colab_type": "code",
        "outputId": "8fb3bed1-2f18-49f6-e1cc-c458ea6375c6",
        "id": "8HGYpCQIW5c6",
        "colab": {
          "base_uri": "https://localhost:8080/",
          "height": 387
        }
      },
      "source": [
        "# set up the layers\n",
        "\n",
        "# Changed dense layer units to 600 from 128\n",
        "# Changed epochs to 12 from 20\n",
        "model_goodfit = keras.Sequential([\n",
        "    keras.layers.Flatten(input_shape=(28, 28)),\n",
        "    keras.layers.Dense(64, activation=tf.nn.relu),\n",
        "    keras.layers.Dense(64, activation=tf.nn.relu),\n",
        "    keras.layers.Dense(64, activation=tf.nn.relu),\n",
        "    keras.layers.Dropout(.5),\n",
        "    keras.layers.Dense(128, activation=tf.nn.relu),\n",
        "    keras.layers.Dense(128, activation=tf.nn.relu),\n",
        "    keras.layers.Dropout(.5),\n",
        "    keras.layers.Dense(256, activation=tf.nn.relu),\n",
        "    keras.layers.Dropout(.5),\n",
        "    keras.layers.Dense(10, activation=tf.nn.softmax)\n",
        "])\n",
        "\n",
        "# compile the model\n",
        "\n",
        "model_goodfit.compile(optimizer='adam',\n",
        "             loss='sparse_categorical_crossentropy',\n",
        "             metrics=['accuracy'])\n",
        "\n",
        "# train the model\n",
        "epochs = 10\n",
        "history = model_goodfit.fit(train_images, \n",
        "                      train_labels, \n",
        "                      epochs=epochs,  \n",
        "                      validation_data=(test_images, test_labels))"
      ],
      "execution_count": 0,
      "outputs": [
        {
          "output_type": "stream",
          "text": [
            "Train on 60000 samples, validate on 10000 samples\n",
            "Epoch 1/10\n",
            "60000/60000 [==============================] - 6s 99us/sample - loss: 0.7733 - acc: 0.7114 - val_loss: 0.5338 - val_acc: 0.8160\n",
            "Epoch 2/10\n",
            "60000/60000 [==============================] - 6s 95us/sample - loss: 0.5220 - acc: 0.8215 - val_loss: 0.4683 - val_acc: 0.8336\n",
            "Epoch 3/10\n",
            "60000/60000 [==============================] - 6s 95us/sample - loss: 0.4700 - acc: 0.8422 - val_loss: 0.4198 - val_acc: 0.8520\n",
            "Epoch 4/10\n",
            "60000/60000 [==============================] - 6s 97us/sample - loss: 0.4358 - acc: 0.8546 - val_loss: 0.4337 - val_acc: 0.8445\n",
            "Epoch 5/10\n",
            "60000/60000 [==============================] - 6s 96us/sample - loss: 0.4182 - acc: 0.8599 - val_loss: 0.4067 - val_acc: 0.8563\n",
            "Epoch 6/10\n",
            "60000/60000 [==============================] - 6s 98us/sample - loss: 0.3999 - acc: 0.8653 - val_loss: 0.3993 - val_acc: 0.8587\n",
            "Epoch 7/10\n",
            "60000/60000 [==============================] - 6s 97us/sample - loss: 0.3931 - acc: 0.8660 - val_loss: 0.3826 - val_acc: 0.8659\n",
            "Epoch 8/10\n",
            "60000/60000 [==============================] - 6s 96us/sample - loss: 0.3801 - acc: 0.8712 - val_loss: 0.3985 - val_acc: 0.8622\n",
            "Epoch 9/10\n",
            "60000/60000 [==============================] - 6s 98us/sample - loss: 0.3769 - acc: 0.8698 - val_loss: 0.3877 - val_acc: 0.8663\n",
            "Epoch 10/10\n",
            "60000/60000 [==============================] - 6s 96us/sample - loss: 0.3675 - acc: 0.8729 - val_loss: 0.3857 - val_acc: 0.8691\n"
          ],
          "name": "stdout"
        }
      ]
    },
    {
      "cell_type": "markdown",
      "metadata": {
        "colab_type": "text",
        "id": "VTvi7uB8W5dA"
      },
      "source": [
        "## Evaluate accuracy"
      ]
    },
    {
      "cell_type": "code",
      "metadata": {
        "colab_type": "code",
        "outputId": "14d6433f-c863-478f-cca1-b2d00e96cf9c",
        "id": "GFo9nTQXW5dB",
        "colab": {
          "base_uri": "https://localhost:8080/",
          "height": 52
        }
      },
      "source": [
        "test_loss, test_acc = model_goodfit.evaluate(test_images, test_labels)\n",
        "\n",
        "print('Test accuracy:', test_acc)"
      ],
      "execution_count": 0,
      "outputs": [
        {
          "output_type": "stream",
          "text": [
            "10000/10000 [==============================] - 0s 50us/sample - loss: 0.3857 - acc: 0.8691\n",
            "Test accuracy: 0.8691\n"
          ],
          "name": "stdout"
        }
      ]
    },
    {
      "cell_type": "markdown",
      "metadata": {
        "colab_type": "text",
        "id": "V2GDWS5fW5dF"
      },
      "source": [
        "Test accuracy is close to training accuracy\n",
        "\n"
      ]
    },
    {
      "cell_type": "markdown",
      "metadata": {
        "colab_type": "text",
        "id": "ac5fMilqW5dF"
      },
      "source": [
        "## Training/test loss/accuracy during training"
      ]
    },
    {
      "cell_type": "code",
      "metadata": {
        "colab_type": "code",
        "id": "QchX4TfiW5dG",
        "colab": {}
      },
      "source": [
        "history_dict = history.history\n",
        "loss_values = history_dict['loss']\n",
        "test_loss_values = history_dict['val_loss']\n",
        "epochs_range = range(1, epochs+1)"
      ],
      "execution_count": 0,
      "outputs": []
    },
    {
      "cell_type": "code",
      "metadata": {
        "colab_type": "code",
        "outputId": "ff4a6fe7-845e-424c-e2a8-c934964da1f8",
        "id": "8k9Qw-ElW5dK",
        "colab": {
          "base_uri": "https://localhost:8080/",
          "height": 295
        }
      },
      "source": [
        "plt.plot(epochs_range, loss_values, 'bo', label='Training loss')\n",
        "plt.plot(epochs_range, test_loss_values, 'ro', label='Test loss')\n",
        "plt.title('Training and test loss')\n",
        "plt.xlabel('Epochs')\n",
        "plt.ylabel('Loss')\n",
        "plt.legend()\n",
        "plt.show()"
      ],
      "execution_count": 0,
      "outputs": [
        {
          "output_type": "display_data",
          "data": {
            "image/png": "[encoded data removed]",
            "text/plain": [
              "<Figure size 432x288 with 1 Axes>"
            ]
          },
          "metadata": {
            "tags": []
          }
        }
      ]
    },
    {
      "cell_type": "code",
      "metadata": {
        "colab_type": "code",
        "id": "cU77FK8FW5dN",
        "colab": {}
      },
      "source": [
        "acc_values = history_dict['acc']\n",
        "test_acc_values = history_dict['val_acc']"
      ],
      "execution_count": 0,
      "outputs": []
    },
    {
      "cell_type": "code",
      "metadata": {
        "colab_type": "code",
        "outputId": "665785bb-d142-4ead-c7a5-1d10f78354d0",
        "id": "THH4lft3W5dP",
        "colab": {
          "base_uri": "https://localhost:8080/",
          "height": 295
        }
      },
      "source": [
        "plt.plot(epochs_range, acc_values, 'bo', label='Training accuracy')\n",
        "plt.plot(epochs_range, test_acc_values, 'ro', label='Test accuracy')\n",
        "plt.title('Training and test accuracy')\n",
        "plt.xlabel('Epochs')\n",
        "plt.ylabel('Accuracy')\n",
        "plt.legend()\n",
        "plt.show()"
      ],
      "execution_count": 0,
      "outputs": [
        {
          "output_type": "display_data",
          "data": {
            "image/png": "[encoded data removed]",
            "text/plain": [
              "<Figure size 432x288 with 1 Axes>"
            ]
          },
          "metadata": {
            "tags": []
          }
        }
      ]
    }
  ]
}