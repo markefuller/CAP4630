{
  "nbformat": 4,
  "nbformat_minor": 0,
  "metadata": {
    "colab": {
      "name": "hw2problem1.ipynb",
      "provenance": [],
      "collapsed_sections": [],
      "include_colab_link": true
    },
    "kernelspec": {
      "name": "python3",
      "display_name": "Python 3"
    },
    "accelerator": "GPU"
  },
  "cells": [
    {
      "cell_type": "markdown",
      "metadata": {
        "id": "view-in-github",
        "colab_type": "text"
      },
      "source": [
        "<a href=\"https://colab.research.google.com/github/markefuller/CAP4630/blob/master/HW2/hw2problem1.ipynb\" target=\"_parent\"><img src=\"https://colab.research.google.com/assets/colab-badge.svg\" alt=\"Open In Colab\"/></a>"
      ]
    },
    {
      "cell_type": "markdown",
      "metadata": {
        "id": "ozwIRLhmIbd7",
        "colab_type": "text"
      },
      "source": [
        "# Mark E Fuller\n",
        "UCF CAP 4630 Fall 2019\n",
        "\n",
        "**Homework 2 Problem 1:**\n",
        "\n",
        "Come up with handcrafted features for the MNIST digit classificiation problem and use them in a simple model consisting of a single dense layer with softmax activation.\n",
        "Let x be the matrix representing a image of a MNIST digit. Let vec(x) denote the flattened matrix x.\n",
        "\n",
        "Your baseline model is the simple model that takes only vec(x) as input. The goal is to improve the accuracy of the simple model by augmenting the input vec(x) with hand-crafted features.\n",
        "\n",
        "Say, f1, f2, ..., fm are your hand-crafted features. The augmented input vector is then obtained by stacking vec(x) and the vector (f1, f2, ..., fm). You can use the numpy command np.concatentate to stack vectors.\n",
        "\n",
        "The features could be:\n",
        "\n",
        "•\twidth of digit (normalized to be in the range (0, 1)\n",
        "\n",
        "•\theight of digit (normalized to be in the range (0, 1)\n",
        "\n",
        "•\tnumber of white regions (a typical 8 has three, a typical 6 has two components, and 2 has 1), average intensity, etc.\n",
        "\n",
        "•\tnote the you can one-hot encode the number of connected components as follows: b1 = 1 iff num = 1, b2 = 1 if num = 2, b3 = 1 if num = 3, and b = 1 if num = 0 or num >= 4 (the latter case should normally not occur for well-formed digits); this is probably better than have just a single feature num / 3.\n",
        "\n",
        "The problem of computing the number of independent white regions is a basic problem for job interviews. It boils down to computing connected components of the following graph. \n",
        "\n",
        "The vertices of the graph correspond to the pixels and are denoted by (i, j), which is the position of the pixel. Two vertices (i, j) and (i', j') are connected iff |i - i'| <= 1 and |j - j'| <= 1. If a pixel at position (i, j) is black, then remove it together with its edges.\n",
        "\n",
        "You have to compute the number of connected components for the 60 thousand images. So make sure that your code is efficient.\n"
      ]
    },
    {
      "cell_type": "markdown",
      "metadata": {
        "id": "fVMGvSGz7y8C",
        "colab_type": "text"
      },
      "source": [
        "# Imports and Data Load"
      ]
    },
    {
      "cell_type": "code",
      "metadata": {
        "id": "h5BAukCr74ia",
        "colab_type": "code",
        "outputId": "ba09c548-0c49-40f4-e2ce-18be1cda57b4",
        "colab": {
          "base_uri": "https://localhost:8080/",
          "height": 99
        }
      },
      "source": [
        "# Packages used\n",
        "!pip install colorama\n",
        "\n",
        "from keras.datasets import mnist\n",
        "from colorama import Fore, Back, Style\n",
        "import numpy as np\n",
        "import matplotlib.pyplot as plt\n",
        "import time\n",
        "%matplotlib inline\n",
        "\n",
        "# Load dataset\n",
        "(train_images, train_labels), (test_images, test_labels) = mnist.load_data()\n",
        "\n",
        "# 1 Recomputes all, 0 loads saved computes from file\n",
        "# 1 takes about 8 minutes,  0 takes around 30 seconds\n",
        "recompute = 0"
      ],
      "execution_count": 0,
      "outputs": [
        {
          "output_type": "stream",
          "text": [
            "Requirement already satisfied: colorama in /usr/local/lib/python3.6/dist-packages (0.4.1)\n"
          ],
          "name": "stdout"
        },
        {
          "output_type": "stream",
          "text": [
            "Using TensorFlow backend.\n"
          ],
          "name": "stderr"
        },
        {
          "output_type": "display_data",
          "data": {
            "text/html": [
              "<p style=\"color: red;\">\n",
              "The default version of TensorFlow in Colab will soon switch to TensorFlow 2.x.<br>\n",
              "We recommend you <a href=\"https://www.tensorflow.org/guide/migrate\" target=\"_blank\">upgrade</a> now \n",
              "or ensure your notebook will continue to use TensorFlow 1.x via the <code>%tensorflow_version 1.x</code> magic:\n",
              "<a href=\"https://colab.research.google.com/notebooks/tensorflow_version.ipynb\" target=\"_blank\">more info</a>.</p>\n"
            ],
            "text/plain": [
              "<IPython.core.display.HTML object>"
            ]
          },
          "metadata": {
            "tags": []
          }
        }
      ]
    },
    {
      "cell_type": "markdown",
      "metadata": {
        "id": "RHcsj3eY8Tnn",
        "colab_type": "text"
      },
      "source": [
        "# Functions to Create Hand Features"
      ]
    },
    {
      "cell_type": "code",
      "metadata": {
        "id": "QwID5LfW8WmC",
        "colab_type": "code",
        "colab": {}
      },
      "source": [
        "def print_image(img):\n",
        "    # Display a Greyscale image as integer values\n",
        "    for row in range(img.shape[0]):\n",
        "        for col in range(img.shape[1]):\n",
        "            if img[row,col] == 0:\n",
        "                print(Fore.BLACK + Back.RESET + \"{0:3d}\".format(img[row,col]), end = \" \")\n",
        "            else:\n",
        "                print(Fore.WHITE + Back.GREEN + \"{0:3d}\".format(img[row,col]), end = \" \")\n",
        "        print()\n",
        "    print()\n",
        "\n",
        "def greyscale_to_binary(img, cutoff):\n",
        "    # Make copy so as not to modify original passed by reference\n",
        "    # Greyscale values are 0 to 255 for Keras MNIST digits\n",
        "    # Values up to cutoff intensity become 0, over cutoff become 1\n",
        "    imgcopy = img.copy()\n",
        "    imgcopy[imgcopy <= cutoff] = 0\n",
        "    imgcopy[imgcopy > cutoff] = 1\n",
        "    return imgcopy\n",
        "    \n",
        "def img_size_intensity(img):\n",
        "    # Function return 3-tuple of Height, Width, White-Pixel-Count\n",
        "    # Use binary form for data\n",
        "    new_img = greyscale_to_binary(img,127)\n",
        "    rows = new_img.shape[0]\n",
        "    cols = new_img.shape[1]\n",
        "    white_count = 0\n",
        "    minrow = rows\n",
        "    maxrow = 0\n",
        "    mincol = cols\n",
        "    maxcol = 0\n",
        "    for row in range(rows):\n",
        "        for col in range(cols):\n",
        "            if new_img[row,col] == 0:\n",
        "                white_count += 1\n",
        "            else:\n",
        "                if row < minrow:\n",
        "                    minrow = row\n",
        "                if row > maxrow:\n",
        "                    maxrow = row\n",
        "                if col < mincol:\n",
        "                    mincol = col\n",
        "                if col > maxcol:\n",
        "                    maxcol = col\n",
        "    height = maxrow - minrow + 1\n",
        "    width = maxcol - mincol + 1\n",
        "    new_img = None\n",
        "    return (height, width, white_count)\n",
        "\n",
        "# Globals for next functions\n",
        "new_label = 2\n",
        "visited = np.zeros((28,28))\n",
        "\n",
        "def mark_single_region(img, row, col, label):\n",
        "    # Labels all pixels from starting point that are in same region\n",
        "    # as starting point\n",
        "    global new_label\n",
        "    global visited\n",
        "    \n",
        "    # Base Case: Return if indices are out of bounds \n",
        "    if (row < 0 or row > (img.shape[0] - 1)  or col < 0 or col > (img.shape[1] - 1) ):\n",
        "        return\n",
        "    \n",
        "    # Base Case: Ignore black pixels of image, but mark as visited\n",
        "    if img[row,col] == 1:\n",
        "        visited[row,col] = 1\n",
        "        return\n",
        "    \n",
        "    # Base Case: Ignore already marked pixels \n",
        "    if img[row,col] > 1:\n",
        "        return\n",
        "    \n",
        "    # Recusive Case: Mark and visit connected components within this region\n",
        "    if img[row,col] == 0:\n",
        "        img[row,col] = label\n",
        "        visited[row,col] = 1\n",
        "        # Recurse on cardinal directions if not already done\n",
        "        if ( (row - 1) >= 0 and visited[row - 1,col]==0):\n",
        "            mark_single_region(img, row - 1, col, label)\n",
        "        if( (row + 1) <= (img.shape[0] - 1) and visited[row + 1,col]==0):\n",
        "            mark_single_region(img, row + 1, col, label)\n",
        "        if ( (col - 1) >= 0 and visited[row,col - 1]==0):\n",
        "            mark_single_region(img, row, col - 1, label)\n",
        "        if( (col + 1) <= (img.shape[1] - 1) and visited[row,col + 1]==0):\n",
        "            mark_single_region(img, row, col + 1, label)\n",
        "        new_label = label + 1\n",
        "    \n",
        "    # Default Return\n",
        "    return\n",
        "    \n",
        "def number_regions(img):\n",
        "    # Find the number of whitespace regions in an image\n",
        "    # Clone image since modifications are needed\n",
        "    new_img = greyscale_to_binary(img,127)\n",
        "    \n",
        "    global new_label\n",
        "    global visited\n",
        "    new_label = 2     # Reset Starting marker number. Values 0 and 1 are part of binary image\n",
        "    visited = np.zeros((28,28)) # Reset visited pixels for current image\n",
        "    rows = new_img.shape[0]\n",
        "    cols = new_img.shape[1]\n",
        "    for r in range(rows):\n",
        "        for c in range(cols):\n",
        "            if(visited[r,c]==0): # Make recursive call only if in new region\n",
        "                mark_single_region(new_img,r,c,new_label)\n",
        "    new_img = None    # Allow memory to be reclaimed.\n",
        "    return (new_label - 2)        "
      ],
      "execution_count": 0,
      "outputs": []
    },
    {
      "cell_type": "markdown",
      "metadata": {
        "id": "MD88dyLa8bxb",
        "colab_type": "text"
      },
      "source": [
        "# Original Greyscale, Binary Version, Marked Regions Example"
      ]
    },
    {
      "cell_type": "code",
      "metadata": {
        "id": "_wS12JgO8fZB",
        "colab_type": "code",
        "outputId": "9fe5e67d-65af-46fc-faf5-8cb26d9d677e",
        "colab": {
          "base_uri": "https://localhost:8080/",
          "height": 545
        }
      },
      "source": [
        "# Ind is index of a single image from train_iamges\n",
        "ind = 5     # Shows Many regions reduced to proper number of 2 regions\n",
        "#ind = 45417 # Binary version generates too many regions. 8 instead of 2\n",
        "print(\"Original Values\")\n",
        "print_image(train_images[ind])"
      ],
      "execution_count": 0,
      "outputs": [
        {
          "output_type": "stream",
          "text": [
            "Original Values\n",
            "\u001b[30m\u001b[49m  0 \u001b[30m\u001b[49m  0 \u001b[30m\u001b[49m  0 \u001b[30m\u001b[49m  0 \u001b[30m\u001b[49m  0 \u001b[30m\u001b[49m  0 \u001b[30m\u001b[49m  0 \u001b[30m\u001b[49m  0 \u001b[30m\u001b[49m  0 \u001b[30m\u001b[49m  0 \u001b[30m\u001b[49m  0 \u001b[30m\u001b[49m  0 \u001b[30m\u001b[49m  0 \u001b[30m\u001b[49m  0 \u001b[30m\u001b[49m  0 \u001b[30m\u001b[49m  0 \u001b[30m\u001b[49m  0 \u001b[30m\u001b[49m  0 \u001b[30m\u001b[49m  0 \u001b[30m\u001b[49m  0 \u001b[30m\u001b[49m  0 \u001b[30m\u001b[49m  0 \u001b[30m\u001b[49m  0 \u001b[30m\u001b[49m  0 \u001b[30m\u001b[49m  0 \u001b[30m\u001b[49m  0 \u001b[30m\u001b[49m  0 \u001b[30m\u001b[49m  0 \n",
            "\u001b[30m\u001b[49m  0 \u001b[30m\u001b[49m  0 \u001b[30m\u001b[49m  0 \u001b[30m\u001b[49m  0 \u001b[30m\u001b[49m  0 \u001b[30m\u001b[49m  0 \u001b[30m\u001b[49m  0 \u001b[30m\u001b[49m  0 \u001b[30m\u001b[49m  0 \u001b[30m\u001b[49m  0 \u001b[30m\u001b[49m  0 \u001b[30m\u001b[49m  0 \u001b[30m\u001b[49m  0 \u001b[30m\u001b[49m  0 \u001b[30m\u001b[49m  0 \u001b[30m\u001b[49m  0 \u001b[30m\u001b[49m  0 \u001b[30m\u001b[49m  0 \u001b[30m\u001b[49m  0 \u001b[30m\u001b[49m  0 \u001b[30m\u001b[49m  0 \u001b[30m\u001b[49m  0 \u001b[30m\u001b[49m  0 \u001b[30m\u001b[49m  0 \u001b[30m\u001b[49m  0 \u001b[30m\u001b[49m  0 \u001b[30m\u001b[49m  0 \u001b[30m\u001b[49m  0 \n",
            "\u001b[30m\u001b[49m  0 \u001b[30m\u001b[49m  0 \u001b[30m\u001b[49m  0 \u001b[30m\u001b[49m  0 \u001b[30m\u001b[49m  0 \u001b[30m\u001b[49m  0 \u001b[30m\u001b[49m  0 \u001b[30m\u001b[49m  0 \u001b[30m\u001b[49m  0 \u001b[30m\u001b[49m  0 \u001b[30m\u001b[49m  0 \u001b[30m\u001b[49m  0 \u001b[30m\u001b[49m  0 \u001b[30m\u001b[49m  0 \u001b[30m\u001b[49m  0 \u001b[30m\u001b[49m  0 \u001b[30m\u001b[49m  0 \u001b[30m\u001b[49m  0 \u001b[30m\u001b[49m  0 \u001b[30m\u001b[49m  0 \u001b[30m\u001b[49m  0 \u001b[30m\u001b[49m  0 \u001b[30m\u001b[49m  0 \u001b[30m\u001b[49m  0 \u001b[30m\u001b[49m  0 \u001b[30m\u001b[49m  0 \u001b[30m\u001b[49m  0 \u001b[30m\u001b[49m  0 \n",
            "\u001b[30m\u001b[49m  0 \u001b[30m\u001b[49m  0 \u001b[30m\u001b[49m  0 \u001b[30m\u001b[49m  0 \u001b[30m\u001b[49m  0 \u001b[30m\u001b[49m  0 \u001b[30m\u001b[49m  0 \u001b[30m\u001b[49m  0 \u001b[30m\u001b[49m  0 \u001b[30m\u001b[49m  0 \u001b[30m\u001b[49m  0 \u001b[30m\u001b[49m  0 \u001b[30m\u001b[49m  0 \u001b[30m\u001b[49m  0 \u001b[30m\u001b[49m  0 \u001b[30m\u001b[49m  0 \u001b[30m\u001b[49m  0 \u001b[30m\u001b[49m  0 \u001b[30m\u001b[49m  0 \u001b[30m\u001b[49m  0 \u001b[30m\u001b[49m  0 \u001b[30m\u001b[49m  0 \u001b[30m\u001b[49m  0 \u001b[30m\u001b[49m  0 \u001b[30m\u001b[49m  0 \u001b[30m\u001b[49m  0 \u001b[30m\u001b[49m  0 \u001b[30m\u001b[49m  0 \n",
            "\u001b[30m\u001b[49m  0 \u001b[30m\u001b[49m  0 \u001b[30m\u001b[49m  0 \u001b[30m\u001b[49m  0 \u001b[30m\u001b[49m  0 \u001b[30m\u001b[49m  0 \u001b[30m\u001b[49m  0 \u001b[30m\u001b[49m  0 \u001b[30m\u001b[49m  0 \u001b[30m\u001b[49m  0 \u001b[30m\u001b[49m  0 \u001b[30m\u001b[49m  0 \u001b[30m\u001b[49m  0 \u001b[30m\u001b[49m  0 \u001b[30m\u001b[49m  0 \u001b[30m\u001b[49m  0 \u001b[30m\u001b[49m  0 \u001b[30m\u001b[49m  0 \u001b[30m\u001b[49m  0 \u001b[30m\u001b[49m  0 \u001b[30m\u001b[49m  0 \u001b[30m\u001b[49m  0 \u001b[30m\u001b[49m  0 \u001b[30m\u001b[49m  0 \u001b[30m\u001b[49m  0 \u001b[30m\u001b[49m  0 \u001b[30m\u001b[49m  0 \u001b[30m\u001b[49m  0 \n",
            "\u001b[30m\u001b[49m  0 \u001b[30m\u001b[49m  0 \u001b[30m\u001b[49m  0 \u001b[30m\u001b[49m  0 \u001b[30m\u001b[49m  0 \u001b[30m\u001b[49m  0 \u001b[30m\u001b[49m  0 \u001b[30m\u001b[49m  0 \u001b[30m\u001b[49m  0 \u001b[30m\u001b[49m  0 \u001b[30m\u001b[49m  0 \u001b[30m\u001b[49m  0 \u001b[30m\u001b[49m  0 \u001b[30m\u001b[49m  0 \u001b[30m\u001b[49m  0 \u001b[37m\u001b[42m 13 \u001b[37m\u001b[42m 25 \u001b[37m\u001b[42m100 \u001b[37m\u001b[42m122 \u001b[37m\u001b[42m  7 \u001b[30m\u001b[49m  0 \u001b[30m\u001b[49m  0 \u001b[30m\u001b[49m  0 \u001b[30m\u001b[49m  0 \u001b[30m\u001b[49m  0 \u001b[30m\u001b[49m  0 \u001b[30m\u001b[49m  0 \u001b[30m\u001b[49m  0 \n",
            "\u001b[30m\u001b[49m  0 \u001b[30m\u001b[49m  0 \u001b[30m\u001b[49m  0 \u001b[30m\u001b[49m  0 \u001b[30m\u001b[49m  0 \u001b[30m\u001b[49m  0 \u001b[30m\u001b[49m  0 \u001b[30m\u001b[49m  0 \u001b[30m\u001b[49m  0 \u001b[30m\u001b[49m  0 \u001b[30m\u001b[49m  0 \u001b[30m\u001b[49m  0 \u001b[30m\u001b[49m  0 \u001b[37m\u001b[42m 33 \u001b[37m\u001b[42m151 \u001b[37m\u001b[42m208 \u001b[37m\u001b[42m252 \u001b[37m\u001b[42m252 \u001b[37m\u001b[42m252 \u001b[37m\u001b[42m146 \u001b[30m\u001b[49m  0 \u001b[30m\u001b[49m  0 \u001b[30m\u001b[49m  0 \u001b[30m\u001b[49m  0 \u001b[30m\u001b[49m  0 \u001b[30m\u001b[49m  0 \u001b[30m\u001b[49m  0 \u001b[30m\u001b[49m  0 \n",
            "\u001b[30m\u001b[49m  0 \u001b[30m\u001b[49m  0 \u001b[30m\u001b[49m  0 \u001b[30m\u001b[49m  0 \u001b[30m\u001b[49m  0 \u001b[30m\u001b[49m  0 \u001b[30m\u001b[49m  0 \u001b[30m\u001b[49m  0 \u001b[30m\u001b[49m  0 \u001b[30m\u001b[49m  0 \u001b[30m\u001b[49m  0 \u001b[37m\u001b[42m 40 \u001b[37m\u001b[42m152 \u001b[37m\u001b[42m244 \u001b[37m\u001b[42m252 \u001b[37m\u001b[42m253 \u001b[37m\u001b[42m224 \u001b[37m\u001b[42m211 \u001b[37m\u001b[42m252 \u001b[37m\u001b[42m232 \u001b[37m\u001b[42m 40 \u001b[30m\u001b[49m  0 \u001b[30m\u001b[49m  0 \u001b[30m\u001b[49m  0 \u001b[30m\u001b[49m  0 \u001b[30m\u001b[49m  0 \u001b[30m\u001b[49m  0 \u001b[30m\u001b[49m  0 \n",
            "\u001b[30m\u001b[49m  0 \u001b[30m\u001b[49m  0 \u001b[30m\u001b[49m  0 \u001b[30m\u001b[49m  0 \u001b[30m\u001b[49m  0 \u001b[30m\u001b[49m  0 \u001b[30m\u001b[49m  0 \u001b[30m\u001b[49m  0 \u001b[30m\u001b[49m  0 \u001b[37m\u001b[42m 15 \u001b[37m\u001b[42m152 \u001b[37m\u001b[42m239 \u001b[37m\u001b[42m252 \u001b[37m\u001b[42m252 \u001b[37m\u001b[42m252 \u001b[37m\u001b[42m216 \u001b[37m\u001b[42m 31 \u001b[37m\u001b[42m 37 \u001b[37m\u001b[42m252 \u001b[37m\u001b[42m252 \u001b[37m\u001b[42m 60 \u001b[30m\u001b[49m  0 \u001b[30m\u001b[49m  0 \u001b[30m\u001b[49m  0 \u001b[30m\u001b[49m  0 \u001b[30m\u001b[49m  0 \u001b[30m\u001b[49m  0 \u001b[30m\u001b[49m  0 \n",
            "\u001b[30m\u001b[49m  0 \u001b[30m\u001b[49m  0 \u001b[30m\u001b[49m  0 \u001b[30m\u001b[49m  0 \u001b[30m\u001b[49m  0 \u001b[30m\u001b[49m  0 \u001b[30m\u001b[49m  0 \u001b[30m\u001b[49m  0 \u001b[30m\u001b[49m  0 \u001b[37m\u001b[42m 96 \u001b[37m\u001b[42m252 \u001b[37m\u001b[42m252 \u001b[37m\u001b[42m252 \u001b[37m\u001b[42m252 \u001b[37m\u001b[42m217 \u001b[37m\u001b[42m 29 \u001b[30m\u001b[49m  0 \u001b[37m\u001b[42m 37 \u001b[37m\u001b[42m252 \u001b[37m\u001b[42m252 \u001b[37m\u001b[42m 60 \u001b[30m\u001b[49m  0 \u001b[30m\u001b[49m  0 \u001b[30m\u001b[49m  0 \u001b[30m\u001b[49m  0 \u001b[30m\u001b[49m  0 \u001b[30m\u001b[49m  0 \u001b[30m\u001b[49m  0 \n",
            "\u001b[30m\u001b[49m  0 \u001b[30m\u001b[49m  0 \u001b[30m\u001b[49m  0 \u001b[30m\u001b[49m  0 \u001b[30m\u001b[49m  0 \u001b[30m\u001b[49m  0 \u001b[30m\u001b[49m  0 \u001b[30m\u001b[49m  0 \u001b[30m\u001b[49m  0 \u001b[37m\u001b[42m181 \u001b[37m\u001b[42m252 \u001b[37m\u001b[42m252 \u001b[37m\u001b[42m220 \u001b[37m\u001b[42m167 \u001b[37m\u001b[42m 30 \u001b[30m\u001b[49m  0 \u001b[30m\u001b[49m  0 \u001b[37m\u001b[42m 77 \u001b[37m\u001b[42m252 \u001b[37m\u001b[42m252 \u001b[37m\u001b[42m 60 \u001b[30m\u001b[49m  0 \u001b[30m\u001b[49m  0 \u001b[30m\u001b[49m  0 \u001b[30m\u001b[49m  0 \u001b[30m\u001b[49m  0 \u001b[30m\u001b[49m  0 \u001b[30m\u001b[49m  0 \n",
            "\u001b[30m\u001b[49m  0 \u001b[30m\u001b[49m  0 \u001b[30m\u001b[49m  0 \u001b[30m\u001b[49m  0 \u001b[30m\u001b[49m  0 \u001b[30m\u001b[49m  0 \u001b[30m\u001b[49m  0 \u001b[30m\u001b[49m  0 \u001b[30m\u001b[49m  0 \u001b[37m\u001b[42m 26 \u001b[37m\u001b[42m128 \u001b[37m\u001b[42m 58 \u001b[37m\u001b[42m 22 \u001b[30m\u001b[49m  0 \u001b[30m\u001b[49m  0 \u001b[30m\u001b[49m  0 \u001b[30m\u001b[49m  0 \u001b[37m\u001b[42m100 \u001b[37m\u001b[42m252 \u001b[37m\u001b[42m252 \u001b[37m\u001b[42m 60 \u001b[30m\u001b[49m  0 \u001b[30m\u001b[49m  0 \u001b[30m\u001b[49m  0 \u001b[30m\u001b[49m  0 \u001b[30m\u001b[49m  0 \u001b[30m\u001b[49m  0 \u001b[30m\u001b[49m  0 \n",
            "\u001b[30m\u001b[49m  0 \u001b[30m\u001b[49m  0 \u001b[30m\u001b[49m  0 \u001b[30m\u001b[49m  0 \u001b[30m\u001b[49m  0 \u001b[30m\u001b[49m  0 \u001b[30m\u001b[49m  0 \u001b[30m\u001b[49m  0 \u001b[30m\u001b[49m  0 \u001b[30m\u001b[49m  0 \u001b[30m\u001b[49m  0 \u001b[30m\u001b[49m  0 \u001b[30m\u001b[49m  0 \u001b[30m\u001b[49m  0 \u001b[30m\u001b[49m  0 \u001b[30m\u001b[49m  0 \u001b[30m\u001b[49m  0 \u001b[37m\u001b[42m157 \u001b[37m\u001b[42m252 \u001b[37m\u001b[42m252 \u001b[37m\u001b[42m 60 \u001b[30m\u001b[49m  0 \u001b[30m\u001b[49m  0 \u001b[30m\u001b[49m  0 \u001b[30m\u001b[49m  0 \u001b[30m\u001b[49m  0 \u001b[30m\u001b[49m  0 \u001b[30m\u001b[49m  0 \n",
            "\u001b[30m\u001b[49m  0 \u001b[30m\u001b[49m  0 \u001b[30m\u001b[49m  0 \u001b[30m\u001b[49m  0 \u001b[30m\u001b[49m  0 \u001b[30m\u001b[49m  0 \u001b[30m\u001b[49m  0 \u001b[30m\u001b[49m  0 \u001b[30m\u001b[49m  0 \u001b[30m\u001b[49m  0 \u001b[30m\u001b[49m  0 \u001b[30m\u001b[49m  0 \u001b[30m\u001b[49m  0 \u001b[37m\u001b[42m110 \u001b[37m\u001b[42m121 \u001b[37m\u001b[42m122 \u001b[37m\u001b[42m121 \u001b[37m\u001b[42m202 \u001b[37m\u001b[42m252 \u001b[37m\u001b[42m194 \u001b[37m\u001b[42m  3 \u001b[30m\u001b[49m  0 \u001b[30m\u001b[49m  0 \u001b[30m\u001b[49m  0 \u001b[30m\u001b[49m  0 \u001b[30m\u001b[49m  0 \u001b[30m\u001b[49m  0 \u001b[30m\u001b[49m  0 \n",
            "\u001b[30m\u001b[49m  0 \u001b[30m\u001b[49m  0 \u001b[30m\u001b[49m  0 \u001b[30m\u001b[49m  0 \u001b[30m\u001b[49m  0 \u001b[30m\u001b[49m  0 \u001b[30m\u001b[49m  0 \u001b[30m\u001b[49m  0 \u001b[30m\u001b[49m  0 \u001b[30m\u001b[49m  0 \u001b[37m\u001b[42m 10 \u001b[37m\u001b[42m 53 \u001b[37m\u001b[42m179 \u001b[37m\u001b[42m253 \u001b[37m\u001b[42m253 \u001b[37m\u001b[42m255 \u001b[37m\u001b[42m253 \u001b[37m\u001b[42m253 \u001b[37m\u001b[42m228 \u001b[37m\u001b[42m 35 \u001b[30m\u001b[49m  0 \u001b[30m\u001b[49m  0 \u001b[30m\u001b[49m  0 \u001b[30m\u001b[49m  0 \u001b[30m\u001b[49m  0 \u001b[30m\u001b[49m  0 \u001b[30m\u001b[49m  0 \u001b[30m\u001b[49m  0 \n",
            "\u001b[30m\u001b[49m  0 \u001b[30m\u001b[49m  0 \u001b[30m\u001b[49m  0 \u001b[30m\u001b[49m  0 \u001b[30m\u001b[49m  0 \u001b[30m\u001b[49m  0 \u001b[30m\u001b[49m  0 \u001b[30m\u001b[49m  0 \u001b[37m\u001b[42m  5 \u001b[37m\u001b[42m 54 \u001b[37m\u001b[42m227 \u001b[37m\u001b[42m252 \u001b[37m\u001b[42m243 \u001b[37m\u001b[42m228 \u001b[37m\u001b[42m170 \u001b[37m\u001b[42m242 \u001b[37m\u001b[42m252 \u001b[37m\u001b[42m252 \u001b[37m\u001b[42m231 \u001b[37m\u001b[42m117 \u001b[37m\u001b[42m  6 \u001b[30m\u001b[49m  0 \u001b[30m\u001b[49m  0 \u001b[30m\u001b[49m  0 \u001b[30m\u001b[49m  0 \u001b[30m\u001b[49m  0 \u001b[30m\u001b[49m  0 \u001b[30m\u001b[49m  0 \n",
            "\u001b[30m\u001b[49m  0 \u001b[30m\u001b[49m  0 \u001b[30m\u001b[49m  0 \u001b[30m\u001b[49m  0 \u001b[30m\u001b[49m  0 \u001b[30m\u001b[49m  0 \u001b[30m\u001b[49m  0 \u001b[37m\u001b[42m  6 \u001b[37m\u001b[42m 78 \u001b[37m\u001b[42m252 \u001b[37m\u001b[42m252 \u001b[37m\u001b[42m125 \u001b[37m\u001b[42m 59 \u001b[30m\u001b[49m  0 \u001b[37m\u001b[42m 18 \u001b[37m\u001b[42m208 \u001b[37m\u001b[42m252 \u001b[37m\u001b[42m252 \u001b[37m\u001b[42m252 \u001b[37m\u001b[42m252 \u001b[37m\u001b[42m 87 \u001b[37m\u001b[42m  7 \u001b[30m\u001b[49m  0 \u001b[30m\u001b[49m  0 \u001b[30m\u001b[49m  0 \u001b[30m\u001b[49m  0 \u001b[30m\u001b[49m  0 \u001b[30m\u001b[49m  0 \n",
            "\u001b[30m\u001b[49m  0 \u001b[30m\u001b[49m  0 \u001b[30m\u001b[49m  0 \u001b[30m\u001b[49m  0 \u001b[30m\u001b[49m  0 \u001b[30m\u001b[49m  0 \u001b[37m\u001b[42m  5 \u001b[37m\u001b[42m135 \u001b[37m\u001b[42m252 \u001b[37m\u001b[42m252 \u001b[37m\u001b[42m180 \u001b[37m\u001b[42m 16 \u001b[30m\u001b[49m  0 \u001b[37m\u001b[42m 21 \u001b[37m\u001b[42m203 \u001b[37m\u001b[42m253 \u001b[37m\u001b[42m247 \u001b[37m\u001b[42m129 \u001b[37m\u001b[42m173 \u001b[37m\u001b[42m252 \u001b[37m\u001b[42m252 \u001b[37m\u001b[42m184 \u001b[37m\u001b[42m 66 \u001b[37m\u001b[42m 49 \u001b[37m\u001b[42m 49 \u001b[30m\u001b[49m  0 \u001b[30m\u001b[49m  0 \u001b[30m\u001b[49m  0 \n",
            "\u001b[30m\u001b[49m  0 \u001b[30m\u001b[49m  0 \u001b[30m\u001b[49m  0 \u001b[30m\u001b[49m  0 \u001b[30m\u001b[49m  0 \u001b[37m\u001b[42m  3 \u001b[37m\u001b[42m136 \u001b[37m\u001b[42m252 \u001b[37m\u001b[42m241 \u001b[37m\u001b[42m106 \u001b[37m\u001b[42m 17 \u001b[30m\u001b[49m  0 \u001b[37m\u001b[42m 53 \u001b[37m\u001b[42m200 \u001b[37m\u001b[42m252 \u001b[37m\u001b[42m216 \u001b[37m\u001b[42m 65 \u001b[30m\u001b[49m  0 \u001b[37m\u001b[42m 14 \u001b[37m\u001b[42m 72 \u001b[37m\u001b[42m163 \u001b[37m\u001b[42m241 \u001b[37m\u001b[42m252 \u001b[37m\u001b[42m252 \u001b[37m\u001b[42m223 \u001b[30m\u001b[49m  0 \u001b[30m\u001b[49m  0 \u001b[30m\u001b[49m  0 \n",
            "\u001b[30m\u001b[49m  0 \u001b[30m\u001b[49m  0 \u001b[30m\u001b[49m  0 \u001b[30m\u001b[49m  0 \u001b[30m\u001b[49m  0 \u001b[37m\u001b[42m105 \u001b[37m\u001b[42m252 \u001b[37m\u001b[42m242 \u001b[37m\u001b[42m 88 \u001b[37m\u001b[42m 18 \u001b[37m\u001b[42m 73 \u001b[37m\u001b[42m170 \u001b[37m\u001b[42m244 \u001b[37m\u001b[42m252 \u001b[37m\u001b[42m126 \u001b[37m\u001b[42m 29 \u001b[30m\u001b[49m  0 \u001b[30m\u001b[49m  0 \u001b[30m\u001b[49m  0 \u001b[30m\u001b[49m  0 \u001b[30m\u001b[49m  0 \u001b[37m\u001b[42m 89 \u001b[37m\u001b[42m180 \u001b[37m\u001b[42m180 \u001b[37m\u001b[42m 37 \u001b[30m\u001b[49m  0 \u001b[30m\u001b[49m  0 \u001b[30m\u001b[49m  0 \n",
            "\u001b[30m\u001b[49m  0 \u001b[30m\u001b[49m  0 \u001b[30m\u001b[49m  0 \u001b[30m\u001b[49m  0 \u001b[30m\u001b[49m  0 \u001b[37m\u001b[42m231 \u001b[37m\u001b[42m252 \u001b[37m\u001b[42m245 \u001b[37m\u001b[42m205 \u001b[37m\u001b[42m216 \u001b[37m\u001b[42m252 \u001b[37m\u001b[42m252 \u001b[37m\u001b[42m252 \u001b[37m\u001b[42m124 \u001b[37m\u001b[42m  3 \u001b[30m\u001b[49m  0 \u001b[30m\u001b[49m  0 \u001b[30m\u001b[49m  0 \u001b[30m\u001b[49m  0 \u001b[30m\u001b[49m  0 \u001b[30m\u001b[49m  0 \u001b[30m\u001b[49m  0 \u001b[30m\u001b[49m  0 \u001b[30m\u001b[49m  0 \u001b[30m\u001b[49m  0 \u001b[30m\u001b[49m  0 \u001b[30m\u001b[49m  0 \u001b[30m\u001b[49m  0 \n",
            "\u001b[30m\u001b[49m  0 \u001b[30m\u001b[49m  0 \u001b[30m\u001b[49m  0 \u001b[30m\u001b[49m  0 \u001b[30m\u001b[49m  0 \u001b[37m\u001b[42m207 \u001b[37m\u001b[42m252 \u001b[37m\u001b[42m252 \u001b[37m\u001b[42m252 \u001b[37m\u001b[42m252 \u001b[37m\u001b[42m178 \u001b[37m\u001b[42m116 \u001b[37m\u001b[42m 36 \u001b[37m\u001b[42m  4 \u001b[30m\u001b[49m  0 \u001b[30m\u001b[49m  0 \u001b[30m\u001b[49m  0 \u001b[30m\u001b[49m  0 \u001b[30m\u001b[49m  0 \u001b[30m\u001b[49m  0 \u001b[30m\u001b[49m  0 \u001b[30m\u001b[49m  0 \u001b[30m\u001b[49m  0 \u001b[30m\u001b[49m  0 \u001b[30m\u001b[49m  0 \u001b[30m\u001b[49m  0 \u001b[30m\u001b[49m  0 \u001b[30m\u001b[49m  0 \n",
            "\u001b[30m\u001b[49m  0 \u001b[30m\u001b[49m  0 \u001b[30m\u001b[49m  0 \u001b[30m\u001b[49m  0 \u001b[30m\u001b[49m  0 \u001b[37m\u001b[42m 13 \u001b[37m\u001b[42m 93 \u001b[37m\u001b[42m143 \u001b[37m\u001b[42m121 \u001b[37m\u001b[42m 23 \u001b[37m\u001b[42m  6 \u001b[30m\u001b[49m  0 \u001b[30m\u001b[49m  0 \u001b[30m\u001b[49m  0 \u001b[30m\u001b[49m  0 \u001b[30m\u001b[49m  0 \u001b[30m\u001b[49m  0 \u001b[30m\u001b[49m  0 \u001b[30m\u001b[49m  0 \u001b[30m\u001b[49m  0 \u001b[30m\u001b[49m  0 \u001b[30m\u001b[49m  0 \u001b[30m\u001b[49m  0 \u001b[30m\u001b[49m  0 \u001b[30m\u001b[49m  0 \u001b[30m\u001b[49m  0 \u001b[30m\u001b[49m  0 \u001b[30m\u001b[49m  0 \n",
            "\u001b[30m\u001b[49m  0 \u001b[30m\u001b[49m  0 \u001b[30m\u001b[49m  0 \u001b[30m\u001b[49m  0 \u001b[30m\u001b[49m  0 \u001b[30m\u001b[49m  0 \u001b[30m\u001b[49m  0 \u001b[30m\u001b[49m  0 \u001b[30m\u001b[49m  0 \u001b[30m\u001b[49m  0 \u001b[30m\u001b[49m  0 \u001b[30m\u001b[49m  0 \u001b[30m\u001b[49m  0 \u001b[30m\u001b[49m  0 \u001b[30m\u001b[49m  0 \u001b[30m\u001b[49m  0 \u001b[30m\u001b[49m  0 \u001b[30m\u001b[49m  0 \u001b[30m\u001b[49m  0 \u001b[30m\u001b[49m  0 \u001b[30m\u001b[49m  0 \u001b[30m\u001b[49m  0 \u001b[30m\u001b[49m  0 \u001b[30m\u001b[49m  0 \u001b[30m\u001b[49m  0 \u001b[30m\u001b[49m  0 \u001b[30m\u001b[49m  0 \u001b[30m\u001b[49m  0 \n",
            "\u001b[30m\u001b[49m  0 \u001b[30m\u001b[49m  0 \u001b[30m\u001b[49m  0 \u001b[30m\u001b[49m  0 \u001b[30m\u001b[49m  0 \u001b[30m\u001b[49m  0 \u001b[30m\u001b[49m  0 \u001b[30m\u001b[49m  0 \u001b[30m\u001b[49m  0 \u001b[30m\u001b[49m  0 \u001b[30m\u001b[49m  0 \u001b[30m\u001b[49m  0 \u001b[30m\u001b[49m  0 \u001b[30m\u001b[49m  0 \u001b[30m\u001b[49m  0 \u001b[30m\u001b[49m  0 \u001b[30m\u001b[49m  0 \u001b[30m\u001b[49m  0 \u001b[30m\u001b[49m  0 \u001b[30m\u001b[49m  0 \u001b[30m\u001b[49m  0 \u001b[30m\u001b[49m  0 \u001b[30m\u001b[49m  0 \u001b[30m\u001b[49m  0 \u001b[30m\u001b[49m  0 \u001b[30m\u001b[49m  0 \u001b[30m\u001b[49m  0 \u001b[30m\u001b[49m  0 \n",
            "\u001b[30m\u001b[49m  0 \u001b[30m\u001b[49m  0 \u001b[30m\u001b[49m  0 \u001b[30m\u001b[49m  0 \u001b[30m\u001b[49m  0 \u001b[30m\u001b[49m  0 \u001b[30m\u001b[49m  0 \u001b[30m\u001b[49m  0 \u001b[30m\u001b[49m  0 \u001b[30m\u001b[49m  0 \u001b[30m\u001b[49m  0 \u001b[30m\u001b[49m  0 \u001b[30m\u001b[49m  0 \u001b[30m\u001b[49m  0 \u001b[30m\u001b[49m  0 \u001b[30m\u001b[49m  0 \u001b[30m\u001b[49m  0 \u001b[30m\u001b[49m  0 \u001b[30m\u001b[49m  0 \u001b[30m\u001b[49m  0 \u001b[30m\u001b[49m  0 \u001b[30m\u001b[49m  0 \u001b[30m\u001b[49m  0 \u001b[30m\u001b[49m  0 \u001b[30m\u001b[49m  0 \u001b[30m\u001b[49m  0 \u001b[30m\u001b[49m  0 \u001b[30m\u001b[49m  0 \n",
            "\u001b[30m\u001b[49m  0 \u001b[30m\u001b[49m  0 \u001b[30m\u001b[49m  0 \u001b[30m\u001b[49m  0 \u001b[30m\u001b[49m  0 \u001b[30m\u001b[49m  0 \u001b[30m\u001b[49m  0 \u001b[30m\u001b[49m  0 \u001b[30m\u001b[49m  0 \u001b[30m\u001b[49m  0 \u001b[30m\u001b[49m  0 \u001b[30m\u001b[49m  0 \u001b[30m\u001b[49m  0 \u001b[30m\u001b[49m  0 \u001b[30m\u001b[49m  0 \u001b[30m\u001b[49m  0 \u001b[30m\u001b[49m  0 \u001b[30m\u001b[49m  0 \u001b[30m\u001b[49m  0 \u001b[30m\u001b[49m  0 \u001b[30m\u001b[49m  0 \u001b[30m\u001b[49m  0 \u001b[30m\u001b[49m  0 \u001b[30m\u001b[49m  0 \u001b[30m\u001b[49m  0 \u001b[30m\u001b[49m  0 \u001b[30m\u001b[49m  0 \u001b[30m\u001b[49m  0 \n",
            "\u001b[30m\u001b[49m  0 \u001b[30m\u001b[49m  0 \u001b[30m\u001b[49m  0 \u001b[30m\u001b[49m  0 \u001b[30m\u001b[49m  0 \u001b[30m\u001b[49m  0 \u001b[30m\u001b[49m  0 \u001b[30m\u001b[49m  0 \u001b[30m\u001b[49m  0 \u001b[30m\u001b[49m  0 \u001b[30m\u001b[49m  0 \u001b[30m\u001b[49m  0 \u001b[30m\u001b[49m  0 \u001b[30m\u001b[49m  0 \u001b[30m\u001b[49m  0 \u001b[30m\u001b[49m  0 \u001b[30m\u001b[49m  0 \u001b[30m\u001b[49m  0 \u001b[30m\u001b[49m  0 \u001b[30m\u001b[49m  0 \u001b[30m\u001b[49m  0 \u001b[30m\u001b[49m  0 \u001b[30m\u001b[49m  0 \u001b[30m\u001b[49m  0 \u001b[30m\u001b[49m  0 \u001b[30m\u001b[49m  0 \u001b[30m\u001b[49m  0 \u001b[30m\u001b[49m  0 \n",
            "\n"
          ],
          "name": "stdout"
        }
      ]
    },
    {
      "cell_type": "code",
      "metadata": {
        "id": "p-dP2sWVCiWV",
        "colab_type": "code",
        "outputId": "92cd77f8-c260-4283-89fe-9e02d54b9853",
        "colab": {
          "base_uri": "https://localhost:8080/",
          "height": 545
        }
      },
      "source": [
        "# Binary is needed with only values 0 and 1 before finding regions\n",
        "# Regions get marked with 2, 3, 4, ...\n",
        "# Total number of regions is highest marking number - 1\n",
        "new_image = greyscale_to_binary(train_images[ind], 127)\n",
        "print(\"Binary Conversion with 0 for Greyscale values < 127 and 1 otherwise\")\n",
        "print_image(new_image)"
      ],
      "execution_count": 0,
      "outputs": [
        {
          "output_type": "stream",
          "text": [
            "Binary Conversion with 0 for Greyscale values < 127 and 1 otherwise\n",
            "\u001b[30m\u001b[49m  0 \u001b[30m\u001b[49m  0 \u001b[30m\u001b[49m  0 \u001b[30m\u001b[49m  0 \u001b[30m\u001b[49m  0 \u001b[30m\u001b[49m  0 \u001b[30m\u001b[49m  0 \u001b[30m\u001b[49m  0 \u001b[30m\u001b[49m  0 \u001b[30m\u001b[49m  0 \u001b[30m\u001b[49m  0 \u001b[30m\u001b[49m  0 \u001b[30m\u001b[49m  0 \u001b[30m\u001b[49m  0 \u001b[30m\u001b[49m  0 \u001b[30m\u001b[49m  0 \u001b[30m\u001b[49m  0 \u001b[30m\u001b[49m  0 \u001b[30m\u001b[49m  0 \u001b[30m\u001b[49m  0 \u001b[30m\u001b[49m  0 \u001b[30m\u001b[49m  0 \u001b[30m\u001b[49m  0 \u001b[30m\u001b[49m  0 \u001b[30m\u001b[49m  0 \u001b[30m\u001b[49m  0 \u001b[30m\u001b[49m  0 \u001b[30m\u001b[49m  0 \n",
            "\u001b[30m\u001b[49m  0 \u001b[30m\u001b[49m  0 \u001b[30m\u001b[49m  0 \u001b[30m\u001b[49m  0 \u001b[30m\u001b[49m  0 \u001b[30m\u001b[49m  0 \u001b[30m\u001b[49m  0 \u001b[30m\u001b[49m  0 \u001b[30m\u001b[49m  0 \u001b[30m\u001b[49m  0 \u001b[30m\u001b[49m  0 \u001b[30m\u001b[49m  0 \u001b[30m\u001b[49m  0 \u001b[30m\u001b[49m  0 \u001b[30m\u001b[49m  0 \u001b[30m\u001b[49m  0 \u001b[30m\u001b[49m  0 \u001b[30m\u001b[49m  0 \u001b[30m\u001b[49m  0 \u001b[30m\u001b[49m  0 \u001b[30m\u001b[49m  0 \u001b[30m\u001b[49m  0 \u001b[30m\u001b[49m  0 \u001b[30m\u001b[49m  0 \u001b[30m\u001b[49m  0 \u001b[30m\u001b[49m  0 \u001b[30m\u001b[49m  0 \u001b[30m\u001b[49m  0 \n",
            "\u001b[30m\u001b[49m  0 \u001b[30m\u001b[49m  0 \u001b[30m\u001b[49m  0 \u001b[30m\u001b[49m  0 \u001b[30m\u001b[49m  0 \u001b[30m\u001b[49m  0 \u001b[30m\u001b[49m  0 \u001b[30m\u001b[49m  0 \u001b[30m\u001b[49m  0 \u001b[30m\u001b[49m  0 \u001b[30m\u001b[49m  0 \u001b[30m\u001b[49m  0 \u001b[30m\u001b[49m  0 \u001b[30m\u001b[49m  0 \u001b[30m\u001b[49m  0 \u001b[30m\u001b[49m  0 \u001b[30m\u001b[49m  0 \u001b[30m\u001b[49m  0 \u001b[30m\u001b[49m  0 \u001b[30m\u001b[49m  0 \u001b[30m\u001b[49m  0 \u001b[30m\u001b[49m  0 \u001b[30m\u001b[49m  0 \u001b[30m\u001b[49m  0 \u001b[30m\u001b[49m  0 \u001b[30m\u001b[49m  0 \u001b[30m\u001b[49m  0 \u001b[30m\u001b[49m  0 \n",
            "\u001b[30m\u001b[49m  0 \u001b[30m\u001b[49m  0 \u001b[30m\u001b[49m  0 \u001b[30m\u001b[49m  0 \u001b[30m\u001b[49m  0 \u001b[30m\u001b[49m  0 \u001b[30m\u001b[49m  0 \u001b[30m\u001b[49m  0 \u001b[30m\u001b[49m  0 \u001b[30m\u001b[49m  0 \u001b[30m\u001b[49m  0 \u001b[30m\u001b[49m  0 \u001b[30m\u001b[49m  0 \u001b[30m\u001b[49m  0 \u001b[30m\u001b[49m  0 \u001b[30m\u001b[49m  0 \u001b[30m\u001b[49m  0 \u001b[30m\u001b[49m  0 \u001b[30m\u001b[49m  0 \u001b[30m\u001b[49m  0 \u001b[30m\u001b[49m  0 \u001b[30m\u001b[49m  0 \u001b[30m\u001b[49m  0 \u001b[30m\u001b[49m  0 \u001b[30m\u001b[49m  0 \u001b[30m\u001b[49m  0 \u001b[30m\u001b[49m  0 \u001b[30m\u001b[49m  0 \n",
            "\u001b[30m\u001b[49m  0 \u001b[30m\u001b[49m  0 \u001b[30m\u001b[49m  0 \u001b[30m\u001b[49m  0 \u001b[30m\u001b[49m  0 \u001b[30m\u001b[49m  0 \u001b[30m\u001b[49m  0 \u001b[30m\u001b[49m  0 \u001b[30m\u001b[49m  0 \u001b[30m\u001b[49m  0 \u001b[30m\u001b[49m  0 \u001b[30m\u001b[49m  0 \u001b[30m\u001b[49m  0 \u001b[30m\u001b[49m  0 \u001b[30m\u001b[49m  0 \u001b[30m\u001b[49m  0 \u001b[30m\u001b[49m  0 \u001b[30m\u001b[49m  0 \u001b[30m\u001b[49m  0 \u001b[30m\u001b[49m  0 \u001b[30m\u001b[49m  0 \u001b[30m\u001b[49m  0 \u001b[30m\u001b[49m  0 \u001b[30m\u001b[49m  0 \u001b[30m\u001b[49m  0 \u001b[30m\u001b[49m  0 \u001b[30m\u001b[49m  0 \u001b[30m\u001b[49m  0 \n",
            "\u001b[30m\u001b[49m  0 \u001b[30m\u001b[49m  0 \u001b[30m\u001b[49m  0 \u001b[30m\u001b[49m  0 \u001b[30m\u001b[49m  0 \u001b[30m\u001b[49m  0 \u001b[30m\u001b[49m  0 \u001b[30m\u001b[49m  0 \u001b[30m\u001b[49m  0 \u001b[30m\u001b[49m  0 \u001b[30m\u001b[49m  0 \u001b[30m\u001b[49m  0 \u001b[30m\u001b[49m  0 \u001b[30m\u001b[49m  0 \u001b[30m\u001b[49m  0 \u001b[30m\u001b[49m  0 \u001b[30m\u001b[49m  0 \u001b[30m\u001b[49m  0 \u001b[30m\u001b[49m  0 \u001b[30m\u001b[49m  0 \u001b[30m\u001b[49m  0 \u001b[30m\u001b[49m  0 \u001b[30m\u001b[49m  0 \u001b[30m\u001b[49m  0 \u001b[30m\u001b[49m  0 \u001b[30m\u001b[49m  0 \u001b[30m\u001b[49m  0 \u001b[30m\u001b[49m  0 \n",
            "\u001b[30m\u001b[49m  0 \u001b[30m\u001b[49m  0 \u001b[30m\u001b[49m  0 \u001b[30m\u001b[49m  0 \u001b[30m\u001b[49m  0 \u001b[30m\u001b[49m  0 \u001b[30m\u001b[49m  0 \u001b[30m\u001b[49m  0 \u001b[30m\u001b[49m  0 \u001b[30m\u001b[49m  0 \u001b[30m\u001b[49m  0 \u001b[30m\u001b[49m  0 \u001b[30m\u001b[49m  0 \u001b[30m\u001b[49m  0 \u001b[37m\u001b[42m  1 \u001b[37m\u001b[42m  1 \u001b[37m\u001b[42m  1 \u001b[37m\u001b[42m  1 \u001b[37m\u001b[42m  1 \u001b[37m\u001b[42m  1 \u001b[30m\u001b[49m  0 \u001b[30m\u001b[49m  0 \u001b[30m\u001b[49m  0 \u001b[30m\u001b[49m  0 \u001b[30m\u001b[49m  0 \u001b[30m\u001b[49m  0 \u001b[30m\u001b[49m  0 \u001b[30m\u001b[49m  0 \n",
            "\u001b[30m\u001b[49m  0 \u001b[30m\u001b[49m  0 \u001b[30m\u001b[49m  0 \u001b[30m\u001b[49m  0 \u001b[30m\u001b[49m  0 \u001b[30m\u001b[49m  0 \u001b[30m\u001b[49m  0 \u001b[30m\u001b[49m  0 \u001b[30m\u001b[49m  0 \u001b[30m\u001b[49m  0 \u001b[30m\u001b[49m  0 \u001b[30m\u001b[49m  0 \u001b[37m\u001b[42m  1 \u001b[37m\u001b[42m  1 \u001b[37m\u001b[42m  1 \u001b[37m\u001b[42m  1 \u001b[37m\u001b[42m  1 \u001b[37m\u001b[42m  1 \u001b[37m\u001b[42m  1 \u001b[37m\u001b[42m  1 \u001b[30m\u001b[49m  0 \u001b[30m\u001b[49m  0 \u001b[30m\u001b[49m  0 \u001b[30m\u001b[49m  0 \u001b[30m\u001b[49m  0 \u001b[30m\u001b[49m  0 \u001b[30m\u001b[49m  0 \u001b[30m\u001b[49m  0 \n",
            "\u001b[30m\u001b[49m  0 \u001b[30m\u001b[49m  0 \u001b[30m\u001b[49m  0 \u001b[30m\u001b[49m  0 \u001b[30m\u001b[49m  0 \u001b[30m\u001b[49m  0 \u001b[30m\u001b[49m  0 \u001b[30m\u001b[49m  0 \u001b[30m\u001b[49m  0 \u001b[30m\u001b[49m  0 \u001b[37m\u001b[42m  1 \u001b[37m\u001b[42m  1 \u001b[37m\u001b[42m  1 \u001b[37m\u001b[42m  1 \u001b[37m\u001b[42m  1 \u001b[37m\u001b[42m  1 \u001b[30m\u001b[49m  0 \u001b[30m\u001b[49m  0 \u001b[37m\u001b[42m  1 \u001b[37m\u001b[42m  1 \u001b[30m\u001b[49m  0 \u001b[30m\u001b[49m  0 \u001b[30m\u001b[49m  0 \u001b[30m\u001b[49m  0 \u001b[30m\u001b[49m  0 \u001b[30m\u001b[49m  0 \u001b[30m\u001b[49m  0 \u001b[30m\u001b[49m  0 \n",
            "\u001b[30m\u001b[49m  0 \u001b[30m\u001b[49m  0 \u001b[30m\u001b[49m  0 \u001b[30m\u001b[49m  0 \u001b[30m\u001b[49m  0 \u001b[30m\u001b[49m  0 \u001b[30m\u001b[49m  0 \u001b[30m\u001b[49m  0 \u001b[30m\u001b[49m  0 \u001b[30m\u001b[49m  0 \u001b[37m\u001b[42m  1 \u001b[37m\u001b[42m  1 \u001b[37m\u001b[42m  1 \u001b[37m\u001b[42m  1 \u001b[37m\u001b[42m  1 \u001b[30m\u001b[49m  0 \u001b[30m\u001b[49m  0 \u001b[30m\u001b[49m  0 \u001b[37m\u001b[42m  1 \u001b[37m\u001b[42m  1 \u001b[30m\u001b[49m  0 \u001b[30m\u001b[49m  0 \u001b[30m\u001b[49m  0 \u001b[30m\u001b[49m  0 \u001b[30m\u001b[49m  0 \u001b[30m\u001b[49m  0 \u001b[30m\u001b[49m  0 \u001b[30m\u001b[49m  0 \n",
            "\u001b[30m\u001b[49m  0 \u001b[30m\u001b[49m  0 \u001b[30m\u001b[49m  0 \u001b[30m\u001b[49m  0 \u001b[30m\u001b[49m  0 \u001b[30m\u001b[49m  0 \u001b[30m\u001b[49m  0 \u001b[30m\u001b[49m  0 \u001b[30m\u001b[49m  0 \u001b[37m\u001b[42m  1 \u001b[37m\u001b[42m  1 \u001b[37m\u001b[42m  1 \u001b[37m\u001b[42m  1 \u001b[37m\u001b[42m  1 \u001b[30m\u001b[49m  0 \u001b[30m\u001b[49m  0 \u001b[30m\u001b[49m  0 \u001b[30m\u001b[49m  0 \u001b[37m\u001b[42m  1 \u001b[37m\u001b[42m  1 \u001b[30m\u001b[49m  0 \u001b[30m\u001b[49m  0 \u001b[30m\u001b[49m  0 \u001b[30m\u001b[49m  0 \u001b[30m\u001b[49m  0 \u001b[30m\u001b[49m  0 \u001b[30m\u001b[49m  0 \u001b[30m\u001b[49m  0 \n",
            "\u001b[30m\u001b[49m  0 \u001b[30m\u001b[49m  0 \u001b[30m\u001b[49m  0 \u001b[30m\u001b[49m  0 \u001b[30m\u001b[49m  0 \u001b[30m\u001b[49m  0 \u001b[30m\u001b[49m  0 \u001b[30m\u001b[49m  0 \u001b[30m\u001b[49m  0 \u001b[30m\u001b[49m  0 \u001b[37m\u001b[42m  1 \u001b[30m\u001b[49m  0 \u001b[30m\u001b[49m  0 \u001b[30m\u001b[49m  0 \u001b[30m\u001b[49m  0 \u001b[30m\u001b[49m  0 \u001b[30m\u001b[49m  0 \u001b[30m\u001b[49m  0 \u001b[37m\u001b[42m  1 \u001b[37m\u001b[42m  1 \u001b[30m\u001b[49m  0 \u001b[30m\u001b[49m  0 \u001b[30m\u001b[49m  0 \u001b[30m\u001b[49m  0 \u001b[30m\u001b[49m  0 \u001b[30m\u001b[49m  0 \u001b[30m\u001b[49m  0 \u001b[30m\u001b[49m  0 \n",
            "\u001b[30m\u001b[49m  0 \u001b[30m\u001b[49m  0 \u001b[30m\u001b[49m  0 \u001b[30m\u001b[49m  0 \u001b[30m\u001b[49m  0 \u001b[30m\u001b[49m  0 \u001b[30m\u001b[49m  0 \u001b[30m\u001b[49m  0 \u001b[30m\u001b[49m  0 \u001b[30m\u001b[49m  0 \u001b[30m\u001b[49m  0 \u001b[30m\u001b[49m  0 \u001b[30m\u001b[49m  0 \u001b[30m\u001b[49m  0 \u001b[30m\u001b[49m  0 \u001b[30m\u001b[49m  0 \u001b[30m\u001b[49m  0 \u001b[37m\u001b[42m  1 \u001b[37m\u001b[42m  1 \u001b[37m\u001b[42m  1 \u001b[30m\u001b[49m  0 \u001b[30m\u001b[49m  0 \u001b[30m\u001b[49m  0 \u001b[30m\u001b[49m  0 \u001b[30m\u001b[49m  0 \u001b[30m\u001b[49m  0 \u001b[30m\u001b[49m  0 \u001b[30m\u001b[49m  0 \n",
            "\u001b[30m\u001b[49m  0 \u001b[30m\u001b[49m  0 \u001b[30m\u001b[49m  0 \u001b[30m\u001b[49m  0 \u001b[30m\u001b[49m  0 \u001b[30m\u001b[49m  0 \u001b[30m\u001b[49m  0 \u001b[30m\u001b[49m  0 \u001b[30m\u001b[49m  0 \u001b[30m\u001b[49m  0 \u001b[30m\u001b[49m  0 \u001b[30m\u001b[49m  0 \u001b[30m\u001b[49m  0 \u001b[30m\u001b[49m  0 \u001b[30m\u001b[49m  0 \u001b[30m\u001b[49m  0 \u001b[30m\u001b[49m  0 \u001b[37m\u001b[42m  1 \u001b[37m\u001b[42m  1 \u001b[37m\u001b[42m  1 \u001b[30m\u001b[49m  0 \u001b[30m\u001b[49m  0 \u001b[30m\u001b[49m  0 \u001b[30m\u001b[49m  0 \u001b[30m\u001b[49m  0 \u001b[30m\u001b[49m  0 \u001b[30m\u001b[49m  0 \u001b[30m\u001b[49m  0 \n",
            "\u001b[30m\u001b[49m  0 \u001b[30m\u001b[49m  0 \u001b[30m\u001b[49m  0 \u001b[30m\u001b[49m  0 \u001b[30m\u001b[49m  0 \u001b[30m\u001b[49m  0 \u001b[30m\u001b[49m  0 \u001b[30m\u001b[49m  0 \u001b[30m\u001b[49m  0 \u001b[30m\u001b[49m  0 \u001b[30m\u001b[49m  0 \u001b[30m\u001b[49m  0 \u001b[37m\u001b[42m  1 \u001b[37m\u001b[42m  1 \u001b[37m\u001b[42m  1 \u001b[37m\u001b[42m  1 \u001b[37m\u001b[42m  1 \u001b[37m\u001b[42m  1 \u001b[37m\u001b[42m  1 \u001b[30m\u001b[49m  0 \u001b[30m\u001b[49m  0 \u001b[30m\u001b[49m  0 \u001b[30m\u001b[49m  0 \u001b[30m\u001b[49m  0 \u001b[30m\u001b[49m  0 \u001b[30m\u001b[49m  0 \u001b[30m\u001b[49m  0 \u001b[30m\u001b[49m  0 \n",
            "\u001b[30m\u001b[49m  0 \u001b[30m\u001b[49m  0 \u001b[30m\u001b[49m  0 \u001b[30m\u001b[49m  0 \u001b[30m\u001b[49m  0 \u001b[30m\u001b[49m  0 \u001b[30m\u001b[49m  0 \u001b[30m\u001b[49m  0 \u001b[30m\u001b[49m  0 \u001b[30m\u001b[49m  0 \u001b[37m\u001b[42m  1 \u001b[37m\u001b[42m  1 \u001b[37m\u001b[42m  1 \u001b[37m\u001b[42m  1 \u001b[37m\u001b[42m  1 \u001b[37m\u001b[42m  1 \u001b[37m\u001b[42m  1 \u001b[37m\u001b[42m  1 \u001b[37m\u001b[42m  1 \u001b[30m\u001b[49m  0 \u001b[30m\u001b[49m  0 \u001b[30m\u001b[49m  0 \u001b[30m\u001b[49m  0 \u001b[30m\u001b[49m  0 \u001b[30m\u001b[49m  0 \u001b[30m\u001b[49m  0 \u001b[30m\u001b[49m  0 \u001b[30m\u001b[49m  0 \n",
            "\u001b[30m\u001b[49m  0 \u001b[30m\u001b[49m  0 \u001b[30m\u001b[49m  0 \u001b[30m\u001b[49m  0 \u001b[30m\u001b[49m  0 \u001b[30m\u001b[49m  0 \u001b[30m\u001b[49m  0 \u001b[30m\u001b[49m  0 \u001b[30m\u001b[49m  0 \u001b[37m\u001b[42m  1 \u001b[37m\u001b[42m  1 \u001b[30m\u001b[49m  0 \u001b[30m\u001b[49m  0 \u001b[30m\u001b[49m  0 \u001b[30m\u001b[49m  0 \u001b[37m\u001b[42m  1 \u001b[37m\u001b[42m  1 \u001b[37m\u001b[42m  1 \u001b[37m\u001b[42m  1 \u001b[37m\u001b[42m  1 \u001b[30m\u001b[49m  0 \u001b[30m\u001b[49m  0 \u001b[30m\u001b[49m  0 \u001b[30m\u001b[49m  0 \u001b[30m\u001b[49m  0 \u001b[30m\u001b[49m  0 \u001b[30m\u001b[49m  0 \u001b[30m\u001b[49m  0 \n",
            "\u001b[30m\u001b[49m  0 \u001b[30m\u001b[49m  0 \u001b[30m\u001b[49m  0 \u001b[30m\u001b[49m  0 \u001b[30m\u001b[49m  0 \u001b[30m\u001b[49m  0 \u001b[30m\u001b[49m  0 \u001b[37m\u001b[42m  1 \u001b[37m\u001b[42m  1 \u001b[37m\u001b[42m  1 \u001b[37m\u001b[42m  1 \u001b[30m\u001b[49m  0 \u001b[30m\u001b[49m  0 \u001b[30m\u001b[49m  0 \u001b[37m\u001b[42m  1 \u001b[37m\u001b[42m  1 \u001b[37m\u001b[42m  1 \u001b[37m\u001b[42m  1 \u001b[37m\u001b[42m  1 \u001b[37m\u001b[42m  1 \u001b[37m\u001b[42m  1 \u001b[37m\u001b[42m  1 \u001b[30m\u001b[49m  0 \u001b[30m\u001b[49m  0 \u001b[30m\u001b[49m  0 \u001b[30m\u001b[49m  0 \u001b[30m\u001b[49m  0 \u001b[30m\u001b[49m  0 \n",
            "\u001b[30m\u001b[49m  0 \u001b[30m\u001b[49m  0 \u001b[30m\u001b[49m  0 \u001b[30m\u001b[49m  0 \u001b[30m\u001b[49m  0 \u001b[30m\u001b[49m  0 \u001b[37m\u001b[42m  1 \u001b[37m\u001b[42m  1 \u001b[37m\u001b[42m  1 \u001b[30m\u001b[49m  0 \u001b[30m\u001b[49m  0 \u001b[30m\u001b[49m  0 \u001b[30m\u001b[49m  0 \u001b[37m\u001b[42m  1 \u001b[37m\u001b[42m  1 \u001b[37m\u001b[42m  1 \u001b[30m\u001b[49m  0 \u001b[30m\u001b[49m  0 \u001b[30m\u001b[49m  0 \u001b[30m\u001b[49m  0 \u001b[37m\u001b[42m  1 \u001b[37m\u001b[42m  1 \u001b[37m\u001b[42m  1 \u001b[37m\u001b[42m  1 \u001b[37m\u001b[42m  1 \u001b[30m\u001b[49m  0 \u001b[30m\u001b[49m  0 \u001b[30m\u001b[49m  0 \n",
            "\u001b[30m\u001b[49m  0 \u001b[30m\u001b[49m  0 \u001b[30m\u001b[49m  0 \u001b[30m\u001b[49m  0 \u001b[30m\u001b[49m  0 \u001b[30m\u001b[49m  0 \u001b[37m\u001b[42m  1 \u001b[37m\u001b[42m  1 \u001b[30m\u001b[49m  0 \u001b[30m\u001b[49m  0 \u001b[30m\u001b[49m  0 \u001b[37m\u001b[42m  1 \u001b[37m\u001b[42m  1 \u001b[37m\u001b[42m  1 \u001b[30m\u001b[49m  0 \u001b[30m\u001b[49m  0 \u001b[30m\u001b[49m  0 \u001b[30m\u001b[49m  0 \u001b[30m\u001b[49m  0 \u001b[30m\u001b[49m  0 \u001b[30m\u001b[49m  0 \u001b[30m\u001b[49m  0 \u001b[37m\u001b[42m  1 \u001b[37m\u001b[42m  1 \u001b[30m\u001b[49m  0 \u001b[30m\u001b[49m  0 \u001b[30m\u001b[49m  0 \u001b[30m\u001b[49m  0 \n",
            "\u001b[30m\u001b[49m  0 \u001b[30m\u001b[49m  0 \u001b[30m\u001b[49m  0 \u001b[30m\u001b[49m  0 \u001b[30m\u001b[49m  0 \u001b[37m\u001b[42m  1 \u001b[37m\u001b[42m  1 \u001b[37m\u001b[42m  1 \u001b[37m\u001b[42m  1 \u001b[37m\u001b[42m  1 \u001b[37m\u001b[42m  1 \u001b[37m\u001b[42m  1 \u001b[37m\u001b[42m  1 \u001b[30m\u001b[49m  0 \u001b[30m\u001b[49m  0 \u001b[30m\u001b[49m  0 \u001b[30m\u001b[49m  0 \u001b[30m\u001b[49m  0 \u001b[30m\u001b[49m  0 \u001b[30m\u001b[49m  0 \u001b[30m\u001b[49m  0 \u001b[30m\u001b[49m  0 \u001b[30m\u001b[49m  0 \u001b[30m\u001b[49m  0 \u001b[30m\u001b[49m  0 \u001b[30m\u001b[49m  0 \u001b[30m\u001b[49m  0 \u001b[30m\u001b[49m  0 \n",
            "\u001b[30m\u001b[49m  0 \u001b[30m\u001b[49m  0 \u001b[30m\u001b[49m  0 \u001b[30m\u001b[49m  0 \u001b[30m\u001b[49m  0 \u001b[37m\u001b[42m  1 \u001b[37m\u001b[42m  1 \u001b[37m\u001b[42m  1 \u001b[37m\u001b[42m  1 \u001b[37m\u001b[42m  1 \u001b[37m\u001b[42m  1 \u001b[30m\u001b[49m  0 \u001b[30m\u001b[49m  0 \u001b[30m\u001b[49m  0 \u001b[30m\u001b[49m  0 \u001b[30m\u001b[49m  0 \u001b[30m\u001b[49m  0 \u001b[30m\u001b[49m  0 \u001b[30m\u001b[49m  0 \u001b[30m\u001b[49m  0 \u001b[30m\u001b[49m  0 \u001b[30m\u001b[49m  0 \u001b[30m\u001b[49m  0 \u001b[30m\u001b[49m  0 \u001b[30m\u001b[49m  0 \u001b[30m\u001b[49m  0 \u001b[30m\u001b[49m  0 \u001b[30m\u001b[49m  0 \n",
            "\u001b[30m\u001b[49m  0 \u001b[30m\u001b[49m  0 \u001b[30m\u001b[49m  0 \u001b[30m\u001b[49m  0 \u001b[30m\u001b[49m  0 \u001b[30m\u001b[49m  0 \u001b[30m\u001b[49m  0 \u001b[37m\u001b[42m  1 \u001b[30m\u001b[49m  0 \u001b[30m\u001b[49m  0 \u001b[30m\u001b[49m  0 \u001b[30m\u001b[49m  0 \u001b[30m\u001b[49m  0 \u001b[30m\u001b[49m  0 \u001b[30m\u001b[49m  0 \u001b[30m\u001b[49m  0 \u001b[30m\u001b[49m  0 \u001b[30m\u001b[49m  0 \u001b[30m\u001b[49m  0 \u001b[30m\u001b[49m  0 \u001b[30m\u001b[49m  0 \u001b[30m\u001b[49m  0 \u001b[30m\u001b[49m  0 \u001b[30m\u001b[49m  0 \u001b[30m\u001b[49m  0 \u001b[30m\u001b[49m  0 \u001b[30m\u001b[49m  0 \u001b[30m\u001b[49m  0 \n",
            "\u001b[30m\u001b[49m  0 \u001b[30m\u001b[49m  0 \u001b[30m\u001b[49m  0 \u001b[30m\u001b[49m  0 \u001b[30m\u001b[49m  0 \u001b[30m\u001b[49m  0 \u001b[30m\u001b[49m  0 \u001b[30m\u001b[49m  0 \u001b[30m\u001b[49m  0 \u001b[30m\u001b[49m  0 \u001b[30m\u001b[49m  0 \u001b[30m\u001b[49m  0 \u001b[30m\u001b[49m  0 \u001b[30m\u001b[49m  0 \u001b[30m\u001b[49m  0 \u001b[30m\u001b[49m  0 \u001b[30m\u001b[49m  0 \u001b[30m\u001b[49m  0 \u001b[30m\u001b[49m  0 \u001b[30m\u001b[49m  0 \u001b[30m\u001b[49m  0 \u001b[30m\u001b[49m  0 \u001b[30m\u001b[49m  0 \u001b[30m\u001b[49m  0 \u001b[30m\u001b[49m  0 \u001b[30m\u001b[49m  0 \u001b[30m\u001b[49m  0 \u001b[30m\u001b[49m  0 \n",
            "\u001b[30m\u001b[49m  0 \u001b[30m\u001b[49m  0 \u001b[30m\u001b[49m  0 \u001b[30m\u001b[49m  0 \u001b[30m\u001b[49m  0 \u001b[30m\u001b[49m  0 \u001b[30m\u001b[49m  0 \u001b[30m\u001b[49m  0 \u001b[30m\u001b[49m  0 \u001b[30m\u001b[49m  0 \u001b[30m\u001b[49m  0 \u001b[30m\u001b[49m  0 \u001b[30m\u001b[49m  0 \u001b[30m\u001b[49m  0 \u001b[30m\u001b[49m  0 \u001b[30m\u001b[49m  0 \u001b[30m\u001b[49m  0 \u001b[30m\u001b[49m  0 \u001b[30m\u001b[49m  0 \u001b[30m\u001b[49m  0 \u001b[30m\u001b[49m  0 \u001b[30m\u001b[49m  0 \u001b[30m\u001b[49m  0 \u001b[30m\u001b[49m  0 \u001b[30m\u001b[49m  0 \u001b[30m\u001b[49m  0 \u001b[30m\u001b[49m  0 \u001b[30m\u001b[49m  0 \n",
            "\u001b[30m\u001b[49m  0 \u001b[30m\u001b[49m  0 \u001b[30m\u001b[49m  0 \u001b[30m\u001b[49m  0 \u001b[30m\u001b[49m  0 \u001b[30m\u001b[49m  0 \u001b[30m\u001b[49m  0 \u001b[30m\u001b[49m  0 \u001b[30m\u001b[49m  0 \u001b[30m\u001b[49m  0 \u001b[30m\u001b[49m  0 \u001b[30m\u001b[49m  0 \u001b[30m\u001b[49m  0 \u001b[30m\u001b[49m  0 \u001b[30m\u001b[49m  0 \u001b[30m\u001b[49m  0 \u001b[30m\u001b[49m  0 \u001b[30m\u001b[49m  0 \u001b[30m\u001b[49m  0 \u001b[30m\u001b[49m  0 \u001b[30m\u001b[49m  0 \u001b[30m\u001b[49m  0 \u001b[30m\u001b[49m  0 \u001b[30m\u001b[49m  0 \u001b[30m\u001b[49m  0 \u001b[30m\u001b[49m  0 \u001b[30m\u001b[49m  0 \u001b[30m\u001b[49m  0 \n",
            "\u001b[30m\u001b[49m  0 \u001b[30m\u001b[49m  0 \u001b[30m\u001b[49m  0 \u001b[30m\u001b[49m  0 \u001b[30m\u001b[49m  0 \u001b[30m\u001b[49m  0 \u001b[30m\u001b[49m  0 \u001b[30m\u001b[49m  0 \u001b[30m\u001b[49m  0 \u001b[30m\u001b[49m  0 \u001b[30m\u001b[49m  0 \u001b[30m\u001b[49m  0 \u001b[30m\u001b[49m  0 \u001b[30m\u001b[49m  0 \u001b[30m\u001b[49m  0 \u001b[30m\u001b[49m  0 \u001b[30m\u001b[49m  0 \u001b[30m\u001b[49m  0 \u001b[30m\u001b[49m  0 \u001b[30m\u001b[49m  0 \u001b[30m\u001b[49m  0 \u001b[30m\u001b[49m  0 \u001b[30m\u001b[49m  0 \u001b[30m\u001b[49m  0 \u001b[30m\u001b[49m  0 \u001b[30m\u001b[49m  0 \u001b[30m\u001b[49m  0 \u001b[30m\u001b[49m  0 \n",
            "\u001b[30m\u001b[49m  0 \u001b[30m\u001b[49m  0 \u001b[30m\u001b[49m  0 \u001b[30m\u001b[49m  0 \u001b[30m\u001b[49m  0 \u001b[30m\u001b[49m  0 \u001b[30m\u001b[49m  0 \u001b[30m\u001b[49m  0 \u001b[30m\u001b[49m  0 \u001b[30m\u001b[49m  0 \u001b[30m\u001b[49m  0 \u001b[30m\u001b[49m  0 \u001b[30m\u001b[49m  0 \u001b[30m\u001b[49m  0 \u001b[30m\u001b[49m  0 \u001b[30m\u001b[49m  0 \u001b[30m\u001b[49m  0 \u001b[30m\u001b[49m  0 \u001b[30m\u001b[49m  0 \u001b[30m\u001b[49m  0 \u001b[30m\u001b[49m  0 \u001b[30m\u001b[49m  0 \u001b[30m\u001b[49m  0 \u001b[30m\u001b[49m  0 \u001b[30m\u001b[49m  0 \u001b[30m\u001b[49m  0 \u001b[30m\u001b[49m  0 \u001b[30m\u001b[49m  0 \n",
            "\n"
          ],
          "name": "stdout"
        }
      ]
    },
    {
      "cell_type": "code",
      "metadata": {
        "id": "c2nnBOPrCtNn",
        "colab_type": "code",
        "outputId": "9a0dee3b-a308-4e65-b259-f1cae6742d6e",
        "colab": {
          "base_uri": "https://localhost:8080/",
          "height": 580
        }
      },
      "source": [
        "new_label = 2     # Reset Starting marker number. Values 0 and 1 are part of binary image\n",
        "visited = np.zeros((28,28)) # Reset visited pixels for current image\n",
        "rows = new_image.shape[0]\n",
        "cols = new_image.shape[1]\n",
        "for r in range(rows):\n",
        "    for c in range(cols):\n",
        "        if(visited[r,c]==0): # Make recursive call only if in new region\n",
        "            mark_single_region(new_image,r,c,new_label)\n",
        "print()\n",
        "print(\"White Regions Marked Starting with Region Marker# = 2\")\n",
        "for row in range(28):\n",
        "    for col in range(28):\n",
        "        if new_image[row,col] != 1:\n",
        "            print(Fore.BLACK + Back.RESET + \"{0:3d}\".format(new_image[row,col]), end = \" \")\n",
        "        else:\n",
        "            print(Fore.WHITE + Back.GREEN + \"{0:3d}\".format(new_image[row,col]), end = \" \")\n",
        "    print()\n",
        "print()\n",
        "print(\"Number White Regions = Highest Marked number(\", new_label - 1,\") - 1 = \", new_label - 2)"
      ],
      "execution_count": 0,
      "outputs": [
        {
          "output_type": "stream",
          "text": [
            "\n",
            "White Regions Marked Starting with Region Marker# = 2\n",
            "\u001b[30m\u001b[49m  2 \u001b[30m\u001b[49m  2 \u001b[30m\u001b[49m  2 \u001b[30m\u001b[49m  2 \u001b[30m\u001b[49m  2 \u001b[30m\u001b[49m  2 \u001b[30m\u001b[49m  2 \u001b[30m\u001b[49m  2 \u001b[30m\u001b[49m  2 \u001b[30m\u001b[49m  2 \u001b[30m\u001b[49m  2 \u001b[30m\u001b[49m  2 \u001b[30m\u001b[49m  2 \u001b[30m\u001b[49m  2 \u001b[30m\u001b[49m  2 \u001b[30m\u001b[49m  2 \u001b[30m\u001b[49m  2 \u001b[30m\u001b[49m  2 \u001b[30m\u001b[49m  2 \u001b[30m\u001b[49m  2 \u001b[30m\u001b[49m  2 \u001b[30m\u001b[49m  2 \u001b[30m\u001b[49m  2 \u001b[30m\u001b[49m  2 \u001b[30m\u001b[49m  2 \u001b[30m\u001b[49m  2 \u001b[30m\u001b[49m  2 \u001b[30m\u001b[49m  2 \n",
            "\u001b[30m\u001b[49m  2 \u001b[30m\u001b[49m  2 \u001b[30m\u001b[49m  2 \u001b[30m\u001b[49m  2 \u001b[30m\u001b[49m  2 \u001b[30m\u001b[49m  2 \u001b[30m\u001b[49m  2 \u001b[30m\u001b[49m  2 \u001b[30m\u001b[49m  2 \u001b[30m\u001b[49m  2 \u001b[30m\u001b[49m  2 \u001b[30m\u001b[49m  2 \u001b[30m\u001b[49m  2 \u001b[30m\u001b[49m  2 \u001b[30m\u001b[49m  2 \u001b[30m\u001b[49m  2 \u001b[30m\u001b[49m  2 \u001b[30m\u001b[49m  2 \u001b[30m\u001b[49m  2 \u001b[30m\u001b[49m  2 \u001b[30m\u001b[49m  2 \u001b[30m\u001b[49m  2 \u001b[30m\u001b[49m  2 \u001b[30m\u001b[49m  2 \u001b[30m\u001b[49m  2 \u001b[30m\u001b[49m  2 \u001b[30m\u001b[49m  2 \u001b[30m\u001b[49m  2 \n",
            "\u001b[30m\u001b[49m  2 \u001b[30m\u001b[49m  2 \u001b[30m\u001b[49m  2 \u001b[30m\u001b[49m  2 \u001b[30m\u001b[49m  2 \u001b[30m\u001b[49m  2 \u001b[30m\u001b[49m  2 \u001b[30m\u001b[49m  2 \u001b[30m\u001b[49m  2 \u001b[30m\u001b[49m  2 \u001b[30m\u001b[49m  2 \u001b[30m\u001b[49m  2 \u001b[30m\u001b[49m  2 \u001b[30m\u001b[49m  2 \u001b[30m\u001b[49m  2 \u001b[30m\u001b[49m  2 \u001b[30m\u001b[49m  2 \u001b[30m\u001b[49m  2 \u001b[30m\u001b[49m  2 \u001b[30m\u001b[49m  2 \u001b[30m\u001b[49m  2 \u001b[30m\u001b[49m  2 \u001b[30m\u001b[49m  2 \u001b[30m\u001b[49m  2 \u001b[30m\u001b[49m  2 \u001b[30m\u001b[49m  2 \u001b[30m\u001b[49m  2 \u001b[30m\u001b[49m  2 \n",
            "\u001b[30m\u001b[49m  2 \u001b[30m\u001b[49m  2 \u001b[30m\u001b[49m  2 \u001b[30m\u001b[49m  2 \u001b[30m\u001b[49m  2 \u001b[30m\u001b[49m  2 \u001b[30m\u001b[49m  2 \u001b[30m\u001b[49m  2 \u001b[30m\u001b[49m  2 \u001b[30m\u001b[49m  2 \u001b[30m\u001b[49m  2 \u001b[30m\u001b[49m  2 \u001b[30m\u001b[49m  2 \u001b[30m\u001b[49m  2 \u001b[30m\u001b[49m  2 \u001b[30m\u001b[49m  2 \u001b[30m\u001b[49m  2 \u001b[30m\u001b[49m  2 \u001b[30m\u001b[49m  2 \u001b[30m\u001b[49m  2 \u001b[30m\u001b[49m  2 \u001b[30m\u001b[49m  2 \u001b[30m\u001b[49m  2 \u001b[30m\u001b[49m  2 \u001b[30m\u001b[49m  2 \u001b[30m\u001b[49m  2 \u001b[30m\u001b[49m  2 \u001b[30m\u001b[49m  2 \n",
            "\u001b[30m\u001b[49m  2 \u001b[30m\u001b[49m  2 \u001b[30m\u001b[49m  2 \u001b[30m\u001b[49m  2 \u001b[30m\u001b[49m  2 \u001b[30m\u001b[49m  2 \u001b[30m\u001b[49m  2 \u001b[30m\u001b[49m  2 \u001b[30m\u001b[49m  2 \u001b[30m\u001b[49m  2 \u001b[30m\u001b[49m  2 \u001b[30m\u001b[49m  2 \u001b[30m\u001b[49m  2 \u001b[30m\u001b[49m  2 \u001b[30m\u001b[49m  2 \u001b[30m\u001b[49m  2 \u001b[30m\u001b[49m  2 \u001b[30m\u001b[49m  2 \u001b[30m\u001b[49m  2 \u001b[30m\u001b[49m  2 \u001b[30m\u001b[49m  2 \u001b[30m\u001b[49m  2 \u001b[30m\u001b[49m  2 \u001b[30m\u001b[49m  2 \u001b[30m\u001b[49m  2 \u001b[30m\u001b[49m  2 \u001b[30m\u001b[49m  2 \u001b[30m\u001b[49m  2 \n",
            "\u001b[30m\u001b[49m  2 \u001b[30m\u001b[49m  2 \u001b[30m\u001b[49m  2 \u001b[30m\u001b[49m  2 \u001b[30m\u001b[49m  2 \u001b[30m\u001b[49m  2 \u001b[30m\u001b[49m  2 \u001b[30m\u001b[49m  2 \u001b[30m\u001b[49m  2 \u001b[30m\u001b[49m  2 \u001b[30m\u001b[49m  2 \u001b[30m\u001b[49m  2 \u001b[30m\u001b[49m  2 \u001b[30m\u001b[49m  2 \u001b[30m\u001b[49m  2 \u001b[30m\u001b[49m  2 \u001b[30m\u001b[49m  2 \u001b[30m\u001b[49m  2 \u001b[30m\u001b[49m  2 \u001b[30m\u001b[49m  2 \u001b[30m\u001b[49m  2 \u001b[30m\u001b[49m  2 \u001b[30m\u001b[49m  2 \u001b[30m\u001b[49m  2 \u001b[30m\u001b[49m  2 \u001b[30m\u001b[49m  2 \u001b[30m\u001b[49m  2 \u001b[30m\u001b[49m  2 \n",
            "\u001b[30m\u001b[49m  2 \u001b[30m\u001b[49m  2 \u001b[30m\u001b[49m  2 \u001b[30m\u001b[49m  2 \u001b[30m\u001b[49m  2 \u001b[30m\u001b[49m  2 \u001b[30m\u001b[49m  2 \u001b[30m\u001b[49m  2 \u001b[30m\u001b[49m  2 \u001b[30m\u001b[49m  2 \u001b[30m\u001b[49m  2 \u001b[30m\u001b[49m  2 \u001b[30m\u001b[49m  2 \u001b[30m\u001b[49m  2 \u001b[37m\u001b[42m  1 \u001b[37m\u001b[42m  1 \u001b[37m\u001b[42m  1 \u001b[37m\u001b[42m  1 \u001b[37m\u001b[42m  1 \u001b[37m\u001b[42m  1 \u001b[30m\u001b[49m  2 \u001b[30m\u001b[49m  2 \u001b[30m\u001b[49m  2 \u001b[30m\u001b[49m  2 \u001b[30m\u001b[49m  2 \u001b[30m\u001b[49m  2 \u001b[30m\u001b[49m  2 \u001b[30m\u001b[49m  2 \n",
            "\u001b[30m\u001b[49m  2 \u001b[30m\u001b[49m  2 \u001b[30m\u001b[49m  2 \u001b[30m\u001b[49m  2 \u001b[30m\u001b[49m  2 \u001b[30m\u001b[49m  2 \u001b[30m\u001b[49m  2 \u001b[30m\u001b[49m  2 \u001b[30m\u001b[49m  2 \u001b[30m\u001b[49m  2 \u001b[30m\u001b[49m  2 \u001b[30m\u001b[49m  2 \u001b[37m\u001b[42m  1 \u001b[37m\u001b[42m  1 \u001b[37m\u001b[42m  1 \u001b[37m\u001b[42m  1 \u001b[37m\u001b[42m  1 \u001b[37m\u001b[42m  1 \u001b[37m\u001b[42m  1 \u001b[37m\u001b[42m  1 \u001b[30m\u001b[49m  2 \u001b[30m\u001b[49m  2 \u001b[30m\u001b[49m  2 \u001b[30m\u001b[49m  2 \u001b[30m\u001b[49m  2 \u001b[30m\u001b[49m  2 \u001b[30m\u001b[49m  2 \u001b[30m\u001b[49m  2 \n",
            "\u001b[30m\u001b[49m  2 \u001b[30m\u001b[49m  2 \u001b[30m\u001b[49m  2 \u001b[30m\u001b[49m  2 \u001b[30m\u001b[49m  2 \u001b[30m\u001b[49m  2 \u001b[30m\u001b[49m  2 \u001b[30m\u001b[49m  2 \u001b[30m\u001b[49m  2 \u001b[30m\u001b[49m  2 \u001b[37m\u001b[42m  1 \u001b[37m\u001b[42m  1 \u001b[37m\u001b[42m  1 \u001b[37m\u001b[42m  1 \u001b[37m\u001b[42m  1 \u001b[37m\u001b[42m  1 \u001b[30m\u001b[49m  2 \u001b[30m\u001b[49m  2 \u001b[37m\u001b[42m  1 \u001b[37m\u001b[42m  1 \u001b[30m\u001b[49m  2 \u001b[30m\u001b[49m  2 \u001b[30m\u001b[49m  2 \u001b[30m\u001b[49m  2 \u001b[30m\u001b[49m  2 \u001b[30m\u001b[49m  2 \u001b[30m\u001b[49m  2 \u001b[30m\u001b[49m  2 \n",
            "\u001b[30m\u001b[49m  2 \u001b[30m\u001b[49m  2 \u001b[30m\u001b[49m  2 \u001b[30m\u001b[49m  2 \u001b[30m\u001b[49m  2 \u001b[30m\u001b[49m  2 \u001b[30m\u001b[49m  2 \u001b[30m\u001b[49m  2 \u001b[30m\u001b[49m  2 \u001b[30m\u001b[49m  2 \u001b[37m\u001b[42m  1 \u001b[37m\u001b[42m  1 \u001b[37m\u001b[42m  1 \u001b[37m\u001b[42m  1 \u001b[37m\u001b[42m  1 \u001b[30m\u001b[49m  2 \u001b[30m\u001b[49m  2 \u001b[30m\u001b[49m  2 \u001b[37m\u001b[42m  1 \u001b[37m\u001b[42m  1 \u001b[30m\u001b[49m  2 \u001b[30m\u001b[49m  2 \u001b[30m\u001b[49m  2 \u001b[30m\u001b[49m  2 \u001b[30m\u001b[49m  2 \u001b[30m\u001b[49m  2 \u001b[30m\u001b[49m  2 \u001b[30m\u001b[49m  2 \n",
            "\u001b[30m\u001b[49m  2 \u001b[30m\u001b[49m  2 \u001b[30m\u001b[49m  2 \u001b[30m\u001b[49m  2 \u001b[30m\u001b[49m  2 \u001b[30m\u001b[49m  2 \u001b[30m\u001b[49m  2 \u001b[30m\u001b[49m  2 \u001b[30m\u001b[49m  2 \u001b[37m\u001b[42m  1 \u001b[37m\u001b[42m  1 \u001b[37m\u001b[42m  1 \u001b[37m\u001b[42m  1 \u001b[37m\u001b[42m  1 \u001b[30m\u001b[49m  2 \u001b[30m\u001b[49m  2 \u001b[30m\u001b[49m  2 \u001b[30m\u001b[49m  2 \u001b[37m\u001b[42m  1 \u001b[37m\u001b[42m  1 \u001b[30m\u001b[49m  2 \u001b[30m\u001b[49m  2 \u001b[30m\u001b[49m  2 \u001b[30m\u001b[49m  2 \u001b[30m\u001b[49m  2 \u001b[30m\u001b[49m  2 \u001b[30m\u001b[49m  2 \u001b[30m\u001b[49m  2 \n",
            "\u001b[30m\u001b[49m  2 \u001b[30m\u001b[49m  2 \u001b[30m\u001b[49m  2 \u001b[30m\u001b[49m  2 \u001b[30m\u001b[49m  2 \u001b[30m\u001b[49m  2 \u001b[30m\u001b[49m  2 \u001b[30m\u001b[49m  2 \u001b[30m\u001b[49m  2 \u001b[30m\u001b[49m  2 \u001b[37m\u001b[42m  1 \u001b[30m\u001b[49m  2 \u001b[30m\u001b[49m  2 \u001b[30m\u001b[49m  2 \u001b[30m\u001b[49m  2 \u001b[30m\u001b[49m  2 \u001b[30m\u001b[49m  2 \u001b[30m\u001b[49m  2 \u001b[37m\u001b[42m  1 \u001b[37m\u001b[42m  1 \u001b[30m\u001b[49m  2 \u001b[30m\u001b[49m  2 \u001b[30m\u001b[49m  2 \u001b[30m\u001b[49m  2 \u001b[30m\u001b[49m  2 \u001b[30m\u001b[49m  2 \u001b[30m\u001b[49m  2 \u001b[30m\u001b[49m  2 \n",
            "\u001b[30m\u001b[49m  2 \u001b[30m\u001b[49m  2 \u001b[30m\u001b[49m  2 \u001b[30m\u001b[49m  2 \u001b[30m\u001b[49m  2 \u001b[30m\u001b[49m  2 \u001b[30m\u001b[49m  2 \u001b[30m\u001b[49m  2 \u001b[30m\u001b[49m  2 \u001b[30m\u001b[49m  2 \u001b[30m\u001b[49m  2 \u001b[30m\u001b[49m  2 \u001b[30m\u001b[49m  2 \u001b[30m\u001b[49m  2 \u001b[30m\u001b[49m  2 \u001b[30m\u001b[49m  2 \u001b[30m\u001b[49m  2 \u001b[37m\u001b[42m  1 \u001b[37m\u001b[42m  1 \u001b[37m\u001b[42m  1 \u001b[30m\u001b[49m  2 \u001b[30m\u001b[49m  2 \u001b[30m\u001b[49m  2 \u001b[30m\u001b[49m  2 \u001b[30m\u001b[49m  2 \u001b[30m\u001b[49m  2 \u001b[30m\u001b[49m  2 \u001b[30m\u001b[49m  2 \n",
            "\u001b[30m\u001b[49m  2 \u001b[30m\u001b[49m  2 \u001b[30m\u001b[49m  2 \u001b[30m\u001b[49m  2 \u001b[30m\u001b[49m  2 \u001b[30m\u001b[49m  2 \u001b[30m\u001b[49m  2 \u001b[30m\u001b[49m  2 \u001b[30m\u001b[49m  2 \u001b[30m\u001b[49m  2 \u001b[30m\u001b[49m  2 \u001b[30m\u001b[49m  2 \u001b[30m\u001b[49m  2 \u001b[30m\u001b[49m  2 \u001b[30m\u001b[49m  2 \u001b[30m\u001b[49m  2 \u001b[30m\u001b[49m  2 \u001b[37m\u001b[42m  1 \u001b[37m\u001b[42m  1 \u001b[37m\u001b[42m  1 \u001b[30m\u001b[49m  2 \u001b[30m\u001b[49m  2 \u001b[30m\u001b[49m  2 \u001b[30m\u001b[49m  2 \u001b[30m\u001b[49m  2 \u001b[30m\u001b[49m  2 \u001b[30m\u001b[49m  2 \u001b[30m\u001b[49m  2 \n",
            "\u001b[30m\u001b[49m  2 \u001b[30m\u001b[49m  2 \u001b[30m\u001b[49m  2 \u001b[30m\u001b[49m  2 \u001b[30m\u001b[49m  2 \u001b[30m\u001b[49m  2 \u001b[30m\u001b[49m  2 \u001b[30m\u001b[49m  2 \u001b[30m\u001b[49m  2 \u001b[30m\u001b[49m  2 \u001b[30m\u001b[49m  2 \u001b[30m\u001b[49m  2 \u001b[37m\u001b[42m  1 \u001b[37m\u001b[42m  1 \u001b[37m\u001b[42m  1 \u001b[37m\u001b[42m  1 \u001b[37m\u001b[42m  1 \u001b[37m\u001b[42m  1 \u001b[37m\u001b[42m  1 \u001b[30m\u001b[49m  2 \u001b[30m\u001b[49m  2 \u001b[30m\u001b[49m  2 \u001b[30m\u001b[49m  2 \u001b[30m\u001b[49m  2 \u001b[30m\u001b[49m  2 \u001b[30m\u001b[49m  2 \u001b[30m\u001b[49m  2 \u001b[30m\u001b[49m  2 \n",
            "\u001b[30m\u001b[49m  2 \u001b[30m\u001b[49m  2 \u001b[30m\u001b[49m  2 \u001b[30m\u001b[49m  2 \u001b[30m\u001b[49m  2 \u001b[30m\u001b[49m  2 \u001b[30m\u001b[49m  2 \u001b[30m\u001b[49m  2 \u001b[30m\u001b[49m  2 \u001b[30m\u001b[49m  2 \u001b[37m\u001b[42m  1 \u001b[37m\u001b[42m  1 \u001b[37m\u001b[42m  1 \u001b[37m\u001b[42m  1 \u001b[37m\u001b[42m  1 \u001b[37m\u001b[42m  1 \u001b[37m\u001b[42m  1 \u001b[37m\u001b[42m  1 \u001b[37m\u001b[42m  1 \u001b[30m\u001b[49m  2 \u001b[30m\u001b[49m  2 \u001b[30m\u001b[49m  2 \u001b[30m\u001b[49m  2 \u001b[30m\u001b[49m  2 \u001b[30m\u001b[49m  2 \u001b[30m\u001b[49m  2 \u001b[30m\u001b[49m  2 \u001b[30m\u001b[49m  2 \n",
            "\u001b[30m\u001b[49m  2 \u001b[30m\u001b[49m  2 \u001b[30m\u001b[49m  2 \u001b[30m\u001b[49m  2 \u001b[30m\u001b[49m  2 \u001b[30m\u001b[49m  2 \u001b[30m\u001b[49m  2 \u001b[30m\u001b[49m  2 \u001b[30m\u001b[49m  2 \u001b[37m\u001b[42m  1 \u001b[37m\u001b[42m  1 \u001b[30m\u001b[49m  3 \u001b[30m\u001b[49m  3 \u001b[30m\u001b[49m  3 \u001b[30m\u001b[49m  3 \u001b[37m\u001b[42m  1 \u001b[37m\u001b[42m  1 \u001b[37m\u001b[42m  1 \u001b[37m\u001b[42m  1 \u001b[37m\u001b[42m  1 \u001b[30m\u001b[49m  2 \u001b[30m\u001b[49m  2 \u001b[30m\u001b[49m  2 \u001b[30m\u001b[49m  2 \u001b[30m\u001b[49m  2 \u001b[30m\u001b[49m  2 \u001b[30m\u001b[49m  2 \u001b[30m\u001b[49m  2 \n",
            "\u001b[30m\u001b[49m  2 \u001b[30m\u001b[49m  2 \u001b[30m\u001b[49m  2 \u001b[30m\u001b[49m  2 \u001b[30m\u001b[49m  2 \u001b[30m\u001b[49m  2 \u001b[30m\u001b[49m  2 \u001b[37m\u001b[42m  1 \u001b[37m\u001b[42m  1 \u001b[37m\u001b[42m  1 \u001b[37m\u001b[42m  1 \u001b[30m\u001b[49m  3 \u001b[30m\u001b[49m  3 \u001b[30m\u001b[49m  3 \u001b[37m\u001b[42m  1 \u001b[37m\u001b[42m  1 \u001b[37m\u001b[42m  1 \u001b[37m\u001b[42m  1 \u001b[37m\u001b[42m  1 \u001b[37m\u001b[42m  1 \u001b[37m\u001b[42m  1 \u001b[37m\u001b[42m  1 \u001b[30m\u001b[49m  2 \u001b[30m\u001b[49m  2 \u001b[30m\u001b[49m  2 \u001b[30m\u001b[49m  2 \u001b[30m\u001b[49m  2 \u001b[30m\u001b[49m  2 \n",
            "\u001b[30m\u001b[49m  2 \u001b[30m\u001b[49m  2 \u001b[30m\u001b[49m  2 \u001b[30m\u001b[49m  2 \u001b[30m\u001b[49m  2 \u001b[30m\u001b[49m  2 \u001b[37m\u001b[42m  1 \u001b[37m\u001b[42m  1 \u001b[37m\u001b[42m  1 \u001b[30m\u001b[49m  3 \u001b[30m\u001b[49m  3 \u001b[30m\u001b[49m  3 \u001b[30m\u001b[49m  3 \u001b[37m\u001b[42m  1 \u001b[37m\u001b[42m  1 \u001b[37m\u001b[42m  1 \u001b[30m\u001b[49m  2 \u001b[30m\u001b[49m  2 \u001b[30m\u001b[49m  2 \u001b[30m\u001b[49m  2 \u001b[37m\u001b[42m  1 \u001b[37m\u001b[42m  1 \u001b[37m\u001b[42m  1 \u001b[37m\u001b[42m  1 \u001b[37m\u001b[42m  1 \u001b[30m\u001b[49m  2 \u001b[30m\u001b[49m  2 \u001b[30m\u001b[49m  2 \n",
            "\u001b[30m\u001b[49m  2 \u001b[30m\u001b[49m  2 \u001b[30m\u001b[49m  2 \u001b[30m\u001b[49m  2 \u001b[30m\u001b[49m  2 \u001b[30m\u001b[49m  2 \u001b[37m\u001b[42m  1 \u001b[37m\u001b[42m  1 \u001b[30m\u001b[49m  3 \u001b[30m\u001b[49m  3 \u001b[30m\u001b[49m  3 \u001b[37m\u001b[42m  1 \u001b[37m\u001b[42m  1 \u001b[37m\u001b[42m  1 \u001b[30m\u001b[49m  2 \u001b[30m\u001b[49m  2 \u001b[30m\u001b[49m  2 \u001b[30m\u001b[49m  2 \u001b[30m\u001b[49m  2 \u001b[30m\u001b[49m  2 \u001b[30m\u001b[49m  2 \u001b[30m\u001b[49m  2 \u001b[37m\u001b[42m  1 \u001b[37m\u001b[42m  1 \u001b[30m\u001b[49m  2 \u001b[30m\u001b[49m  2 \u001b[30m\u001b[49m  2 \u001b[30m\u001b[49m  2 \n",
            "\u001b[30m\u001b[49m  2 \u001b[30m\u001b[49m  2 \u001b[30m\u001b[49m  2 \u001b[30m\u001b[49m  2 \u001b[30m\u001b[49m  2 \u001b[37m\u001b[42m  1 \u001b[37m\u001b[42m  1 \u001b[37m\u001b[42m  1 \u001b[37m\u001b[42m  1 \u001b[37m\u001b[42m  1 \u001b[37m\u001b[42m  1 \u001b[37m\u001b[42m  1 \u001b[37m\u001b[42m  1 \u001b[30m\u001b[49m  2 \u001b[30m\u001b[49m  2 \u001b[30m\u001b[49m  2 \u001b[30m\u001b[49m  2 \u001b[30m\u001b[49m  2 \u001b[30m\u001b[49m  2 \u001b[30m\u001b[49m  2 \u001b[30m\u001b[49m  2 \u001b[30m\u001b[49m  2 \u001b[30m\u001b[49m  2 \u001b[30m\u001b[49m  2 \u001b[30m\u001b[49m  2 \u001b[30m\u001b[49m  2 \u001b[30m\u001b[49m  2 \u001b[30m\u001b[49m  2 \n",
            "\u001b[30m\u001b[49m  2 \u001b[30m\u001b[49m  2 \u001b[30m\u001b[49m  2 \u001b[30m\u001b[49m  2 \u001b[30m\u001b[49m  2 \u001b[37m\u001b[42m  1 \u001b[37m\u001b[42m  1 \u001b[37m\u001b[42m  1 \u001b[37m\u001b[42m  1 \u001b[37m\u001b[42m  1 \u001b[37m\u001b[42m  1 \u001b[30m\u001b[49m  2 \u001b[30m\u001b[49m  2 \u001b[30m\u001b[49m  2 \u001b[30m\u001b[49m  2 \u001b[30m\u001b[49m  2 \u001b[30m\u001b[49m  2 \u001b[30m\u001b[49m  2 \u001b[30m\u001b[49m  2 \u001b[30m\u001b[49m  2 \u001b[30m\u001b[49m  2 \u001b[30m\u001b[49m  2 \u001b[30m\u001b[49m  2 \u001b[30m\u001b[49m  2 \u001b[30m\u001b[49m  2 \u001b[30m\u001b[49m  2 \u001b[30m\u001b[49m  2 \u001b[30m\u001b[49m  2 \n",
            "\u001b[30m\u001b[49m  2 \u001b[30m\u001b[49m  2 \u001b[30m\u001b[49m  2 \u001b[30m\u001b[49m  2 \u001b[30m\u001b[49m  2 \u001b[30m\u001b[49m  2 \u001b[30m\u001b[49m  2 \u001b[37m\u001b[42m  1 \u001b[30m\u001b[49m  2 \u001b[30m\u001b[49m  2 \u001b[30m\u001b[49m  2 \u001b[30m\u001b[49m  2 \u001b[30m\u001b[49m  2 \u001b[30m\u001b[49m  2 \u001b[30m\u001b[49m  2 \u001b[30m\u001b[49m  2 \u001b[30m\u001b[49m  2 \u001b[30m\u001b[49m  2 \u001b[30m\u001b[49m  2 \u001b[30m\u001b[49m  2 \u001b[30m\u001b[49m  2 \u001b[30m\u001b[49m  2 \u001b[30m\u001b[49m  2 \u001b[30m\u001b[49m  2 \u001b[30m\u001b[49m  2 \u001b[30m\u001b[49m  2 \u001b[30m\u001b[49m  2 \u001b[30m\u001b[49m  2 \n",
            "\u001b[30m\u001b[49m  2 \u001b[30m\u001b[49m  2 \u001b[30m\u001b[49m  2 \u001b[30m\u001b[49m  2 \u001b[30m\u001b[49m  2 \u001b[30m\u001b[49m  2 \u001b[30m\u001b[49m  2 \u001b[30m\u001b[49m  2 \u001b[30m\u001b[49m  2 \u001b[30m\u001b[49m  2 \u001b[30m\u001b[49m  2 \u001b[30m\u001b[49m  2 \u001b[30m\u001b[49m  2 \u001b[30m\u001b[49m  2 \u001b[30m\u001b[49m  2 \u001b[30m\u001b[49m  2 \u001b[30m\u001b[49m  2 \u001b[30m\u001b[49m  2 \u001b[30m\u001b[49m  2 \u001b[30m\u001b[49m  2 \u001b[30m\u001b[49m  2 \u001b[30m\u001b[49m  2 \u001b[30m\u001b[49m  2 \u001b[30m\u001b[49m  2 \u001b[30m\u001b[49m  2 \u001b[30m\u001b[49m  2 \u001b[30m\u001b[49m  2 \u001b[30m\u001b[49m  2 \n",
            "\u001b[30m\u001b[49m  2 \u001b[30m\u001b[49m  2 \u001b[30m\u001b[49m  2 \u001b[30m\u001b[49m  2 \u001b[30m\u001b[49m  2 \u001b[30m\u001b[49m  2 \u001b[30m\u001b[49m  2 \u001b[30m\u001b[49m  2 \u001b[30m\u001b[49m  2 \u001b[30m\u001b[49m  2 \u001b[30m\u001b[49m  2 \u001b[30m\u001b[49m  2 \u001b[30m\u001b[49m  2 \u001b[30m\u001b[49m  2 \u001b[30m\u001b[49m  2 \u001b[30m\u001b[49m  2 \u001b[30m\u001b[49m  2 \u001b[30m\u001b[49m  2 \u001b[30m\u001b[49m  2 \u001b[30m\u001b[49m  2 \u001b[30m\u001b[49m  2 \u001b[30m\u001b[49m  2 \u001b[30m\u001b[49m  2 \u001b[30m\u001b[49m  2 \u001b[30m\u001b[49m  2 \u001b[30m\u001b[49m  2 \u001b[30m\u001b[49m  2 \u001b[30m\u001b[49m  2 \n",
            "\u001b[30m\u001b[49m  2 \u001b[30m\u001b[49m  2 \u001b[30m\u001b[49m  2 \u001b[30m\u001b[49m  2 \u001b[30m\u001b[49m  2 \u001b[30m\u001b[49m  2 \u001b[30m\u001b[49m  2 \u001b[30m\u001b[49m  2 \u001b[30m\u001b[49m  2 \u001b[30m\u001b[49m  2 \u001b[30m\u001b[49m  2 \u001b[30m\u001b[49m  2 \u001b[30m\u001b[49m  2 \u001b[30m\u001b[49m  2 \u001b[30m\u001b[49m  2 \u001b[30m\u001b[49m  2 \u001b[30m\u001b[49m  2 \u001b[30m\u001b[49m  2 \u001b[30m\u001b[49m  2 \u001b[30m\u001b[49m  2 \u001b[30m\u001b[49m  2 \u001b[30m\u001b[49m  2 \u001b[30m\u001b[49m  2 \u001b[30m\u001b[49m  2 \u001b[30m\u001b[49m  2 \u001b[30m\u001b[49m  2 \u001b[30m\u001b[49m  2 \u001b[30m\u001b[49m  2 \n",
            "\u001b[30m\u001b[49m  2 \u001b[30m\u001b[49m  2 \u001b[30m\u001b[49m  2 \u001b[30m\u001b[49m  2 \u001b[30m\u001b[49m  2 \u001b[30m\u001b[49m  2 \u001b[30m\u001b[49m  2 \u001b[30m\u001b[49m  2 \u001b[30m\u001b[49m  2 \u001b[30m\u001b[49m  2 \u001b[30m\u001b[49m  2 \u001b[30m\u001b[49m  2 \u001b[30m\u001b[49m  2 \u001b[30m\u001b[49m  2 \u001b[30m\u001b[49m  2 \u001b[30m\u001b[49m  2 \u001b[30m\u001b[49m  2 \u001b[30m\u001b[49m  2 \u001b[30m\u001b[49m  2 \u001b[30m\u001b[49m  2 \u001b[30m\u001b[49m  2 \u001b[30m\u001b[49m  2 \u001b[30m\u001b[49m  2 \u001b[30m\u001b[49m  2 \u001b[30m\u001b[49m  2 \u001b[30m\u001b[49m  2 \u001b[30m\u001b[49m  2 \u001b[30m\u001b[49m  2 \n",
            "\u001b[30m\u001b[49m  2 \u001b[30m\u001b[49m  2 \u001b[30m\u001b[49m  2 \u001b[30m\u001b[49m  2 \u001b[30m\u001b[49m  2 \u001b[30m\u001b[49m  2 \u001b[30m\u001b[49m  2 \u001b[30m\u001b[49m  2 \u001b[30m\u001b[49m  2 \u001b[30m\u001b[49m  2 \u001b[30m\u001b[49m  2 \u001b[30m\u001b[49m  2 \u001b[30m\u001b[49m  2 \u001b[30m\u001b[49m  2 \u001b[30m\u001b[49m  2 \u001b[30m\u001b[49m  2 \u001b[30m\u001b[49m  2 \u001b[30m\u001b[49m  2 \u001b[30m\u001b[49m  2 \u001b[30m\u001b[49m  2 \u001b[30m\u001b[49m  2 \u001b[30m\u001b[49m  2 \u001b[30m\u001b[49m  2 \u001b[30m\u001b[49m  2 \u001b[30m\u001b[49m  2 \u001b[30m\u001b[49m  2 \u001b[30m\u001b[49m  2 \u001b[30m\u001b[49m  2 \n",
            "\n",
            "Number White Regions = Highest Marked number( 3 ) - 1 =  2\n"
          ],
          "name": "stdout"
        }
      ]
    },
    {
      "cell_type": "markdown",
      "metadata": {
        "id": "inkXgr-F9AdG",
        "colab_type": "text"
      },
      "source": [
        "# Calculate Regions, Height, Width, White-Pixel-Count on All Training Images"
      ]
    },
    {
      "cell_type": "code",
      "metadata": {
        "id": "VSHAedqe9ESN",
        "colab_type": "code",
        "colab": {}
      },
      "source": [
        "if(recompute):\n",
        "    start = time.time()\n",
        "    qty = len(train_images)\n",
        "    train_regions = np.zeros((qty,1))\n",
        "    train_height = np.zeros((qty,1))\n",
        "    train_width = np.zeros((qty,1))\n",
        "    train_white_pixels = np.zeros((qty,1))\n",
        "\n",
        "    for i in range(qty):\n",
        "        train_regions[i,0] = number_regions(train_images[i])\n",
        "        (train_height[i,0],train_width[i,0],train_white_pixels[i,0]) = img_size_intensity(train_images[i])\n",
        "    end = time.time()\n",
        "    hours, rem = divmod(end-start, 3600)\n",
        "    minutes, seconds = divmod(rem, 60)\n",
        "    print(\"Run Time = {:0>2}:{:0>2}:{:05.2f} for {:,d} images\\n\".format(int(hours),int(minutes),seconds, qty))\n"
      ],
      "execution_count": 0,
      "outputs": []
    },
    {
      "cell_type": "markdown",
      "metadata": {
        "id": "tAVUmqV19npa",
        "colab_type": "text"
      },
      "source": [
        "# Calculate Regions, Height, Width, White-Pixel-Count on All Testing Images"
      ]
    },
    {
      "cell_type": "code",
      "metadata": {
        "id": "kuUA1NmY9qf1",
        "colab_type": "code",
        "colab": {}
      },
      "source": [
        "if(recompute):\n",
        "    start = time.time()\n",
        "    qty2 = len(test_images)\n",
        "    test_regions = np.zeros((qty2,1))\n",
        "    test_height = np.zeros((qty2,1))\n",
        "    test_width = np.zeros((qty2,1))\n",
        "    test_white_pixels = np.zeros((qty2,1))\n",
        "\n",
        "    for i in range(qty2):\n",
        "        test_regions[i,0] = number_regions(test_images[i])\n",
        "        (test_height[i,0],test_width[i,0],test_white_pixels[i,0]) = img_size_intensity(test_images[i])\n",
        "    end = time.time()\n",
        "    hours, rem = divmod(end-start, 3600)\n",
        "    minutes, seconds = divmod(rem, 60)\n",
        "    print(\"Run Time = {:0>2}:{:0>2}:{:05.2f} for {:,d} images\\n\".format(int(hours),int(minutes),seconds, qty2))"
      ],
      "execution_count": 0,
      "outputs": []
    },
    {
      "cell_type": "markdown",
      "metadata": {
        "id": "WQ5M3moU1nI4",
        "colab_type": "text"
      },
      "source": [
        "# Save Values for Repeat Runs"
      ]
    },
    {
      "cell_type": "code",
      "metadata": {
        "id": "BePAZCi61xTM",
        "colab_type": "code",
        "outputId": "635a512e-dd11-4c41-a214-8b3232ac4d97",
        "colab": {
          "base_uri": "https://localhost:8080/",
          "height": 35
        }
      },
      "source": [
        "from google.colab import files,drive\n",
        "\n",
        "drive.mount('/content/drive')\n",
        "if (recompute):\n",
        "    np.save('/content/drive/My Drive/Colab Notebooks/CAP4630/HW2/file1.npy', train_regions) \n",
        "    np.save('/content/drive/My Drive/Colab Notebooks/CAP4630/HW2/file2.npy', train_height)\n",
        "    np.save('/content/drive/My Drive/Colab Notebooks/CAP4630/HW2/file3.npy', train_width)\n",
        "    np.save('/content/drive/My Drive/Colab Notebooks/CAP4630/HW2/file4.npy', train_white_pixels)\n",
        "    np.save('/content/drive/My Drive/Colab Notebooks/CAP4630/HW2/file5.npy', test_regions) \n",
        "    np.save('/content/drive/My Drive/Colab Notebooks/CAP4630/HW2/file6.npy', test_height)\n",
        "    np.save('/content/drive/My Drive/Colab Notebooks/CAP4630/HW2/file7.npy', test_width)\n",
        "    np.save('/content/drive/My Drive/Colab Notebooks/CAP4630/HW2/file8.npy', test_white_pixels)  \n",
        "else:\n",
        "    train_regions = np.load('/content/drive/My Drive/Colab Notebooks/CAP4630/HW2/file1.npy') \n",
        "    train_height = np.load('/content/drive/My Drive/Colab Notebooks/CAP4630/HW2/file2.npy')\n",
        "    train_width = np.load('/content/drive/My Drive/Colab Notebooks/CAP4630/HW2/file3.npy')\n",
        "    train_white_pixels = np.load('/content/drive/My Drive/Colab Notebooks/CAP4630/HW2/file4.npy')\n",
        "    test_regions = np.load('/content/drive/My Drive/Colab Notebooks/CAP4630/HW2/file5.npy') \n",
        "    test_height = np.load('/content/drive/My Drive/Colab Notebooks/CAP4630/HW2/file6.npy')\n",
        "    test_width = np.load('/content/drive/My Drive/Colab Notebooks/CAP4630/HW2/file7.npy')\n",
        "    test_white_pixels = np.load('/content/drive/My Drive/Colab Notebooks/CAP4630/HW2/file8.npy')    "
      ],
      "execution_count": 0,
      "outputs": [
        {
          "output_type": "stream",
          "text": [
            "Drive already mounted at /content/drive; to attempt to forcibly remount, call drive.mount(\"/content/drive\", force_remount=True).\n"
          ],
          "name": "stdout"
        }
      ]
    },
    {
      "cell_type": "markdown",
      "metadata": {
        "id": "M6WcAXCjAjDS",
        "colab_type": "text"
      },
      "source": [
        "# Display New Features for First 50 Training Images"
      ]
    },
    {
      "cell_type": "code",
      "metadata": {
        "id": "D959b5JGArt3",
        "colab_type": "code",
        "outputId": "0a37578a-4b5a-4d1e-a0d3-89eedd6c087a",
        "colab": {
          "base_uri": "https://localhost:8080/",
          "height": 915
        }
      },
      "source": [
        "print(\"Hand Features for First 50 Training Images\")\n",
        "\n",
        "for j in range(50):\n",
        "  print(\"Index:%05d  Label-%d  Regions-%d  Height-%2d  Width-%2d  White=%3d\" %(j, \n",
        "    train_labels[j], train_regions[j,0], train_height[j,0], train_width[j,0], train_white_pixels[j,0] ))"
      ],
      "execution_count": 0,
      "outputs": [
        {
          "output_type": "stream",
          "text": [
            "Hand Features for First 50 Training Images\n",
            "Index:00000  Label-5  Regions-1  Height-20  Width-19  White=673\n",
            "Index:00001  Label-0  Regions-2  Height-20  Width-16  White=659\n",
            "Index:00002  Label-4  Regions-1  Height-20  Width-19  White=703\n",
            "Index:00003  Label-1  Regions-1  Height-20  Width-12  White=718\n",
            "Index:00004  Label-9  Regions-2  Height-20  Width-14  White=693\n",
            "Index:00005  Label-2  Regions-2  Height-17  Width-20  White=671\n",
            "Index:00006  Label-1  Regions-1  Height-20  Width- 6  White=717\n",
            "Index:00007  Label-3  Regions-1  Height-20  Width-17  White=641\n",
            "Index:00008  Label-1  Regions-1  Height-20  Width- 4  White=739\n",
            "Index:00009  Label-4  Regions-1  Height-20  Width-18  White=697\n",
            "Index:00010  Label-3  Regions-1  Height-20  Width-13  White=674\n",
            "Index:00011  Label-5  Regions-1  Height-14  Width-20  White=725\n",
            "Index:00012  Label-3  Regions-1  Height-20  Width-20  White=640\n",
            "Index:00013  Label-6  Regions-2  Height-20  Width-15  White=671\n",
            "Index:00014  Label-1  Regions-1  Height-20  Width- 4  White=743\n",
            "Index:00015  Label-7  Regions-1  Height-20  Width-16  White=685\n",
            "Index:00016  Label-2  Regions-2  Height-18  Width-20  White=681\n",
            "Index:00017  Label-8  Regions-3  Height-20  Width-15  White=674\n",
            "Index:00018  Label-6  Regions-1  Height-20  Width-10  White=733\n",
            "Index:00019  Label-9  Regions-2  Height-20  Width-12  White=714\n",
            "Index:00020  Label-4  Regions-1  Height-20  Width-19  White=653\n",
            "Index:00021  Label-0  Regions-2  Height-20  Width-17  White=651\n",
            "Index:00022  Label-9  Regions-3  Height-20  Width-10  White=724\n",
            "Index:00023  Label-1  Regions-1  Height-20  Width-12  White=720\n",
            "Index:00024  Label-1  Regions-1  Height-20  Width-15  White=698\n",
            "Index:00025  Label-2  Regions-1  Height-20  Width-18  White=628\n",
            "Index:00026  Label-4  Regions-1  Height-20  Width-10  White=726\n",
            "Index:00027  Label-3  Regions-1  Height-20  Width-18  White=603\n",
            "Index:00028  Label-2  Regions-1  Height-20  Width-20  White=622\n",
            "Index:00029  Label-7  Regions-1  Height-14  Width-12  White=726\n",
            "Index:00030  Label-3  Regions-2  Height-16  Width-20  White=679\n",
            "Index:00031  Label-8  Regions-3  Height-20  Width-18  White=656\n",
            "Index:00032  Label-6  Regions-1  Height-20  Width-12  White=714\n",
            "Index:00033  Label-9  Regions-2  Height-20  Width-15  White=702\n",
            "Index:00034  Label-0  Regions-2  Height-20  Width-12  White=645\n",
            "Index:00035  Label-5  Regions-1  Height-16  Width-20  White=717\n",
            "Index:00036  Label-6  Regions-2  Height-20  Width-12  White=657\n",
            "Index:00037  Label-0  Regions-2  Height-20  Width-16  White=634\n",
            "Index:00038  Label-7  Regions-1  Height-16  Width-19  White=704\n",
            "Index:00039  Label-6  Regions-2  Height-20  Width-12  White=676\n",
            "Index:00040  Label-1  Regions-1  Height-20  Width- 5  White=725\n",
            "Index:00041  Label-8  Regions-4  Height-20  Width-14  White=667\n",
            "Index:00042  Label-7  Regions-1  Height-20  Width-10  White=732\n",
            "Index:00043  Label-9  Regions-2  Height-20  Width-10  White=713\n",
            "Index:00044  Label-3  Regions-1  Height-20  Width-14  White=714\n",
            "Index:00045  Label-9  Regions-2  Height-20  Width-14  White=686\n",
            "Index:00046  Label-8  Regions-4  Height-20  Width-12  White=696\n",
            "Index:00047  Label-5  Regions-1  Height-18  Width-20  White=685\n",
            "Index:00048  Label-9  Regions-2  Height-20  Width- 8  White=718\n",
            "Index:00049  Label-3  Regions-2  Height-20  Width-16  White=661\n"
          ],
          "name": "stdout"
        }
      ]
    },
    {
      "cell_type": "markdown",
      "metadata": {
        "id": "HHcCOK3BLLcL",
        "colab_type": "text"
      },
      "source": [
        "# Normalize Hand Features to Between 0 and 1"
      ]
    },
    {
      "cell_type": "code",
      "metadata": {
        "id": "A2WfU0bRLRZ0",
        "colab_type": "code",
        "outputId": "eeee348f-cb8c-43f2-cec8-570b4159ed34",
        "colab": {
          "base_uri": "https://localhost:8080/",
          "height": 967
        }
      },
      "source": [
        "# Can convert Features to range 0 .. 1 instead of INTs with dividing by Max Size\n",
        "print(\"Highest Training Region Count: \" , np.amax(train_regions)) \n",
        "print(\"Found at Train_Images[index]: \", np.where(train_regions == np.amax(train_regions))) \n",
        "print()\n",
        "\n",
        "train_regions = train_regions.astype('float32') / np.amax(train_regions)\n",
        "train_height = train_height.astype('float32') / 28\n",
        "train_width = train_width.astype('float32') / 28\n",
        "train_white_pixels = train_white_pixels.astype('float32') / (28 * 28)\n",
        "\n",
        "print(\"Normalized Hand Features for First 50 Training Images\")\n",
        "for j in range(50):\n",
        "  print(\"Index:%05d  Label-%d  Regions-%.4f  Height-%.4f  Width-%.4f  White=%.4f\" %(j, \n",
        "    train_labels[j], train_regions[j,0], train_height[j,0], train_width[j,0], train_white_pixels[j,0] ))\n",
        "  \n",
        "test_regions = test_regions.astype('float32') / np.amax(test_regions)\n",
        "test_height = test_height.astype('float32') / 28\n",
        "test_width = test_width.astype('float32') / 28\n",
        "test_white_pixels = test_white_pixels.astype('float32') / (28 * 28)\n"
      ],
      "execution_count": 0,
      "outputs": [
        {
          "output_type": "stream",
          "text": [
            "Highest Training Region Count:  8.0\n",
            "Found at Train_Images[index]:  (array([45417]), array([0]))\n",
            "\n",
            "Normalized Hand Features for First 50 Training Images\n",
            "Index:00000  Label-5  Regions-0.1250  Height-0.7143  Width-0.6786  White=0.8584\n",
            "Index:00001  Label-0  Regions-0.2500  Height-0.7143  Width-0.5714  White=0.8406\n",
            "Index:00002  Label-4  Regions-0.1250  Height-0.7143  Width-0.6786  White=0.8967\n",
            "Index:00003  Label-1  Regions-0.1250  Height-0.7143  Width-0.4286  White=0.9158\n",
            "Index:00004  Label-9  Regions-0.2500  Height-0.7143  Width-0.5000  White=0.8839\n",
            "Index:00005  Label-2  Regions-0.2500  Height-0.6071  Width-0.7143  White=0.8559\n",
            "Index:00006  Label-1  Regions-0.1250  Height-0.7143  Width-0.2143  White=0.9145\n",
            "Index:00007  Label-3  Regions-0.1250  Height-0.7143  Width-0.6071  White=0.8176\n",
            "Index:00008  Label-1  Regions-0.1250  Height-0.7143  Width-0.1429  White=0.9426\n",
            "Index:00009  Label-4  Regions-0.1250  Height-0.7143  Width-0.6429  White=0.8890\n",
            "Index:00010  Label-3  Regions-0.1250  Height-0.7143  Width-0.4643  White=0.8597\n",
            "Index:00011  Label-5  Regions-0.1250  Height-0.5000  Width-0.7143  White=0.9247\n",
            "Index:00012  Label-3  Regions-0.1250  Height-0.7143  Width-0.7143  White=0.8163\n",
            "Index:00013  Label-6  Regions-0.2500  Height-0.7143  Width-0.5357  White=0.8559\n",
            "Index:00014  Label-1  Regions-0.1250  Height-0.7143  Width-0.1429  White=0.9477\n",
            "Index:00015  Label-7  Regions-0.1250  Height-0.7143  Width-0.5714  White=0.8737\n",
            "Index:00016  Label-2  Regions-0.2500  Height-0.6429  Width-0.7143  White=0.8686\n",
            "Index:00017  Label-8  Regions-0.3750  Height-0.7143  Width-0.5357  White=0.8597\n",
            "Index:00018  Label-6  Regions-0.1250  Height-0.7143  Width-0.3571  White=0.9349\n",
            "Index:00019  Label-9  Regions-0.2500  Height-0.7143  Width-0.4286  White=0.9107\n",
            "Index:00020  Label-4  Regions-0.1250  Height-0.7143  Width-0.6786  White=0.8329\n",
            "Index:00021  Label-0  Regions-0.2500  Height-0.7143  Width-0.6071  White=0.8304\n",
            "Index:00022  Label-9  Regions-0.3750  Height-0.7143  Width-0.3571  White=0.9235\n",
            "Index:00023  Label-1  Regions-0.1250  Height-0.7143  Width-0.4286  White=0.9184\n",
            "Index:00024  Label-1  Regions-0.1250  Height-0.7143  Width-0.5357  White=0.8903\n",
            "Index:00025  Label-2  Regions-0.1250  Height-0.7143  Width-0.6429  White=0.8010\n",
            "Index:00026  Label-4  Regions-0.1250  Height-0.7143  Width-0.3571  White=0.9260\n",
            "Index:00027  Label-3  Regions-0.1250  Height-0.7143  Width-0.6429  White=0.7691\n",
            "Index:00028  Label-2  Regions-0.1250  Height-0.7143  Width-0.7143  White=0.7934\n",
            "Index:00029  Label-7  Regions-0.1250  Height-0.5000  Width-0.4286  White=0.9260\n",
            "Index:00030  Label-3  Regions-0.2500  Height-0.5714  Width-0.7143  White=0.8661\n",
            "Index:00031  Label-8  Regions-0.3750  Height-0.7143  Width-0.6429  White=0.8367\n",
            "Index:00032  Label-6  Regions-0.1250  Height-0.7143  Width-0.4286  White=0.9107\n",
            "Index:00033  Label-9  Regions-0.2500  Height-0.7143  Width-0.5357  White=0.8954\n",
            "Index:00034  Label-0  Regions-0.2500  Height-0.7143  Width-0.4286  White=0.8227\n",
            "Index:00035  Label-5  Regions-0.1250  Height-0.5714  Width-0.7143  White=0.9145\n",
            "Index:00036  Label-6  Regions-0.2500  Height-0.7143  Width-0.4286  White=0.8380\n",
            "Index:00037  Label-0  Regions-0.2500  Height-0.7143  Width-0.5714  White=0.8087\n",
            "Index:00038  Label-7  Regions-0.1250  Height-0.5714  Width-0.6786  White=0.8980\n",
            "Index:00039  Label-6  Regions-0.2500  Height-0.7143  Width-0.4286  White=0.8622\n",
            "Index:00040  Label-1  Regions-0.1250  Height-0.7143  Width-0.1786  White=0.9247\n",
            "Index:00041  Label-8  Regions-0.5000  Height-0.7143  Width-0.5000  White=0.8508\n",
            "Index:00042  Label-7  Regions-0.1250  Height-0.7143  Width-0.3571  White=0.9337\n",
            "Index:00043  Label-9  Regions-0.2500  Height-0.7143  Width-0.3571  White=0.9094\n",
            "Index:00044  Label-3  Regions-0.1250  Height-0.7143  Width-0.5000  White=0.9107\n",
            "Index:00045  Label-9  Regions-0.2500  Height-0.7143  Width-0.5000  White=0.8750\n",
            "Index:00046  Label-8  Regions-0.5000  Height-0.7143  Width-0.4286  White=0.8878\n",
            "Index:00047  Label-5  Regions-0.1250  Height-0.6429  Width-0.7143  White=0.8737\n",
            "Index:00048  Label-9  Regions-0.2500  Height-0.7143  Width-0.2857  White=0.9158\n",
            "Index:00049  Label-3  Regions-0.2500  Height-0.7143  Width-0.5714  White=0.8431\n"
          ],
          "name": "stdout"
        }
      ]
    },
    {
      "cell_type": "code",
      "metadata": {
        "id": "lr8YmUni6zt8",
        "colab_type": "code",
        "outputId": "72f4a1b4-3063-4f3a-9f20-af900043acf6",
        "colab": {
          "base_uri": "https://localhost:8080/",
          "height": 35
        }
      },
      "source": [
        "train_height.shape"
      ],
      "execution_count": 0,
      "outputs": [
        {
          "output_type": "execute_result",
          "data": {
            "text/plain": [
              "(60000, 1)"
            ]
          },
          "metadata": {
            "tags": []
          },
          "execution_count": 11
        }
      ]
    },
    {
      "cell_type": "markdown",
      "metadata": {
        "id": "HvRA7fWewfSf",
        "colab_type": "text"
      },
      "source": [
        "# Prepare image data for Classification with Dense Layers"
      ]
    },
    {
      "cell_type": "code",
      "metadata": {
        "id": "p0jAJpLfwnlj",
        "colab_type": "code",
        "outputId": "d61cec6b-60ee-4a51-f356-7cab5ebc54ee",
        "colab": {
          "base_uri": "https://localhost:8080/",
          "height": 52
        }
      },
      "source": [
        "train_images_new = train_images.reshape((60000, 28 * 28))\n",
        "train_images_new = train_images_new.astype('float32') / 255\n",
        "\n",
        "test_images_new = test_images.reshape((10000, 28 * 28))\n",
        "test_images_new = test_images_new.astype('float32') / 255\n",
        "\n",
        "print(\"train_images_new.shape: \", train_images_new.shape)\n",
        "print(\"test_images_new.shape: \", test_images_new.shape)"
      ],
      "execution_count": 0,
      "outputs": [
        {
          "output_type": "stream",
          "text": [
            "train_images_new.shape:  (60000, 784)\n",
            "test_images_new.shape:  (10000, 784)\n"
          ],
          "name": "stdout"
        }
      ]
    },
    {
      "cell_type": "markdown",
      "metadata": {
        "id": "j1YhKQiNB2pX",
        "colab_type": "text"
      },
      "source": [
        "# Add the 4 Hand Crafted Features"
      ]
    },
    {
      "cell_type": "code",
      "metadata": {
        "id": "cxJiOKHQB74B",
        "colab_type": "code",
        "outputId": "370de269-235f-4b39-ab6a-ede706c3cca2",
        "colab": {
          "base_uri": "https://localhost:8080/",
          "height": 52
        }
      },
      "source": [
        "train_images_new = np.concatenate((train_images_new,train_regions), axis = 1)\n",
        "train_images_new = np.concatenate((train_images_new,train_height), axis = 1)\n",
        "train_images_new = np.concatenate((train_images_new,train_width), axis = 1)\n",
        "train_images_new = np.concatenate((train_images_new,train_white_pixels), axis = 1)\n",
        "\n",
        "test_images_new = np.concatenate((test_images_new,test_regions), axis = 1)\n",
        "test_images_new = np.concatenate((test_images_new,test_height), axis = 1)\n",
        "test_images_new = np.concatenate((test_images_new,test_width), axis = 1)\n",
        "test_images_new = np.concatenate((test_images_new,test_white_pixels), axis = 1)\n",
        "print(\"train_images_new.shape: \", train_images_new.shape)\n",
        "print(\"test_images_new.shape: \", test_images_new.shape)"
      ],
      "execution_count": 0,
      "outputs": [
        {
          "output_type": "stream",
          "text": [
            "train_images_new.shape:  (60000, 788)\n",
            "test_images_new.shape:  (10000, 788)\n"
          ],
          "name": "stdout"
        }
      ]
    },
    {
      "cell_type": "markdown",
      "metadata": {
        "id": "AlVuZWX1w6wc",
        "colab_type": "text"
      },
      "source": [
        "# Preparing the Labels"
      ]
    },
    {
      "cell_type": "code",
      "metadata": {
        "id": "CAuEzUEGw-V-",
        "colab_type": "code",
        "colab": {}
      },
      "source": [
        "from keras.utils import to_categorical\n",
        "\n",
        "train_labels_new = to_categorical(train_labels)\n",
        "test_labels_new = to_categorical(test_labels)"
      ],
      "execution_count": 0,
      "outputs": []
    },
    {
      "cell_type": "markdown",
      "metadata": {
        "id": "YWh725eK1vKj",
        "colab_type": "text"
      },
      "source": [
        "# Diplaying some of the original and prepared image data and labels"
      ]
    },
    {
      "cell_type": "code",
      "metadata": {
        "id": "lPW01kKT1z4g",
        "colab_type": "code",
        "outputId": "4e16e6c4-ad36-45dc-b0b5-022eaacefa22",
        "colab": {
          "base_uri": "https://localhost:8080/",
          "height": 35
        }
      },
      "source": [
        "train_images_new.shape"
      ],
      "execution_count": 0,
      "outputs": [
        {
          "output_type": "execute_result",
          "data": {
            "text/plain": [
              "(60000, 788)"
            ]
          },
          "metadata": {
            "tags": []
          },
          "execution_count": 15
        }
      ]
    },
    {
      "cell_type": "code",
      "metadata": {
        "id": "0KQXFCmB13l6",
        "colab_type": "code",
        "outputId": "431964da-775d-48f0-a789-8c179168c046",
        "colab": {
          "base_uri": "https://localhost:8080/",
          "height": 35
        }
      },
      "source": [
        "train_images.shape"
      ],
      "execution_count": 0,
      "outputs": [
        {
          "output_type": "execute_result",
          "data": {
            "text/plain": [
              "(60000, 28, 28)"
            ]
          },
          "metadata": {
            "tags": []
          },
          "execution_count": 16
        }
      ]
    },
    {
      "cell_type": "code",
      "metadata": {
        "id": "SquBi_XA2BYf",
        "colab_type": "code",
        "outputId": "8a055dcb-3473-416d-e4e6-870c909aa39b",
        "colab": {
          "base_uri": "https://localhost:8080/",
          "height": 265
        }
      },
      "source": [
        "import matplotlib.pyplot as plt\n",
        "plt.imshow(train_images[ind])\n",
        "plt.show()"
      ],
      "execution_count": 0,
      "outputs": [
        {
          "output_type": "display_data",
          "data": {
            "image/png": "[encoded data removed]",
            "text/plain": [
              "<Figure size 432x288 with 1 Axes>"
            ]
          },
          "metadata": {
            "tags": []
          }
        }
      ]
    },
    {
      "cell_type": "code",
      "metadata": {
        "id": "hLM8ucuc2EO6",
        "colab_type": "code",
        "outputId": "4d99b91d-310c-4305-ac30-559b8ea6df60",
        "colab": {
          "base_uri": "https://localhost:8080/",
          "height": 35
        }
      },
      "source": [
        "train_labels_new.shape"
      ],
      "execution_count": 0,
      "outputs": [
        {
          "output_type": "execute_result",
          "data": {
            "text/plain": [
              "(60000, 10)"
            ]
          },
          "metadata": {
            "tags": []
          },
          "execution_count": 18
        }
      ]
    },
    {
      "cell_type": "code",
      "metadata": {
        "id": "VClKSljG2LdR",
        "colab_type": "code",
        "outputId": "5f04c154-acb0-4ff3-dfb0-c5488919bbd0",
        "colab": {
          "base_uri": "https://localhost:8080/",
          "height": 35
        }
      },
      "source": [
        "train_labels_new[ind]"
      ],
      "execution_count": 0,
      "outputs": [
        {
          "output_type": "execute_result",
          "data": {
            "text/plain": [
              "array([0., 0., 1., 0., 0., 0., 0., 0., 0., 0.], dtype=float32)"
            ]
          },
          "metadata": {
            "tags": []
          },
          "execution_count": 19
        }
      ]
    },
    {
      "cell_type": "code",
      "metadata": {
        "id": "gsmRsyMg2SnQ",
        "colab_type": "code",
        "outputId": "bbf60b5a-3cdf-43fb-cff6-dafff00ea580",
        "colab": {
          "base_uri": "https://localhost:8080/",
          "height": 35
        }
      },
      "source": [
        "np.argmax(train_labels_new[ind])"
      ],
      "execution_count": 0,
      "outputs": [
        {
          "output_type": "execute_result",
          "data": {
            "text/plain": [
              "2"
            ]
          },
          "metadata": {
            "tags": []
          },
          "execution_count": 20
        }
      ]
    },
    {
      "cell_type": "code",
      "metadata": {
        "id": "fTAYoceY2XjQ",
        "colab_type": "code",
        "outputId": "881a937a-825c-46d5-b0a3-e7c47c155fde",
        "colab": {
          "base_uri": "https://localhost:8080/",
          "height": 35
        }
      },
      "source": [
        "train_labels[ind]"
      ],
      "execution_count": 0,
      "outputs": [
        {
          "output_type": "execute_result",
          "data": {
            "text/plain": [
              "2"
            ]
          },
          "metadata": {
            "tags": []
          },
          "execution_count": 21
        }
      ]
    },
    {
      "cell_type": "markdown",
      "metadata": {
        "id": "MJHAqYuexMFz",
        "colab_type": "text"
      },
      "source": [
        "# The Network Architecture"
      ]
    },
    {
      "cell_type": "code",
      "metadata": {
        "id": "Lwxf-ZtmxPn4",
        "colab_type": "code",
        "outputId": "0d461903-3844-4cd7-bce7-86ea91072f95",
        "colab": {
          "base_uri": "https://localhost:8080/",
          "height": 354
        }
      },
      "source": [
        "from keras import models\n",
        "from keras import layers\n",
        "\n",
        "# HW Instructions limit to single dense layer followed bu softmax\n",
        "network = models.Sequential()\n",
        "network.add(layers.Dense(512, activation='relu', input_shape=(788,)))\n",
        "network.add(layers.Dense(10, activation='softmax'))\n",
        "network.summary()"
      ],
      "execution_count": 0,
      "outputs": [
        {
          "output_type": "stream",
          "text": [
            "WARNING:tensorflow:From /usr/local/lib/python3.6/dist-packages/keras/backend/tensorflow_backend.py:66: The name tf.get_default_graph is deprecated. Please use tf.compat.v1.get_default_graph instead.\n",
            "\n",
            "WARNING:tensorflow:From /usr/local/lib/python3.6/dist-packages/keras/backend/tensorflow_backend.py:541: The name tf.placeholder is deprecated. Please use tf.compat.v1.placeholder instead.\n",
            "\n",
            "WARNING:tensorflow:From /usr/local/lib/python3.6/dist-packages/keras/backend/tensorflow_backend.py:4432: The name tf.random_uniform is deprecated. Please use tf.random.uniform instead.\n",
            "\n",
            "Model: \"sequential_1\"\n",
            "_________________________________________________________________\n",
            "Layer (type)                 Output Shape              Param #   \n",
            "=================================================================\n",
            "dense_1 (Dense)              (None, 512)               403968    \n",
            "_________________________________________________________________\n",
            "dense_2 (Dense)              (None, 10)                5130      \n",
            "=================================================================\n",
            "Total params: 409,098\n",
            "Trainable params: 409,098\n",
            "Non-trainable params: 0\n",
            "_________________________________________________________________\n"
          ],
          "name": "stdout"
        }
      ]
    },
    {
      "cell_type": "markdown",
      "metadata": {
        "id": "VhFkUGPXxWLM",
        "colab_type": "text"
      },
      "source": [
        "# The Compilation Step"
      ]
    },
    {
      "cell_type": "code",
      "metadata": {
        "id": "EgF6uSwxxZB0",
        "colab_type": "code",
        "outputId": "bf929efb-58f9-4473-84de-095546fbcdd3",
        "colab": {
          "base_uri": "https://localhost:8080/",
          "height": 87
        }
      },
      "source": [
        "network.compile(optimizer='rmsprop',\n",
        "                loss='categorical_crossentropy',\n",
        "                metrics=['accuracy'])"
      ],
      "execution_count": 0,
      "outputs": [
        {
          "output_type": "stream",
          "text": [
            "WARNING:tensorflow:From /usr/local/lib/python3.6/dist-packages/keras/optimizers.py:793: The name tf.train.Optimizer is deprecated. Please use tf.compat.v1.train.Optimizer instead.\n",
            "\n",
            "WARNING:tensorflow:From /usr/local/lib/python3.6/dist-packages/keras/backend/tensorflow_backend.py:3576: The name tf.log is deprecated. Please use tf.math.log instead.\n",
            "\n"
          ],
          "name": "stdout"
        }
      ]
    },
    {
      "cell_type": "markdown",
      "metadata": {
        "id": "y0NqRsD4xeRS",
        "colab_type": "text"
      },
      "source": [
        "# The Training Step"
      ]
    },
    {
      "cell_type": "code",
      "metadata": {
        "id": "EJWE0EAoxhjZ",
        "colab_type": "code",
        "outputId": "b9889176-efd6-4a99-adf4-efba305b99cd",
        "colab": {
          "base_uri": "https://localhost:8080/",
          "height": 741
        }
      },
      "source": [
        "epochs = 10\n",
        "history = network.fit(train_images_new, \n",
        "                      train_labels_new, \n",
        "                      epochs=epochs, \n",
        "                      batch_size=128, \n",
        "                      validation_data=(test_images_new, test_labels_new))"
      ],
      "execution_count": 0,
      "outputs": [
        {
          "output_type": "stream",
          "text": [
            "WARNING:tensorflow:From /usr/local/lib/python3.6/dist-packages/tensorflow_core/python/ops/math_grad.py:1424: where (from tensorflow.python.ops.array_ops) is deprecated and will be removed in a future version.\n",
            "Instructions for updating:\n",
            "Use tf.where in 2.0, which has the same broadcast rule as np.where\n",
            "WARNING:tensorflow:From /usr/local/lib/python3.6/dist-packages/keras/backend/tensorflow_backend.py:1033: The name tf.assign_add is deprecated. Please use tf.compat.v1.assign_add instead.\n",
            "\n",
            "WARNING:tensorflow:From /usr/local/lib/python3.6/dist-packages/keras/backend/tensorflow_backend.py:1020: The name tf.assign is deprecated. Please use tf.compat.v1.assign instead.\n",
            "\n",
            "WARNING:tensorflow:From /usr/local/lib/python3.6/dist-packages/keras/backend/tensorflow_backend.py:3005: The name tf.Session is deprecated. Please use tf.compat.v1.Session instead.\n",
            "\n",
            "Train on 60000 samples, validate on 10000 samples\n",
            "Epoch 1/10\n",
            "WARNING:tensorflow:From /usr/local/lib/python3.6/dist-packages/keras/backend/tensorflow_backend.py:190: The name tf.get_default_session is deprecated. Please use tf.compat.v1.get_default_session instead.\n",
            "\n",
            "WARNING:tensorflow:From /usr/local/lib/python3.6/dist-packages/keras/backend/tensorflow_backend.py:197: The name tf.ConfigProto is deprecated. Please use tf.compat.v1.ConfigProto instead.\n",
            "\n",
            "WARNING:tensorflow:From /usr/local/lib/python3.6/dist-packages/keras/backend/tensorflow_backend.py:207: The name tf.global_variables is deprecated. Please use tf.compat.v1.global_variables instead.\n",
            "\n",
            "WARNING:tensorflow:From /usr/local/lib/python3.6/dist-packages/keras/backend/tensorflow_backend.py:216: The name tf.is_variable_initialized is deprecated. Please use tf.compat.v1.is_variable_initialized instead.\n",
            "\n",
            "WARNING:tensorflow:From /usr/local/lib/python3.6/dist-packages/keras/backend/tensorflow_backend.py:223: The name tf.variables_initializer is deprecated. Please use tf.compat.v1.variables_initializer instead.\n",
            "\n",
            "60000/60000 [==============================] - 3s 52us/step - loss: 0.2527 - acc: 0.9271 - val_loss: 0.1273 - val_acc: 0.9609\n",
            "Epoch 2/10\n",
            "60000/60000 [==============================] - 2s 39us/step - loss: 0.0992 - acc: 0.9705 - val_loss: 0.0789 - val_acc: 0.9753\n",
            "Epoch 3/10\n",
            "60000/60000 [==============================] - 2s 39us/step - loss: 0.0651 - acc: 0.9802 - val_loss: 0.0711 - val_acc: 0.9778\n",
            "Epoch 4/10\n",
            "60000/60000 [==============================] - 2s 39us/step - loss: 0.0473 - acc: 0.9853 - val_loss: 0.0702 - val_acc: 0.9783\n",
            "Epoch 5/10\n",
            "60000/60000 [==============================] - 2s 38us/step - loss: 0.0358 - acc: 0.9896 - val_loss: 0.0584 - val_acc: 0.9822\n",
            "Epoch 6/10\n",
            "60000/60000 [==============================] - 2s 37us/step - loss: 0.0270 - acc: 0.9916 - val_loss: 0.0557 - val_acc: 0.9829\n",
            "Epoch 7/10\n",
            "60000/60000 [==============================] - 2s 39us/step - loss: 0.0207 - acc: 0.9938 - val_loss: 0.0668 - val_acc: 0.9812\n",
            "Epoch 8/10\n",
            "60000/60000 [==============================] - 2s 39us/step - loss: 0.0163 - acc: 0.9951 - val_loss: 0.0634 - val_acc: 0.9832\n",
            "Epoch 9/10\n",
            "60000/60000 [==============================] - 2s 40us/step - loss: 0.0128 - acc: 0.9963 - val_loss: 0.0612 - val_acc: 0.9827\n",
            "Epoch 10/10\n",
            "60000/60000 [==============================] - 2s 39us/step - loss: 0.0100 - acc: 0.9971 - val_loss: 0.0635 - val_acc: 0.9832\n"
          ],
          "name": "stdout"
        }
      ]
    },
    {
      "cell_type": "markdown",
      "metadata": {
        "id": "aYH5hVglx1Hn",
        "colab_type": "text"
      },
      "source": [
        "# Display the training/test loss/accuracy"
      ]
    },
    {
      "cell_type": "code",
      "metadata": {
        "id": "QIp6YyOox4GS",
        "colab_type": "code",
        "colab": {}
      },
      "source": [
        "history_dict = history.history\n",
        "loss_values = history_dict['loss']\n",
        "test_loss_values = history_dict['val_loss']\n",
        "epochs_range = range(1, epochs + 1)"
      ],
      "execution_count": 0,
      "outputs": []
    },
    {
      "cell_type": "code",
      "metadata": {
        "id": "FVv5UxIKyBMy",
        "colab_type": "code",
        "outputId": "75ea45a9-48f3-403d-c236-72449794b23e",
        "colab": {
          "base_uri": "https://localhost:8080/",
          "height": 295
        }
      },
      "source": [
        "plt.plot(epochs_range, loss_values, 'bo', label='Training loss')\n",
        "plt.plot(epochs_range, test_loss_values, 'ro', label='Test loss')\n",
        "plt.title('Training and test loss')\n",
        "plt.xlabel('Epochs')\n",
        "plt.ylabel('Loss')\n",
        "plt.legend()\n",
        "plt.show()"
      ],
      "execution_count": 0,
      "outputs": [
        {
          "output_type": "display_data",
          "data": {
            "image/png": "[encoded data removed]",
            "text/plain": [
              "<Figure size 432x288 with 1 Axes>"
            ]
          },
          "metadata": {
            "tags": []
          }
        }
      ]
    },
    {
      "cell_type": "code",
      "metadata": {
        "id": "u9XYi2jAyGuQ",
        "colab_type": "code",
        "colab": {}
      },
      "source": [
        "acc_values = history_dict['acc']\n",
        "test_acc_values = history_dict['val_acc']"
      ],
      "execution_count": 0,
      "outputs": []
    },
    {
      "cell_type": "code",
      "metadata": {
        "id": "CxEd8oYLyJad",
        "colab_type": "code",
        "outputId": "2b2083ac-260c-407f-86ec-0c2dd21b83e8",
        "colab": {
          "base_uri": "https://localhost:8080/",
          "height": 295
        }
      },
      "source": [
        "plt.plot(epochs_range, acc_values, 'bo', label='Training accuracy')\n",
        "plt.plot(epochs_range, test_acc_values, 'ro', label='Test accuracy')\n",
        "plt.title('Training and test accuracy')\n",
        "plt.xlabel('Epochs')\n",
        "plt.ylabel('Accuracy')\n",
        "plt.legend()\n",
        "plt.show()"
      ],
      "execution_count": 0,
      "outputs": [
        {
          "output_type": "display_data",
          "data": {
            "image/png": "[encoded data removed]",
            "text/plain": [
              "<Figure size 432x288 with 1 Axes>"
            ]
          },
          "metadata": {
            "tags": []
          }
        }
      ]
    },
    {
      "cell_type": "markdown",
      "metadata": {
        "id": "SrCXh1-xylIN",
        "colab_type": "text"
      },
      "source": [
        "## Overfitting\n",
        "\n",
        "As you can see, the training loss decreases with every epoch, and the training accuracy increases with every epoch. That's what you would expect when gradient descent optimization - the quantity you're trying to minimize should be less with every iteration.\n",
        "\n",
        "But this isn't the case for the training loss and accuracy: they seem to peak at the third epoch.\n",
        "\n",
        "This is an example of overfitting: a model that performs better on the training data isn't necessarily a model that performs better on data it has never seen before. You are overoptimizing on the training data, and you end up learning representations that are specific to the training data and don't generalize to data outside the training set."
      ]
    }
  ]
}